{
  "nbformat": 4,
  "nbformat_minor": 0,
  "metadata": {
    "colab": {
      "name": "Simulated Annealing",
      "provenance": [],
      "toc_visible": true,
      "authorship_tag": "ABX9TyOsDt+GvDqb8iDnnMY68rHq",
      "include_colab_link": true
    },
    "kernelspec": {
      "name": "python3",
      "display_name": "Python 3"
    },
    "language_info": {
      "name": "python"
    }
  },
  "cells": [
    {
      "cell_type": "markdown",
      "metadata": {
        "id": "view-in-github",
        "colab_type": "text"
      },
      "source": [
        "<a href=\"https://colab.research.google.com/github/mlwright84/magictriangles/blob/main/Simulated_Annealing.ipynb\" target=\"_parent\"><img src=\"https://colab.research.google.com/assets/colab-badge.svg\" alt=\"Open In Colab\"/></a>"
      ]
    },
    {
      "cell_type": "markdown",
      "metadata": {
        "id": "cnbfwl0zFWCa"
      },
      "source": [
        "# Finding Magic Triangles by Simulated Annealing \n",
        "\n",
        "by Gabriel Hale, Bjorn Vogen, and Matthew Wright\n",
        "\n",
        "This file contains the Python code to find magic triangles by simulated annealing. This was used to collect the data for Figure 6 in our *Magic Triangles* paper."
      ]
    },
    {
      "cell_type": "markdown",
      "metadata": {
        "id": "xSuMDXif9kPD"
      },
      "source": [
        "## Import modules and define magic triangle functions\n",
        "\n",
        "Note that an $n$-level triangular arrangement is stored as a list of $n^2$ entries, indexed left-to-right, bottom-to-top as in our paper (see Figure 2 in the paper). However, Python indexes start at 0, while indexes in the paper start at 1."
      ]
    },
    {
      "cell_type": "code",
      "metadata": {
        "id": "9ivwb4kktxms"
      },
      "source": [
        "import copy\n",
        "import numpy as np\n",
        "import math\n",
        "import random as rd\n",
        "import matplotlib.pyplot as plt\n",
        "import time\n",
        "import statistics as stats\n",
        "import pandas as pd\n",
        "\n",
        "# function to generate a random n-level triangle \n",
        "def generateRandomTriangle(n):                  \n",
        "    return rd.sample(range(1,n*n+1), n*n)\n",
        "\n",
        "# function to compute how far a given triangle is from a magic triangle\n",
        "def findDistFromMagic(tri):\n",
        "  n = int(math.sqrt(len(tri)))  # number of levels in triangle\n",
        "  \n",
        "  # horizontal row sums\n",
        "  horiz = [0]*n\n",
        "  for k in range(n):\n",
        "    #print(\"computing horizontal sum\", k)\n",
        "    for i in range(2*k*n - k*k, 2*(k+1)*(n-1)-k*k+1):\n",
        "      #print(\" \", i, end=\" \")\n",
        "      horiz[k] += tri[i]\n",
        "    #print(\"   sum:\", horiz[k])\n",
        "  \n",
        "  # positive slope row sums\n",
        "  pos = [0]*n\n",
        "  for k in range(n):\n",
        "    #print(\"computing pos slope sum\", k)\n",
        "    for j in range(0, n-k-1):\n",
        "      #print(\" \", j*(2*n-j)+2*k, j*(2*n-j)+2*k+1, end=\" \")\n",
        "      pos[k] += tri[j*(2*n-j)+2*k] + tri[j*(2*n-j)+2*k+1]\n",
        "    #print(\"\", n*n-(k+1)**2+2*k, sep=\" \")\n",
        "    pos[k] += tri[n*n-(k+1)**2+2*k]\n",
        "    #print(\"   sum:\", pos[k])\n",
        "  \n",
        "  # negative slope row sums\n",
        "  neg = [0]*n\n",
        "  for k in range(n):\n",
        "    #print(\"computing neg slope sum\", k)\n",
        "    for j in range(1, n-k):\n",
        "      #print(\" \", j*(2*n-j)-2*k-2, j*(2*n-j)-2*k-1, end=\" \")\n",
        "      neg[k] += tri[j*(2*n-j)-2*k-2] + tri[j*(2*n-j)-2*k-1]\n",
        "    #print(\"\", n*n - (k+1)**2, sep=\" \")\n",
        "    neg[k] += tri[n*n - (k+1)**2]\n",
        "    #print(\"   sum:\", neg[k])\n",
        "\n",
        "  # compute distance from magic\n",
        "  mag = n*(n*n+1)\n",
        "  dist = 0\n",
        "  for i in range(math.ceil(n/2)):\n",
        "    h = horiz[i] + horiz[n-1-i]\n",
        "    p = pos[i] + pos[n-1-i]\n",
        "    q = neg[i] + neg[n-1-i]\n",
        "    dist = max(dist, abs(h-mag), abs(p-mag), abs(q-mag))\n",
        "\n",
        "  return dist\n",
        "\n",
        "# fast distance function\n",
        "# computes how far a given triangle is from a magic triangle\n",
        "# indexes are hard-coded for speed: this function is about 3-4 times faster than findDistFromMagic()\n",
        "def fastDist(t):\n",
        "\n",
        "  if len(t) == 9:  # 3-level triangle\n",
        "    sums = [0]*6\n",
        "    sums[0] = sum(t[:5]) + t[8]       # horisontal sum: top and bottom rows\n",
        "    sums[1] = 2*sum(t[5:8])           # horizontal sum\n",
        "    sums[2] = sum([t[i] for i in [0,1,4,5,6,8]])   # positive-slope sum\n",
        "    sums[3] = 2*sum([t[i] for i in [2,3,7]])       # positive-slope sum\n",
        "    sums[4] = sum([t[i] for i in [0,3,4,6,7,8]])   # negative-slope sum\n",
        "    sums[5] = 2*sum([t[i] for i in [1,2,5]])       # negative-slope sum\n",
        "\n",
        "    diff = [abs(30 - s) for s in sums]\n",
        "    return max(diff)\n",
        "\n",
        "  if len(t) == 16:  # 4-level triangle\n",
        "    sums = [0]*6\n",
        "    sums[0] = sum(t[:7]) + t[15]       # horisontal sum: top and bottom rows\n",
        "    sums[1] = sum(t[7:15])             # horizontal sum\n",
        "    sums[2] = sum([t[i] for i in [0,1,7,8,12,13,15,6]])     # positive-slope sum\n",
        "    sums[3] = sum([t[i] for i in [2,3,4,5,9,10,11,14]])     # positive-slope sum\n",
        "    sums[4] = sum([t[i] for i in [0,5,6,10,11,13,14,15]])   # negative-slope sum\n",
        "    sums[5] = sum([t[i] for i in [1,2,3,4,7,8,9,12]])       # negative-slope sum\n",
        "\n",
        "    diff = [abs(68 - s) for s in sums]\n",
        "    return max(diff)\n",
        "\n",
        "  if len(t) == 25:  # 5-level triangle\n",
        "    sums = [0]*9\n",
        "    sums[0] = sum(t[:9]) + t[24]       # horisontal sum: top and bottom rows\n",
        "    sums[1] = sum(t[9:16] + t[21:24])  # horizontal sum\n",
        "    sums[2] = 2*sum(t[16:21])          # horizontal sum\n",
        "    sums[3] = t[0]+t[1]+t[9]+t[10]+t[16]+t[17]+t[21]+t[22]+t[24]+t[8]  # positive-slope sum\n",
        "    sums[4] = t[2]+t[3]+t[11]+t[12]+t[18]+t[19]+t[23]+t[6]+t[7]+t[15]  # positive-slope sum\n",
        "    sums[5] = 2*(t[4]+t[5]+t[13]+t[14]+t[20])                          # positive-slope sum\n",
        "    sums[6] = t[0]+t[7]+t[8]+t[14]+t[15]+t[19]+t[20]+t[22]+t[23]+t[24] # negative-slope sum\n",
        "    sums[7] = t[1]+t[2]+t[9]+t[5]+t[6]+t[12]+t[13]+t[17]+t[18]+t[21]   # negative-slope sum\n",
        "    sums[8] = 2*(t[3]+t[4]+t[10]+t[11]+t[16])                          # negative-slope sum\n",
        "\n",
        "    diff = [abs(130 - s) for s in sums]\n",
        "    return max(diff)\n",
        "\n",
        "  if len(t) == 36:  # 6-level triangle\n",
        "    sums = [0]*9\n",
        "    sums[0] = sum(t[:11]) + t[35]       # horisontal sum: top and bottom rows\n",
        "    sums[1] = sum(t[11:20] + t[32:35])  # horizontal sum\n",
        "    sums[2] = sum(t[20:32])             # horizontal sum\n",
        "    sums[3] = sum([t[i] for i in [0,1,11,12,20,21,27,28,32,33,35,10]])  # positive-slope sum\n",
        "    sums[4] = sum([t[i] for i in [2,3,13,14,22,23,29,30,34,8,9,19]])  # positive-slope sum\n",
        "    sums[5] = sum([t[i] for i in [4,5,6,7,15,16,17,18,24,25,26,31]])  # positive-slope sum\n",
        "    sums[6] = sum([t[i] for i in [0,9,10,18,19,25,26,30,31,33,34,35]])  # negative-slope sum\n",
        "    sums[7] = sum([t[i] for i in [1,2,11,7,8,16,17,23,24,28,29,32]])  # negative-slope sum\n",
        "    sums[8] = sum([t[i] for i in [3,4,12,13,20,5,6,14,15,21,22,27]])  # negative-slope sum\n",
        "    \n",
        "    diff = [abs(222 - s) for s in sums]\n",
        "    return max(diff)\n",
        "  \n",
        "  if len(t) == 49:  # 7-level triangle\n",
        "    sums = [0]*12\n",
        "    sums[0] = sum(t[:13]) + t[48]       # horisontal sum: top and bottom rows\n",
        "    sums[1] = sum(t[13:24] + t[45:48])  # horizontal sum\n",
        "    sums[2] = sum(t[24:33] + t[40:45])  # horizontal sum\n",
        "    sums[3] = 2*sum(t[33:40])           # horizontal sum\n",
        "    sums[4] = sum([t[i] for i in [0,1,13,14,24,25,33,34,40,41,45,46,48,12]])  # positive-slope sum\n",
        "    sums[5] = sum([t[i] for i in [2,3,15,16,26,27,35,36,42,43,47,10,11,23]])  # positive-slope sum\n",
        "    sums[6] = sum([t[i] for i in [4,5,17,18,28,29,37,38,44,8,9,21,22,32]])    # positive-slope sum\n",
        "    sums[7] = 2*sum([t[i] for i in [6,7,19,20,30,31,39]])                     # positive-slope sum\n",
        "    sums[8] = sum([t[i] for i in [0,11,12,22,23,31,32,38,39,43,44,46,47,48]])  # negative-slope sum\n",
        "    sums[9] = sum([t[i] for i in [13,1,2,9,10,20,21,29,30,36,37,41,42,45]])  # negative-slope sum\n",
        "    sums[10] = sum([t[i] for i in [3,4,14,15,24,7,8,18,19,27,28,34,35,40]])  # negative-slope sum\n",
        "    sums[11] = 2*sum([t[i] for i in [5,6,16,17,25,26,33]])  # negative-slope sum\n",
        "    \n",
        "    diff = [abs(350 - s) for s in sums]\n",
        "    return max(diff)\n",
        "\n",
        "  if len(t) == 64:  # 8-level triangle\n",
        "    sums = [0]*12\n",
        "    sums[0] = sum(t[:15]) + t[63]       # horisontal sum: top and bottom rows\n",
        "    sums[1] = sum(t[15:28] + t[60:63])  # horizontal sum\n",
        "    sums[2] = sum(t[28:39] + t[55:60])  # horizontal sum\n",
        "    sums[3] = sum(t[39:55])             # horizontal sum\n",
        "    sums[4] = sum([t[i] for i in [0,1,15,16,28,29,39,40,48,49,55,56,60,61,63,14]])  # positive-slope sum\n",
        "    sums[5] = sum([t[i] for i in [2,3,17,18,30,31,41,42,50,51,57,58,62,12,13,27]])  # positive-slope sum\n",
        "    sums[6] = sum([t[i] for i in [4,5,19,20,32,33,43,44,52,53,59,10,11,25,26,38]])  # positive-slope sum\n",
        "    sums[7] = sum(t[6:10]+t[21:25]+t[34:38]+t[45:48])+t[54]                         # positive-slope sum\n",
        "    sums[8] = sum([t[i] for i in [0,13,14,26,27,37,38,46,47,53,54,58,59,61,62,63]]) # negative-slope sum\n",
        "    sums[9] = sum([t[i] for i in [1,2,15,11,12,24,25,35,36,44,45,51,52,56,57,60]])  # negative-slope sum\n",
        "    sums[10] = sum([t[i] for i in [3,4,16,17,28,9,10,22,23,33,34,42,43,49,50,55]])  # negative-slope sum\n",
        "    sums[11] = sum(t[5:9]+t[18:22]+t[29:33]+t[39:42])+t[48]                         # negative-slope sum\n",
        "    \n",
        "    diff = [abs(520 - s) for s in sums]\n",
        "    return max(diff)\n",
        "\n",
        "  print(\"fastDist IS NOT IMPLEMENTED FOR THIS SIZE TRIANGLE\")\n",
        "  return None\n",
        "\n",
        "# function to draw a triangle using matplotlib\n",
        "# also computes and draws the sums in each direction\n",
        "def drawTriangle(tri):\n",
        "  n = int(math.sqrt(len(tri)))\n",
        "  s = math.sqrt(3)\n",
        "\n",
        "  plt.figure(figsize=(n,n*s/2))\n",
        "\n",
        "  # draw triangle edges\n",
        "  for i in range(n):\n",
        "    plt.plot([i/2,n-i/2],[i*s/2,i*s/2],'b')\n",
        "    plt.plot([i,(n+i)/2],[0,(n-i)*s/2],'b')\n",
        "    plt.plot([i+1,(i+1)/2],[0,(i+1)*s/2],'b')\n",
        "\n",
        "  # print entries in subtriangles\n",
        "  xind = 1     # horizontal index of the next number to print\n",
        "  xskip = 0    # number of horizontal positions to skip in the current row\n",
        "  xwrap = 2*n  # move to the next row when xindex equals this\n",
        "  row = 0      # row index, 0 indicates bottom row\n",
        "\n",
        "  for num in tri:\n",
        "    yadj = 0.2 if xind%2 == 1 else 0.45\n",
        "    plt.text((xskip + xind)/2, row*s/2 + yadj, num, fontsize=15, horizontalalignment='center')\n",
        "    xind += 1\n",
        "    if xind == xwrap:\n",
        "      xind = 1\n",
        "      xwrap -= 2\n",
        "      xskip += 1\n",
        "      row += 1\n",
        "\n",
        "  # compute and print sums\n",
        "  first = 0\n",
        "  length = 2*n - 1\n",
        "  rowSums = [0]*n\n",
        "  posSlopeSums = [0]*n\n",
        "  negSlopeSums = [0]*n\n",
        "  for i in range(n):  # loop over rows\n",
        "    # compute and print horizontal sums\n",
        "    rowSums[i] = sum(tri[first:first+length])\n",
        "    plt.plot([n-i/2,n-i/2+0.3],[i*s/2+0.4,i*s/2+0.4],'g-')\n",
        "    plt.text(n-i/2+0.4 , i*s/2+0.3, rowSums[i], fontsize=15, color='g')  # horizontal sums\n",
        "\n",
        "    # compute positive-slope sums\n",
        "    for j in range((length-1)//2):\n",
        "      posSlopeSums[j] += tri[first+j*2] + tri[first+j*2+1]\n",
        "    posSlopeSums[(length-1)//2] += tri[first+length-1]\n",
        "\n",
        "    # compute negative slope sums\n",
        "    negSlopeSums[i] += tri[first]\n",
        "    for j in range((length-1)//2):\n",
        "      negSlopeSums[j+i+1] += tri[first+j*2+1] + tri[first+j*2+2]\n",
        "\n",
        "    # update indexes\n",
        "    first += length\n",
        "    length -= 2\n",
        "\n",
        "  # print positive and negative slope sums\n",
        "  for i in range(n):\n",
        "    plt.plot([i+0.4, i+0.25], [-0.2, -0.46],'m-')\n",
        "    plt.text(i, -0.9, posSlopeSums[i], fontsize=15, color='m')  # positive slope sums\n",
        "    plt.plot([0.5*i+.15, 0.5*i], [0.65+i*s/2, 0.91+i*s/2],'r-')\n",
        "    plt.text(0.5*i-0.4, 1.05+i*s/2, negSlopeSums[i], fontsize=15, color='r')  # negative slope sums\n",
        "\n",
        "  \n",
        "  plt.axis(\"off\")\n",
        "\n",
        "  # return the horizontal, positive slope, and negative slope sums\n",
        "  horizSums = [rowSums[i] + rowSums[n-1-i] for i in range((n+1)//2)]\n",
        "  posSums = [posSlopeSums[i] + posSlopeSums[n-1-i] for i in range((n+1)//2)]\n",
        "  negSums = [negSlopeSums[i] + negSlopeSums[n-1-i] for i in range((n+1)//2)]\n",
        "  return [horizSums, posSums, negSums]"
      ],
      "execution_count": 1,
      "outputs": []
    },
    {
      "cell_type": "markdown",
      "metadata": {
        "id": "_3zONC-s1fc6"
      },
      "source": [
        "**Demo:** generate a random triangle, find its distance from magic, and draw it"
      ]
    },
    {
      "cell_type": "code",
      "metadata": {
        "colab": {
          "base_uri": "https://localhost:8080/",
          "height": 406
        },
        "id": "OezXnRBwvIgv",
        "outputId": "f3cbab10-914e-40ee-9800-f6f96b9325de"
      },
      "source": [
        "tri = generateRandomTriangle(7)\n",
        "print(\"distance from magic:\", findDistFromMagic(tri))\n",
        "drawTriangle(tri)"
      ],
      "execution_count": null,
      "outputs": [
        {
          "output_type": "stream",
          "text": [
            "distance from magic: 92\n"
          ],
          "name": "stdout"
        },
        {
          "output_type": "execute_result",
          "data": {
            "text/plain": [
              "[[342, 364, 346, 346], [358, 380, 309, 356], [336, 372, 296, 442]]"
            ]
          },
          "metadata": {
            "tags": []
          },
          "execution_count": 6
        },
        {
          "output_type": "display_data",
          "data": {
            "image/png": "[encoded data removed]",
            "text/plain": [
              "<Figure size 504x436.477 with 1 Axes>"
            ]
          },
          "metadata": {
            "tags": [],
            "needs_background": "light"
          }
        }
      ]
    },
    {
      "cell_type": "markdown",
      "metadata": {
        "id": "2jOCxahfyp1R"
      },
      "source": [
        "## Functions for simulated annealing\n",
        "\n",
        "These functions allow us to find magic triangles via simulated annealing."
      ]
    },
    {
      "cell_type": "code",
      "metadata": {
        "id": "67ROwNMwysCc"
      },
      "source": [
        "# function that uses simulated annealing to find a n-level magic triangle\n",
        "# parameters:\n",
        "#   n        size of triangle (number of levels)\n",
        "#   distFn   function to use to determine distance from magic\n",
        "#   decFac   factor by which the \"temperature\" is decreased with each step of simulated annealing\n",
        "#   reset    number of steps after which the \"temperature\" is reset to 1/2\n",
        "#   maxStep  max number of steps to simulate; will quit after this many steps\n",
        "# returns: \n",
        "#   dist         final distance from magic (0 iff a magic triangle was found)\n",
        "#   tri          the resulting triangle, as a list of entries\n",
        "#   stepCounter  number of steps until either a magic triangle was found or maxSteps was reached\n",
        "#   sig          final value of the \"temperature\" parameter\n",
        "def findMagicTriangle(n, distFn, decFac, reset=20000, maxStep = 500000):\n",
        "  tri = generateRandomTriangle(n)\n",
        "  dist = distFn(tri)  #findDistFromMagic(state)\n",
        "  stepCounter  = 0\n",
        "  sig = 1\n",
        "\n",
        "  while dist != 0 and stepCounter < maxStep:\n",
        "    (tri, dist) = doStep(tri, sig, distFn)\n",
        "    sig = sig*decFac\n",
        "    stepCounter += 1\n",
        "    if stepCounter % reset == 0:  # increase the temperature periodically if no magic triangle has been found\n",
        "      sig = 0.5\n",
        "\n",
        "  return dist, tri, stepCounter, sig\n",
        "\n",
        "\n",
        "# function to do one step of simulated annealing\n",
        "# arguments: triangle t1, temperature parameter sig, and distance function distFn\n",
        "def doStep(t1, sig, distFn):\n",
        "    # propose a swap of two randomly-selected entries\n",
        "    i = rd.randrange(len(t1))\n",
        "    j = rd.randrange(len(t1))\n",
        "    while i == j:\n",
        "        i = rd.randrange(len(t1))\n",
        "        j = rd.randrange(len(t1))\n",
        "\n",
        "    # swap the entries on a copy of the triangle\n",
        "    t2 = copy.copy(t1)\n",
        "    t2[i] = t1[j]\n",
        "    t2[j] = t1[i]\n",
        "\n",
        "    # compute distances from magic\n",
        "    d1 = distFn(t1)\n",
        "    d2 = distFn(t2)\n",
        "    dh = d1-d2\n",
        "\n",
        "    # decide whether to accep the proposed swap\n",
        "    if dh >= 0: # then accept proposed swap\n",
        "        return (t2,d2)\n",
        "    \n",
        "    # else: accept proposed swap with probability rho\n",
        "    rho = math.exp(dh/sig)\n",
        "    rand = rd.random()\n",
        "    if rand < rho:\n",
        "        return (t2,d2) # accept swap\n",
        "    return (t1,d1)     # reject swap"
      ],
      "execution_count": 2,
      "outputs": []
    },
    {
      "cell_type": "markdown",
      "metadata": {
        "id": "JBKJoWWs9684"
      },
      "source": [
        "**Demo:** simulated annealing to find a magic triangle"
      ]
    },
    {
      "cell_type": "code",
      "metadata": {
        "colab": {
          "base_uri": "https://localhost:8080/",
          "height": 320
        },
        "id": "cxcYTXIgy9Qa",
        "outputId": "89d05d5c-69ca-4859-f384-ef021752d5a2"
      },
      "source": [
        "res = findMagicTriangle(5, fastDist, .999, 10000, 500000)\n",
        "print(res)\n",
        "drawTriangle(res[1])"
      ],
      "execution_count": null,
      "outputs": [
        {
          "output_type": "stream",
          "text": [
            "(0, [4, 12, 6, 1, 18, 22, 21, 17, 10, 25, 15, 7, 14, 5, 9, 23, 24, 2, 20, 8, 11, 3, 16, 13, 19], 13007, 0.024682724731064528)\n"
          ],
          "name": "stdout"
        },
        {
          "output_type": "execute_result",
          "data": {
            "text/plain": [
              "[[130, 130, 130], [130, 130, 130], [130, 130, 130]]"
            ]
          },
          "metadata": {
            "tags": []
          },
          "execution_count": 9
        },
        {
          "output_type": "display_data",
          "data": {
            "image/png": "[encoded data removed]",
            "text/plain": [
              "<Figure size 360x311.769 with 1 Axes>"
            ]
          },
          "metadata": {
            "tags": [],
            "needs_background": "light"
          }
        }
      ]
    },
    {
      "cell_type": "markdown",
      "metadata": {
        "id": "bnW-ybuYzNYe"
      },
      "source": [
        "# Collect statistics on finding magic triangles\n",
        "\n",
        "This code was used to collect data for the paper. The runtime for the following code cell is more than 12 hours."
      ]
    },
    {
      "cell_type": "code",
      "metadata": {
        "colab": {
          "base_uri": "https://localhost:8080/"
        },
        "id": "5jw8r69izM-E",
        "outputId": "9684310c-85e5-4ba3-a2e2-0a973c20a2e7"
      },
      "source": [
        "# (n, decFac, reset)\n",
        "paramVals = [(3, 0.9, 10000), (4, 0.94, 10000), (5, 0.997, 10000), (6, 0.994, 30000), (7, 0.998, 40000), (8, 0.999, 80000)]\n",
        "numTrials = 10000\n",
        "simAnnDF = pd.DataFrame(columns=[\"n\",\"successes\",\"avg steps\",\"median steps\",\"max steps\"])\n",
        "\n",
        "for (n,df,reset) in paramVals:\n",
        "  numSuccess = 0\n",
        "  stepList = [0]*numTrials\n",
        "  for i in range(numTrials):\n",
        "    res = findMagicTriangle(n, fastDist, df, reset, 5000000)\n",
        "    if res[0] == 0:\n",
        "      numSuccess += 1\n",
        "      stepList[i] = res[2]\n",
        "    if i % 2000 == 1999:\n",
        "      print(\"| n =\", n, \"; completed\", (i+1))\n",
        "  row = pd.Series( {\"n\": n, \"successes\": numSuccess, \"avg steps\": stats.mean(stepList), \"median steps\": stats.median(stepList), \"max steps\": max(stepList)})\n",
        "  simAnnDF = simAnnDF.append(row, ignore_index=True)\n",
        "  print(row)\n",
        "\n"
      ],
      "execution_count": null,
      "outputs": [
        {
          "output_type": "stream",
          "text": [
            "| n = 3 ; completed 2000\n",
            "| n = 3 ; completed 4000\n",
            "| n = 3 ; completed 6000\n",
            "| n = 3 ; completed 8000\n",
            "| n = 3 ; completed 10000\n",
            "n                   3.0000\n",
            "successes       10000.0000\n",
            "avg steps          94.1434\n",
            "median steps       71.0000\n",
            "max steps         813.0000\n",
            "dtype: float64\n",
            "| n = 4 ; completed 2000\n",
            "| n = 4 ; completed 4000\n",
            "| n = 4 ; completed 6000\n",
            "| n = 4 ; completed 8000\n",
            "| n = 4 ; completed 10000\n",
            "n                   4.0000\n",
            "successes       10000.0000\n",
            "avg steps         276.8782\n",
            "median steps      205.0000\n",
            "max steps        2452.0000\n",
            "dtype: float64\n",
            "| n = 5 ; completed 2000\n",
            "| n = 5 ; completed 4000\n",
            "| n = 5 ; completed 6000\n",
            "| n = 5 ; completed 8000\n",
            "| n = 5 ; completed 10000\n",
            "n                   5.0000\n",
            "successes       10000.0000\n",
            "avg steps        5932.8047\n",
            "median steps     3179.0000\n",
            "max steps       92940.0000\n",
            "dtype: float64\n",
            "| n = 6 ; completed 2000\n",
            "| n = 6 ; completed 4000\n",
            "| n = 6 ; completed 6000\n",
            "| n = 6 ; completed 8000\n",
            "| n = 6 ; completed 10000\n",
            "n                   6.0000\n",
            "successes       10000.0000\n",
            "avg steps        7696.4139\n",
            "median steps     5536.0000\n",
            "max steps       62520.0000\n",
            "dtype: float64\n",
            "| n = 7 ; completed 2000\n",
            "| n = 7 ; completed 4000\n",
            "| n = 7 ; completed 6000\n",
            "| n = 7 ; completed 8000\n",
            "| n = 7 ; completed 10000\n",
            "n                    7.0000\n",
            "successes        10000.0000\n",
            "avg steps        45636.9141\n",
            "median steps     33309.0000\n",
            "max steps       397088.0000\n",
            "dtype: float64\n",
            "| n = 8 ; completed 2000\n",
            "| n = 8 ; completed 4000\n",
            "| n = 8 ; completed 6000\n",
            "| n = 8 ; completed 8000\n",
            "| n = 8 ; completed 10000\n",
            "n               8.000000e+00\n",
            "successes       1.000000e+04\n",
            "avg steps       2.468459e+05\n",
            "median steps    1.745275e+05\n",
            "max steps       2.575007e+06\n",
            "dtype: float64\n"
          ],
          "name": "stdout"
        }
      ]
    },
    {
      "cell_type": "code",
      "metadata": {
        "colab": {
          "base_uri": "https://localhost:8080/",
          "height": 235
        },
        "id": "4j3JtCme0lSD",
        "outputId": "07b0beaa-2d05-4c78-9edd-639f4a90d6fc"
      },
      "source": [
        "simAnnDF"
      ],
      "execution_count": null,
      "outputs": [
        {
          "output_type": "execute_result",
          "data": {
            "text/plain": [
              "     n  successes    avg steps  median steps  max steps\n",
              "0  3.0    10000.0      94.1434          71.0      813.0\n",
              "1  4.0    10000.0     276.8782         205.0     2452.0\n",
              "2  5.0    10000.0    5932.8047        3179.0    92940.0\n",
              "3  6.0    10000.0    7696.4139        5536.0    62520.0\n",
              "4  7.0    10000.0   45636.9141       33309.0   397088.0\n",
              "5  8.0    10000.0  246845.9332      174527.5  2575007.0"
            ],
            "text/html": [
              "<div>\n",
              "<style scoped>\n",
              "    .dataframe tbody tr th:only-of-type {\n",
              "        vertical-align: middle;\n",
              "    }\n",
              "\n",
              "    .dataframe tbody tr th {\n",
              "        vertical-align: top;\n",
              "    }\n",
              "\n",
              "    .dataframe thead th {\n",
              "        text-align: right;\n",
              "    }\n",
              "</style>\n",
              "<table border=\"1\" class=\"dataframe\">\n",
              "  <thead>\n",
              "    <tr style=\"text-align: right;\">\n",
              "      <th></th>\n",
              "      <th>n</th>\n",
              "      <th>successes</th>\n",
              "      <th>avg steps</th>\n",
              "      <th>median steps</th>\n",
              "      <th>max steps</th>\n",
              "    </tr>\n",
              "  </thead>\n",
              "  <tbody>\n",
              "    <tr>\n",
              "      <th>0</th>\n",
              "      <td>3.0</td>\n",
              "      <td>10000.0</td>\n",
              "      <td>94.1434</td>\n",
              "      <td>71.0</td>\n",
              "      <td>813.0</td>\n",
              "    </tr>\n",
              "    <tr>\n",
              "      <th>1</th>\n",
              "      <td>4.0</td>\n",
              "      <td>10000.0</td>\n",
              "      <td>276.8782</td>\n",
              "      <td>205.0</td>\n",
              "      <td>2452.0</td>\n",
              "    </tr>\n",
              "    <tr>\n",
              "      <th>2</th>\n",
              "      <td>5.0</td>\n",
              "      <td>10000.0</td>\n",
              "      <td>5932.8047</td>\n",
              "      <td>3179.0</td>\n",
              "      <td>92940.0</td>\n",
              "    </tr>\n",
              "    <tr>\n",
              "      <th>3</th>\n",
              "      <td>6.0</td>\n",
              "      <td>10000.0</td>\n",
              "      <td>7696.4139</td>\n",
              "      <td>5536.0</td>\n",
              "      <td>62520.0</td>\n",
              "    </tr>\n",
              "    <tr>\n",
              "      <th>4</th>\n",
              "      <td>7.0</td>\n",
              "      <td>10000.0</td>\n",
              "      <td>45636.9141</td>\n",
              "      <td>33309.0</td>\n",
              "      <td>397088.0</td>\n",
              "    </tr>\n",
              "    <tr>\n",
              "      <th>5</th>\n",
              "      <td>8.0</td>\n",
              "      <td>10000.0</td>\n",
              "      <td>246845.9332</td>\n",
              "      <td>174527.5</td>\n",
              "      <td>2575007.0</td>\n",
              "    </tr>\n",
              "  </tbody>\n",
              "</table>\n",
              "</div>"
            ]
          },
          "metadata": {
            "tags": []
          },
          "execution_count": 26
        }
      ]
    },
    {
      "cell_type": "markdown",
      "metadata": {
        "id": "w7zC1DPtzJBS"
      },
      "source": [
        "# Preliminary experiments to choose parameter values\n",
        "\n",
        "This section contains a sample of the prelimary experiments used to choose the parameter values for the data collection above. This is just a sample of the experiments that we performed; not all past experiments are recorded here."
      ]
    },
    {
      "cell_type": "markdown",
      "metadata": {
        "id": "1yLSLW0W6NoV"
      },
      "source": [
        "## 3-level experiments\n",
        "\n",
        "Summary: decrease factors near 0.9 seem to work best, with a median number of steps about 70"
      ]
    },
    {
      "cell_type": "code",
      "metadata": {
        "id": "miZVx1Ov4jQ9",
        "colab": {
          "base_uri": "https://localhost:8080/"
        },
        "outputId": "9894cb67-1411-4cd2-cb69-733424348161"
      },
      "source": [
        "# find avg. number of steps for various decFac values\n",
        "decFacs = [0.85, 0.88, 0.9, 0.92, 0.94, 0.96, 0.98, 0.99, 0.994, 0.997]\n",
        "numTrials = 10000\n",
        "df3 = pd.DataFrame(columns=[\"decFac\",\"successes\",\"avg steps\",\"median steps\",\"max steps\"])\n",
        "\n",
        "for d in decFacs:\n",
        "  numSuccess = 0\n",
        "  stepList = [0]*numTrials\n",
        "  for i in range(numTrials):\n",
        "    res = findMagicTriangle(3, fastDist, d, 10000, 1000000)\n",
        "    if res[0] == 0:\n",
        "      numSuccess += 1\n",
        "      stepList[i] = res[2]\n",
        "  row = pd.Series( {\"decFac\": d, \"successes\": numSuccess, \"avg steps\": stats.mean(stepList), \"median steps\": stats.median(stepList), \"max steps\": max(stepList)} , name=str(d))\n",
        "  df3 = df3.append(row)\n",
        "  print(\"decFac\", d, \": success =\", numSuccess, \", avg steps =\", stats.mean(stepList), \", median steps =\", stats.median(stepList))"
      ],
      "execution_count": 4,
      "outputs": [
        {
          "output_type": "stream",
          "text": [
            "decFac 0.85 : success = 10000 , avg steps = 94.3155 , median steps = 70.0\n",
            "decFac 0.88 : success = 10000 , avg steps = 95.0899 , median steps = 71.0\n",
            "decFac 0.9 : success = 10000 , avg steps = 94.1472 , median steps = 71.0\n",
            "decFac 0.92 : success = 10000 , avg steps = 94.7148 , median steps = 70.0\n",
            "decFac 0.94 : success = 10000 , avg steps = 94.3329 , median steps = 71.0\n",
            "decFac 0.96 : success = 10000 , avg steps = 95.0289 , median steps = 72.0\n",
            "decFac 0.98 : success = 10000 , avg steps = 96.1923 , median steps = 72.0\n",
            "decFac 0.99 : success = 10000 , avg steps = 97.5297 , median steps = 74.0\n",
            "decFac 0.994 : success = 10000 , avg steps = 101.6617 , median steps = 78.0\n",
            "decFac 0.997 : success = 10000 , avg steps = 103.5345 , median steps = 79.0\n"
          ],
          "name": "stdout"
        }
      ]
    },
    {
      "cell_type": "code",
      "metadata": {
        "colab": {
          "base_uri": "https://localhost:8080/",
          "height": 359
        },
        "id": "qlK19jp86kFu",
        "outputId": "3d2ed5f4-0693-42ab-94c5-3bf015028cf4"
      },
      "source": [
        "df3"
      ],
      "execution_count": 5,
      "outputs": [
        {
          "output_type": "execute_result",
          "data": {
            "text/plain": [
              "       decFac  successes  avg steps  median steps  max steps\n",
              "0.85    0.850    10000.0    94.3155          70.0      997.0\n",
              "0.88    0.880    10000.0    95.0899          71.0      845.0\n",
              "0.9     0.900    10000.0    94.1472          71.0      981.0\n",
              "0.92    0.920    10000.0    94.7148          70.0     1063.0\n",
              "0.94    0.940    10000.0    94.3329          71.0      655.0\n",
              "0.96    0.960    10000.0    95.0289          72.0      732.0\n",
              "0.98    0.980    10000.0    96.1923          72.0      739.0\n",
              "0.99    0.990    10000.0    97.5297          74.0      846.0\n",
              "0.994   0.994    10000.0   101.6617          78.0      734.0\n",
              "0.997   0.997    10000.0   103.5345          79.0     1205.0"
            ],
            "text/html": [
              "<div>\n",
              "<style scoped>\n",
              "    .dataframe tbody tr th:only-of-type {\n",
              "        vertical-align: middle;\n",
              "    }\n",
              "\n",
              "    .dataframe tbody tr th {\n",
              "        vertical-align: top;\n",
              "    }\n",
              "\n",
              "    .dataframe thead th {\n",
              "        text-align: right;\n",
              "    }\n",
              "</style>\n",
              "<table border=\"1\" class=\"dataframe\">\n",
              "  <thead>\n",
              "    <tr style=\"text-align: right;\">\n",
              "      <th></th>\n",
              "      <th>decFac</th>\n",
              "      <th>successes</th>\n",
              "      <th>avg steps</th>\n",
              "      <th>median steps</th>\n",
              "      <th>max steps</th>\n",
              "    </tr>\n",
              "  </thead>\n",
              "  <tbody>\n",
              "    <tr>\n",
              "      <th>0.85</th>\n",
              "      <td>0.850</td>\n",
              "      <td>10000.0</td>\n",
              "      <td>94.3155</td>\n",
              "      <td>70.0</td>\n",
              "      <td>997.0</td>\n",
              "    </tr>\n",
              "    <tr>\n",
              "      <th>0.88</th>\n",
              "      <td>0.880</td>\n",
              "      <td>10000.0</td>\n",
              "      <td>95.0899</td>\n",
              "      <td>71.0</td>\n",
              "      <td>845.0</td>\n",
              "    </tr>\n",
              "    <tr>\n",
              "      <th>0.9</th>\n",
              "      <td>0.900</td>\n",
              "      <td>10000.0</td>\n",
              "      <td>94.1472</td>\n",
              "      <td>71.0</td>\n",
              "      <td>981.0</td>\n",
              "    </tr>\n",
              "    <tr>\n",
              "      <th>0.92</th>\n",
              "      <td>0.920</td>\n",
              "      <td>10000.0</td>\n",
              "      <td>94.7148</td>\n",
              "      <td>70.0</td>\n",
              "      <td>1063.0</td>\n",
              "    </tr>\n",
              "    <tr>\n",
              "      <th>0.94</th>\n",
              "      <td>0.940</td>\n",
              "      <td>10000.0</td>\n",
              "      <td>94.3329</td>\n",
              "      <td>71.0</td>\n",
              "      <td>655.0</td>\n",
              "    </tr>\n",
              "    <tr>\n",
              "      <th>0.96</th>\n",
              "      <td>0.960</td>\n",
              "      <td>10000.0</td>\n",
              "      <td>95.0289</td>\n",
              "      <td>72.0</td>\n",
              "      <td>732.0</td>\n",
              "    </tr>\n",
              "    <tr>\n",
              "      <th>0.98</th>\n",
              "      <td>0.980</td>\n",
              "      <td>10000.0</td>\n",
              "      <td>96.1923</td>\n",
              "      <td>72.0</td>\n",
              "      <td>739.0</td>\n",
              "    </tr>\n",
              "    <tr>\n",
              "      <th>0.99</th>\n",
              "      <td>0.990</td>\n",
              "      <td>10000.0</td>\n",
              "      <td>97.5297</td>\n",
              "      <td>74.0</td>\n",
              "      <td>846.0</td>\n",
              "    </tr>\n",
              "    <tr>\n",
              "      <th>0.994</th>\n",
              "      <td>0.994</td>\n",
              "      <td>10000.0</td>\n",
              "      <td>101.6617</td>\n",
              "      <td>78.0</td>\n",
              "      <td>734.0</td>\n",
              "    </tr>\n",
              "    <tr>\n",
              "      <th>0.997</th>\n",
              "      <td>0.997</td>\n",
              "      <td>10000.0</td>\n",
              "      <td>103.5345</td>\n",
              "      <td>79.0</td>\n",
              "      <td>1205.0</td>\n",
              "    </tr>\n",
              "  </tbody>\n",
              "</table>\n",
              "</div>"
            ]
          },
          "metadata": {
            "tags": []
          },
          "execution_count": 5
        }
      ]
    },
    {
      "cell_type": "code",
      "metadata": {
        "colab": {
          "base_uri": "https://localhost:8080/",
          "height": 401
        },
        "id": "BHEi2QpZ6gsI",
        "outputId": "505fbbe2-d64a-4786-d11e-717aa84d8f61"
      },
      "source": [
        "# find distribution of steps to find magic triangles\n",
        "numTrials = 10000\n",
        "stepList = [0]*numTrials\n",
        "numSuccess = 0\n",
        "for i in range(numTrials):\n",
        "  res = findMagicTriangle(3, fastDist, 0.9, 10000, 1000000)\n",
        "  if res[0] == 0:\n",
        "    numSuccess += 1\n",
        "    stepList[i] = res[2]\n",
        "print(\"Finished! Num successes:\", numSuccess)\n",
        "print(\"min steps:\", min(stepList), \"; max steps:\", max(stepList))\n",
        "\n",
        "print(*stepList)\n",
        "bins = np.linspace(0,1050,num=22)\n",
        "n, b, p = plt.hist(stepList, bins=bins, color='g', edgecolor='k')\n",
        "plt.xlabel(\"number of steps\")\n",
        "plt.ylabel(\"frequency\")\n",
        "print(n)"
      ],
      "execution_count": 7,
      "outputs": [
        {
          "output_type": "stream",
          "text": [
            "Finished! Num successes: 10000\n",
            "min steps: 0 ; max steps: 740\n",
            "179 29 42 39 88 31 38 236 90 142 31 22 114 22 45 55 315 38 162 81 42 109 272 70 136 162 169 105 97 438 307 16 171 51 108 242 184 78 143 2 13 33 241 143 105 76 87 78 272 108 10 184 48 213 55 42 45 43 22 33 315 61 249 41 159 27 28 108 179 53 120 148 15 169 95 12 26 116 382 35 52 32 69 95 146 174 68 96 64 283 292 75 466 115 45 105 102 237 52 65 71 72 15 62 72 29 86 111 436 173 58 239 80 17 43 60 221 38 46 30 23 54 35 93 161 45 42 77 90 16 6 109 23 24 10 76 82 34 53 103 33 35 98 234 31 48 36 187 84 0 57 29 90 135 347 16 39 159 178 18 210 253 16 107 51 20 170 159 76 69 45 150 69 192 120 41 13 44 12 83 24 52 187 80 8 198 82 20 154 50 70 246 206 183 20 133 52 32 48 59 68 63 213 73 116 85 65 38 119 51 36 35 103 151 199 44 86 213 57 27 213 68 48 31 159 105 185 25 61 177 184 28 87 120 104 11 57 374 157 83 41 168 15 46 240 42 153 292 15 181 40 197 6 109 157 158 46 177 187 44 31 41 56 48 116 267 82 59 17 167 121 19 42 115 22 76 176 34 44 19 102 94 58 80 234 102 60 72 116 30 4 103 104 274 73 454 106 68 120 64 111 105 75 131 83 129 250 111 178 76 52 104 125 81 140 39 125 12 54 36 201 283 211 98 45 33 48 164 35 50 153 29 81 209 188 107 171 175 110 177 188 80 38 101 121 280 68 31 15 5 185 40 149 179 47 60 99 275 280 29 49 63 164 43 150 56 219 50 38 35 58 88 77 29 66 132 29 87 135 41 34 36 35 7 37 80 25 253 90 46 44 49 6 37 38 88 75 158 142 74 138 149 83 79 132 51 112 220 90 25 146 40 144 133 213 35 257 115 62 35 177 85 105 52 81 34 32 414 142 61 105 45 52 70 22 155 15 47 7 90 133 105 119 158 86 17 48 46 55 106 57 22 129 64 78 146 31 42 107 27 2 55 204 146 6 78 87 19 55 66 17 155 23 40 74 195 117 170 24 32 121 121 149 66 286 23 39 105 107 123 57 132 250 68 184 63 93 78 20 95 62 66 10 32 145 22 110 246 47 155 46 103 83 83 67 136 76 52 85 34 92 91 43 12 52 147 92 247 39 77 38 358 248 133 184 62 112 65 64 80 35 242 16 93 92 74 188 104 107 90 91 94 60 120 66 58 43 139 293 28 43 14 190 88 76 258 69 23 76 156 89 124 5 46 147 224 83 310 29 47 128 48 89 59 172 32 146 20 57 104 25 114 608 71 149 149 51 75 101 26 74 55 33 107 173 186 64 56 280 26 23 127 266 84 12 167 78 137 55 145 253 16 52 175 31 26 63 238 68 40 77 40 142 20 137 132 54 25 10 76 295 41 125 114 121 48 88 77 67 13 36 15 186 48 134 122 35 21 60 100 345 14 89 122 70 127 140 7 18 81 79 14 74 51 56 31 6 29 72 25 31 48 90 52 299 34 90 349 209 40 164 222 154 80 140 4 242 16 287 120 181 97 209 128 89 41 181 18 92 405 171 97 262 80 41 112 208 135 185 88 167 58 114 22 96 158 4 89 248 109 124 265 41 42 71 59 78 73 85 161 10 117 201 6 34 28 55 7 26 163 27 15 117 88 5 26 78 30 38 12 157 52 9 63 134 19 134 39 12 16 26 216 58 56 43 13 95 85 22 25 74 12 51 10 229 156 87 137 72 333 175 40 74 4 115 302 4 77 140 105 81 131 32 113 83 66 73 104 55 190 176 26 18 55 157 85 167 40 12 42 97 42 50 25 92 188 52 40 83 343 71 423 107 159 85 232 44 322 157 122 348 40 33 25 73 52 32 45 57 52 124 86 228 37 255 9 53 136 307 43 106 50 46 69 29 285 52 154 81 151 70 26 13 33 105 37 91 20 12 104 24 47 56 84 117 307 91 122 7 31 133 49 38 66 19 161 22 234 63 49 314 27 11 187 148 13 342 225 252 61 211 102 53 37 46 32 59 117 211 33 81 87 178 22 81 37 157 63 119 50 291 118 147 68 21 26 223 68 240 41 115 482 158 131 13 19 398 30 218 84 24 64 74 102 405 19 71 55 42 78 276 126 202 63 211 13 184 243 25 56 133 184 4 79 59 90 22 92 26 65 24 45 138 44 60 111 169 71 102 14 8 54 25 328 58 143 33 21 11 90 112 29 73 169 54 4 66 100 24 98 116 31 310 17 205 270 9 35 32 25 113 28 68 117 32 233 89 102 150 33 201 58 36 15 278 144 132 65 211 115 30 145 158 165 87 11 26 29 197 72 118 55 36 71 30 194 230 41 311 123 65 63 119 31 11 740 56 165 24 30 486 61 40 23 29 97 191 55 30 66 160 228 108 60 86 110 28 92 629 70 49 128 36 80 144 115 206 86 2 272 64 135 65 3 34 66 29 226 132 118 144 94 57 40 25 160 88 13 43 48 30 411 48 61 216 31 145 43 206 11 146 22 19 126 264 15 55 52 77 16 43 190 62 91 65 234 98 65 20 100 78 96 63 69 111 164 1 82 19 20 7 56 149 26 11 45 77 83 319 164 22 32 52 149 27 20 40 8 53 21 227 59 39 109 241 156 62 138 29 149 447 148 136 58 59 35 299 139 88 46 65 155 23 187 24 73 42 20 50 68 62 28 79 132 148 430 57 47 123 9 73 95 115 60 38 71 4 79 82 71 91 204 246 105 217 186 65 158 132 152 27 98 33 69 88 11 42 28 60 14 166 176 12 108 15 162 56 34 90 28 55 82 102 111 96 128 148 59 24 93 68 13 38 26 5 70 46 44 60 76 68 36 133 11 36 45 67 248 3 492 92 148 163 48 97 48 87 33 67 106 80 27 9 48 66 90 150 113 104 15 29 55 117 40 63 85 91 30 26 250 28 74 145 72 91 37 219 191 67 50 77 24 64 92 197 56 34 81 133 191 159 212 82 85 163 107 100 496 91 62 42 210 179 158 100 71 16 420 326 21 61 133 110 8 366 141 86 11 39 145 44 255 119 15 54 114 61 18 530 24 125 81 35 47 29 163 23 31 102 93 78 179 61 108 23 29 164 74 75 21 89 37 155 58 39 22 44 196 42 75 19 32 87 217 15 13 156 8 47 103 62 171 77 67 156 75 127 394 43 51 141 52 140 119 71 57 87 33 130 252 42 45 33 69 33 27 135 79 9 220 106 21 24 95 71 195 78 74 250 72 50 36 26 13 96 102 140 170 20 79 73 59 65 57 15 77 63 107 14 43 25 91 12 93 60 32 162 55 336 43 213 76 58 65 29 131 93 80 175 43 95 24 180 143 104 274 47 57 87 6 21 149 110 10 94 72 27 7 164 83 139 42 132 51 163 11 139 109 64 66 57 15 117 87 173 429 246 43 86 119 69 90 86 43 14 86 71 70 109 18 140 19 16 60 92 152 131 99 190 266 55 132 33 54 33 36 102 247 35 33 77 63 43 60 353 59 119 47 19 76 59 69 35 41 103 19 44 110 73 361 55 94 191 147 25 76 21 213 10 65 25 30 9 83 56 128 114 32 361 45 53 27 83 74 64 37 108 24 283 125 91 99 42 170 125 45 16 44 117 109 353 5 65 56 43 28 56 65 24 50 106 33 136 27 34 17 71 378 17 429 109 181 204 36 74 22 57 54 119 118 149 124 129 3 176 28 146 110 60 33 138 83 79 104 62 60 52 24 113 557 35 9 172 34 54 63 10 171 104 351 222 4 146 166 56 130 83 85 215 6 51 57 196 37 16 258 123 20 49 48 28 222 45 23 72 170 17 80 137 38 19 113 18 56 60 23 123 57 171 113 114 171 48 41 8 65 23 22 34 59 36 252 34 71 107 100 33 18 128 103 128 66 49 29 1 33 118 98 203 43 117 64 89 23 190 54 46 65 16 133 84 95 117 68 55 235 216 80 51 45 29 85 42 34 1 8 45 140 43 116 44 41 22 132 83 660 27 37 13 144 29 62 118 90 37 136 152 129 24 69 70 95 63 81 49 76 19 66 41 93 230 124 154 96 62 125 97 66 78 113 39 58 83 57 34 333 47 89 124 126 16 9 177 113 39 9 26 19 142 103 50 17 65 98 179 63 82 25 179 388 19 33 104 48 166 24 130 70 67 182 52 109 26 132 49 30 40 84 102 89 23 102 73 160 50 234 171 22 35 57 88 14 45 283 377 58 33 122 76 65 41 377 203 237 10 85 83 37 16 13 77 76 28 89 90 287 556 53 95 131 13 87 37 82 75 120 73 90 315 99 39 83 107 83 36 79 21 237 256 191 108 137 39 190 36 48 38 46 57 201 44 200 78 69 54 85 107 9 68 55 17 41 208 71 57 90 87 147 81 18 27 22 30 259 387 7 64 136 55 6 207 238 300 39 30 168 278 60 73 7 77 23 72 21 47 61 59 109 73 68 165 97 129 88 138 57 40 100 197 123 22 179 87 36 6 221 158 19 70 36 18 103 106 58 57 366 151 104 10 39 62 4 84 145 12 269 4 63 80 80 173 76 20 26 11 129 68 19 111 275 49 315 96 132 67 76 81 71 120 117 65 159 7 44 47 109 31 40 108 133 31 65 55 13 15 71 21 73 49 41 254 113 78 97 22 60 91 36 170 84 65 25 95 57 23 159 27 28 8 9 125 10 1 78 76 224 60 66 68 36 128 131 9 485 200 148 81 174 31 78 57 58 94 686 95 37 65 265 77 31 230 16 11 308 189 9 153 142 58 20 137 123 12 268 153 147 271 104 106 10 77 9 60 27 31 132 16 152 104 18 106 35 119 129 21 14 92 20 46 4 169 71 120 114 134 50 216 82 114 7 165 64 27 27 28 104 116 118 63 80 112 125 29 19 61 296 41 42 48 49 42 67 331 63 133 122 131 47 12 6 52 34 124 34 28 111 103 51 181 138 195 186 300 37 34 52 79 65 117 19 52 36 30 44 17 137 73 19 50 22 19 155 59 28 145 51 88 86 122 92 10 45 53 23 159 54 9 256 45 168 28 81 151 80 474 112 125 420 21 73 154 17 89 344 88 428 15 47 97 93 81 116 110 0 63 312 102 25 45 49 45 67 125 130 129 17 107 27 63 153 27 166 191 189 28 48 29 82 512 5 113 9 13 55 0 60 22 96 414 311 66 62 59 54 173 20 42 431 38 77 34 37 36 48 30 50 118 65 11 37 52 132 28 194 63 53 49 54 29 8 121 39 123 108 36 59 4 68 17 66 20 353 84 14 2 163 63 3 51 72 81 85 44 77 78 89 61 139 154 165 60 93 123 81 21 216 109 72 120 93 37 28 45 48 19 198 6 5 59 223 139 25 303 141 63 202 85 226 26 71 62 7 326 47 91 67 16 18 40 260 38 79 247 65 65 16 70 110 29 18 38 278 59 51 38 121 345 245 118 95 54 63 74 63 144 141 33 99 167 118 181 28 20 127 109 77 15 14 2 121 146 57 233 35 63 57 86 33 46 105 38 109 141 113 10 171 233 147 69 34 68 11 34 73 108 3 49 540 114 72 67 136 282 62 44 103 109 202 38 37 151 113 59 62 100 78 181 62 101 280 62 127 131 140 91 42 60 132 148 227 11 58 89 276 220 48 6 68 148 66 81 117 188 33 95 13 129 50 216 31 41 60 155 19 156 46 30 67 52 57 71 47 32 214 136 61 44 171 25 33 40 55 95 52 175 35 47 56 54 42 36 95 111 225 258 91 18 68 160 125 8 125 0 54 27 76 46 29 59 107 22 154 75 57 175 43 71 104 109 181 20 58 76 67 72 177 28 81 13 89 41 16 93 80 54 115 193 41 110 178 77 183 25 6 188 76 4 50 79 88 7 119 145 146 41 18 48 89 156 32 70 75 255 69 275 37 154 150 47 134 38 51 78 19 62 82 216 28 50 40 219 31 68 10 108 104 19 45 59 41 169 305 29 71 47 38 40 264 36 315 47 61 63 87 163 0 17 224 21 57 109 43 63 327 306 57 71 51 84 29 201 75 125 18 13 15 39 130 33 141 27 170 112 45 78 36 168 76 37 42 81 25 44 131 87 37 0 144 79 223 33 16 339 56 27 59 368 119 141 190 68 174 64 34 162 113 59 32 113 56 79 113 315 210 24 203 164 21 259 97 85 408 13 50 92 18 18 35 165 71 28 149 26 53 148 137 61 45 51 26 191 67 73 93 19 100 209 65 61 13 295 165 17 229 59 42 144 141 63 94 75 28 30 93 28 245 130 19 45 27 80 55 41 410 443 94 99 364 39 104 62 43 245 76 30 77 60 242 12 53 153 29 24 58 220 139 53 113 149 16 137 32 165 36 143 45 16 103 69 63 250 30 27 34 124 107 197 114 126 36 91 189 186 278 129 27 136 100 31 43 50 110 38 104 54 88 38 295 39 177 46 55 96 146 5 6 50 60 80 282 211 168 171 105 242 58 7 56 55 42 64 61 82 120 45 148 105 47 57 19 9 71 51 104 28 168 159 134 25 60 172 53 62 60 51 46 156 24 66 15 30 108 56 62 14 38 127 52 11 271 81 153 17 8 112 40 65 82 52 157 187 142 222 5 71 153 105 70 52 12 21 27 147 59 175 103 94 114 180 67 14 79 76 136 11 10 45 55 212 234 24 29 41 212 3 33 198 48 76 324 150 54 36 46 113 23 82 18 15 241 62 48 6 19 101 210 48 184 188 22 125 73 56 55 84 23 28 43 151 44 45 68 177 33 190 44 114 57 71 56 42 96 147 14 46 80 132 90 70 134 252 77 55 108 27 95 144 199 27 180 151 290 425 44 37 79 167 185 82 77 32 66 112 110 58 68 49 30 49 23 267 44 81 175 77 51 56 87 166 167 60 100 23 21 97 73 149 157 5 171 44 152 45 94 29 32 183 61 33 211 59 37 133 32 151 86 161 103 44 37 126 50 45 78 132 14 137 33 73 144 71 32 11 32 231 158 150 171 101 66 126 76 170 88 95 88 41 147 29 27 185 84 48 82 86 298 5 238 5 53 3 47 127 38 37 57 28 97 40 135 211 76 106 34 51 51 221 192 50 39 30 24 40 42 34 16 46 76 40 399 66 103 235 1 62 68 55 47 58 239 97 83 74 60 233 152 421 31 77 16 125 148 80 246 179 179 101 14 176 18 21 18 33 56 197 68 14 39 23 56 242 20 54 24 343 286 17 34 120 246 102 184 17 50 36 22 112 69 123 77 185 62 190 115 39 10 22 44 83 64 130 246 73 157 142 7 61 100 68 247 178 149 295 52 54 304 44 93 23 110 91 167 66 37 51 121 34 155 52 24 42 150 318 47 74 83 172 65 41 237 249 207 49 75 77 82 114 101 50 22 29 21 107 386 152 37 87 86 40 59 18 14 23 63 140 70 33 205 74 110 83 103 165 245 47 85 114 50 121 184 63 159 54 26 34 258 47 51 81 41 62 48 79 31 91 62 157 82 56 85 70 42 97 63 13 30 189 19 6 82 112 1 78 89 43 168 37 182 58 247 43 413 144 136 103 129 25 17 118 151 359 107 70 374 252 47 94 88 133 62 44 80 130 13 50 233 237 177 28 87 192 24 38 44 293 20 109 83 2 20 20 59 5 104 81 33 71 250 69 121 35 22 55 106 47 120 276 108 71 100 54 6 217 140 2 174 72 105 128 529 299 47 84 43 32 41 79 89 26 8 149 49 442 218 89 201 110 40 102 58 58 13 226 79 19 225 108 41 53 24 104 9 311 75 455 75 39 91 31 84 36 45 59 336 267 94 129 31 168 109 104 155 42 41 119 51 412 59 10 33 43 46 0 9 35 171 51 46 176 43 237 274 139 83 21 136 8 62 56 60 74 139 84 175 102 31 51 103 109 66 71 133 53 115 15 27 88 8 126 55 61 118 52 32 115 57 103 115 107 165 5 31 21 24 25 24 130 60 17 181 103 158 42 35 14 115 51 77 378 96 16 17 44 140 99 86 43 62 51 45 26 211 45 42 27 274 37 8 186 48 56 135 30 69 248 154 59 40 54 109 66 93 17 109 122 54 118 51 50 29 208 30 73 210 147 65 34 74 22 98 89 73 56 78 59 71 38 104 152 9 60 77 61 110 54 19 32 187 57 0 70 96 144 24 20 327 150 60 52 26 32 128 188 30 46 56 35 15 48 8 77 57 189 128 86 413 44 48 185 47 192 270 66 27 98 38 120 79 113 130 67 77 41 68 31 74 287 45 42 135 45 278 93 19 429 104 78 121 31 106 60 362 246 8 6 190 46 73 28 45 49 114 24 36 69 61 174 77 6 57 11 44 166 75 131 61 44 304 132 37 71 204 32 2 67 45 102 56 43 256 116 31 78 242 23 55 99 51 143 256 43 72 161 36 194 61 48 30 85 97 126 35 90 107 188 233 115 64 49 146 56 89 84 89 50 75 164 23 94 176 30 96 64 170 223 12 140 194 162 100 46 92 37 109 154 49 123 37 52 115 21 28 158 135 235 8 3 66 207 41 28 199 65 214 100 86 99 19 62 88 39 87 40 82 176 120 67 58 183 47 104 98 63 102 14 87 68 73 235 251 51 132 80 89 78 51 94 292 60 309 392 52 96 36 18 83 118 63 44 48 54 252 31 39 25 173 105 233 101 34 5 84 79 80 132 46 53 113 26 38 172 77 104 133 158 214 67 89 91 73 7 33 50 92 26 28 127 37 268 138 103 79 73 43 18 108 51 9 35 29 77 130 43 200 55 293 32 100 68 112 119 136 31 74 124 148 47 56 34 94 39 113 38 38 266 50 26 342 91 111 165 70 91 38 56 103 42 30 60 75 7 303 14 77 184 135 15 6 74 78 157 55 98 78 19 137 16 194 51 60 15 143 28 1 54 86 157 35 21 92 215 34 130 48 81 89 90 63 54 101 45 50 107 297 58 53 132 36 122 83 89 122 108 446 23 116 67 23 71 93 144 153 51 80 28 32 28 54 80 54 68 9 64 33 40 27 107 13 166 17 18 43 217 56 63 188 67 92 44 51 75 131 98 288 19 66 172 74 122 155 17 35 214 133 75 107 10 81 157 25 56 14 74 71 83 138 62 87 98 177 597 129 54 74 121 19 200 19 29 78 119 243 154 52 178 34 146 28 86 136 89 130 122 67 203 46 132 44 375 108 18 67 13 100 42 81 207 51 129 286 41 0 17 10 239 84 171 276 31 6 80 87 181 17 54 24 9 72 24 16 176 26 84 113 158 159 181 30 85 59 48 27 125 34 169 75 74 324 114 180 20 74 189 22 36 128 101 118 37 104 68 12 73 42 31 86 79 113 251 104 99 58 34 29 65 91 84 70 204 271 404 40 196 45 42 62 43 45 61 121 86 155 227 331 377 190 109 42 116 108 48 241 109 40 75 136 78 33 101 57 99 34 93 25 69 36 58 196 40 36 62 141 34 115 123 150 211 51 59 72 85 151 100 78 40 55 197 95 283 61 7 129 49 163 92 183 83 68 36 28 318 72 3 4 96 65 36 166 86 90 46 33 39 24 100 249 124 70 425 56 12 189 51 280 7 48 73 5 140 252 60 167 24 17 39 102 571 7 98 211 28 56 194 81 89 14 30 25 13 111 182 37 24 48 177 69 33 202 50 100 114 40 55 67 46 52 209 14 21 151 44 105 19 43 40 38 155 40 17 52 129 14 67 6 69 125 37 24 27 47 36 31 20 136 122 149 43 21 23 15 23 52 35 49 46 87 146 41 10 27 225 4 46 157 84 170 66 12 86 120 67 277 112 26 55 72 304 152 279 23 175 25 132 202 135 91 34 32 63 78 9 21 38 18 101 118 254 12 136 93 23 51 52 34 291 69 17 62 31 439 25 26 114 86 127 75 126 123 68 131 65 492 191 158 63 101 81 88 175 51 56 32 21 79 1 135 238 47 63 72 84 53 266 37 17 98 143 69 151 75 45 68 103 30 209 94 49 80 147 25 160 66 53 79 73 135 2 243 53 60 116 75 83 186 39 83 20 42 86 99 77 114 56 78 23 85 116 230 38 29 134 342 98 33 22 26 219 39 38 140 96 127 43 93 40 162 34 106 210 33 47 71 123 52 35 84 113 203 36 70 192 43 55 72 47 77 33 22 101 54 46 345 99 51 58 82 84 51 97 88 179 85 93 57 100 42 98 38 162 11 14 62 9 38 58 85 185 41 79 80 98 85 27 3 148 28 27 54 77 275 9 69 82 217 28 136 130 111 114 175 258 19 57 217 61 30 106 26 106 36 9 127 213 177 13 114 110 12 72 32 40 27 132 69 183 223 12 496 56 42 92 67 27 5 13 235 10 150 33 208 99 146 48 134 59 89 22 65 120 270 19 105 116 65 43 274 77 105 63 183 38 97 43 186 267 31 189 184 89 73 93 78 20 10 14 53 130 110 105 99 118 240 525 60 57 48 111 13 40 33 107 167 137 242 248 91 10 105 150 41 75 12 228 34 77 48 21 87 121 29 75 343 62 197 86 117 120 24 79 82 248 49 71 179 169 52 107 5 189 42 23 103 75 117 246 97 36 75 78 30 146 104 204 37 64 46 70 320 57 28 19 159 20 44 99 77 29 52 27 65 143 100 213 86 120 169 16 12 183 274 79 45 24 38 120 29 121 104 92 221 102 145 203 208 46 139 50 33 15 31 282 70 376 166 106 60 110 36 92 94 31 37 35 76 208 17 51 166 330 42 57 33 33 37 163 27 87 17 29 147 51 197 191 32 88 54 112 111 52 128 10 187 57 113 4 10 104 55 136 16 46 46 32 10 84 17 47 195 7 51 75 25 97 143 140 75 35 52 72 182 40 211 64 9 53 48 409 32 165 20 43 121 49 70 32 82 46 70 63 31 234 50 56 157 245 37 216 17 106 78 141 49 25 28 172 52 107 78 82 30 42 33 66 187 286 409 166 149 18 4 4 263 12 42 309 18 80 181 332 82 107 122 114 38 54 91 10 84 27 115 32 68 150 340 70 266 208 75 23 194 67 50 102 37 47 312 56 114 136 160 159 82 25 20 24 425 246 49 90 74 19 81 260 55 103 52 21 27 180 43 9 79 13 75 37 229 177 32 47 105 50 348 168 40 42 123 18 212 39 22 166 100 106 40 187 21 97 158 117 198 23 32 55 23 43 71 16 99 32 39 33 33 5 102 96 62 192 462 22 134 249 28 76 41 19 28 56 62 17 165 25 106 54 60 146 224 43 23 241 7 97 26 17 91 365 142 51 150 80 99 20 59 110 41 67 225 198 54 43 65 48 132 54 75 99 44 42 16 290 18 67 53 12 257 5 116 97 208 15 38 157 86 90 102 58 210 110 121 47 51 21 101 167 41 78 246 162 199 60 341 182 35 37 27 106 4 51 62 295 42 53 118 169 10 3 92 62 74 24 42 45 236 15 113 54 85 133 39 103 337 120 168 54 136 172 89 118 28 9 37 79 218 35 50 297 69 105 49 1 36 26 7 76 152 37 39 63 84 140 376 38 46 10 44 47 53 21 114 31 26 136 121 188 56 26 17 14 51 177 35 61 73 29 122 63 52 33 99 56 28 111 56 34 85 57 116 105 32 343 85 182 64 44 283 118 34 174 104 89 203 28 258 117 36 75 196 77 65 134 47 163 39 77 91 90 15 49 47 329 25 8 82 79 8 155 53 51 138 71 50 63 41 96 17 46 26 117 162 55 16 86 92 24 45 97 42 195 60 126 19 80 82 9 40 108 96 109 61 122 66 52 73 249 178 65 62 102 33 39 26 4 85 34 31 32 27 265 106 85 83 36 49 145 29 101 76 30 65 106 196 34 32 38 36 114 98 102 282 161 176 49 90 124 24 48 36 8 78 15 30 10 189 37 82 107 179 74 24 125 11 132 213 118 69 116 29 114 117 20 74 80 14 103 33 177 22 253 34 73 536 15 143 76 43 47 43 75 21 54 105 169 13 99 176 115 44 6 96 26 23 66 52 7 229 107 221 109 244 94 28 148 69 203 136 86 61 7 32 64 83 125 37 25 163 86 89 26 139 153 363 10 56 57 78 5 37 126 50 170 51 96 37 30 103 65 115 265 47 140 227 8 47 89 35 159 99 269 40 179 11 27 224 100 147 207 120 132 99 47 44 14 160 82 265 17 75 16 24 32 226 3 108 246 23 138 92 8 208 23 375 180 154 32 236 35 66 129 153 34 43 57 89 462 127 61 58 48 157 33 104 67 64 51 149 120 61 37 223 160 83 415 168 78 71 32 39 105 305 28 43 19 215 222 51 29 95 44 22 286 26 197 212 174 23 82 51 190 121 275 26 14 244 248 106 68 178 88 19 129 58 90 201 32 158 26 135 28 247 61 28 146 29 62 13 17 76 25 28 23 20 59 498 11 29 146 59 36 164 47 66 90 64 13 49 9 121 57 202 138 34 18 20 278 17 163 127 41 17 256 26 60 31 34 42 288 66 156 103 66 54 28 29 77 6 187 20 43 68 37 2 273 9 48 114 49 71 63 108 60 16 22 154 23 42 252 5 19 200 92 73 45 33 189 53 66 107 88 17 180 88 142 181 36 54 42 60 74 211 213 26 16 237 67 44 48 126 24 233 198 19 21 25 98 307 162 67 45 127 25 200 7 18 20 75 43 63 25 10 473 104 27 21 46 111 136 27 24 95 39 71 33 93 85 230 53 150 90 55 186 43 62 135 162 122 27 176 80 48 298 145 5 32 98 31 178 140 58 293 186 149 73 207 67 47 96 76 28 62 43 132 136 68 129 121 54 139 132 10 65 103 38 31 17 55 21 3 105 8 182 37 22 118 299 141 61 172 196 20 92 24 254 59 93 203 26 32 124 31 64 77 70 48 128 87 105 32 82 89 51 36 150 267 187 45 74 268 140 101 415 61 34 55 86 215 17 454 93 53 19 85 145 35 92 165 259 140 37 43 106 68 140 72 173 131 62 40 38 3 111 61 141 26 28 99 25 88 38 191 131 220 19 105 64 344 20 493 162 63 8 35 127 48 216 14 10 21 224 89 6 43 292 150 61 83 20 67 88 57 29 87 20 13 107 23 164 65 136 45 201 28 98 48 95 62 61 44 57 82 183 185 64 47 279 28 21 65 47 99 34 230 31 230 19 144 27 117 37 61 105 57 65 19 71 34 13 13 30 183 132 92 27 7 30 48 52 52 245 123 234 115 142 25 201 133 80 71 45 190 145 121 240 183 10 188 38 22 21 72 140 51 70 185 85 248 45 198 34 78 6 246 21 91 47 31 41 23 105 15 234 25 86 102 126 101 80 111 156 182 27 159 176 84 67 175 80 173 119 80 23 101 43 95 288 80 19 147 56 204 59 67 141 23 15 147 53 178 143 164 49 179 139 77 36 362 71 83 57 69 190 194 128 45 259 23 71 34 77 134 146 195 51 50 24 312 72 82 98 140 29 343 108 30 19 27 66 59 235 203 135 123 121 228 0 30 204 54 206 113 287 68 125 83 74 26 83 110 52 193 86 82 98 71 30 39 4 30 26 42 91 20 22 56 59 162 66 539 232 107 174 208 89 76 56 138 144 82 81 32 133 45 153 33 63 193 131 39 17 65 133 255 130 46 188 4 152 55 171 41 11 118 209 64 126 31 8 114 53 140 135 73 17 115 28 146 147 60 46 68 172 133 83 30 16 60 38 40 46 44 101 54 49 77 153 80 276 10 130 32 173 42 181 199 79 115 215 11 105 108 49 164 156 87 48 20 67 107 82 249 9 150 78 26 106 56 25 93 12 63 18 72 72 147 110 36 134 11 249 77 248 58 66 33 62 20 92 63 79 78 14 122 176 54 32 64 249 187 98 98 76 139 37 34 162 35 96 22 64 30 54 4 68 110 75 185 31 212 90 215 41 77 93 9 77 181 28 287 140 178 123 20 153 104 116 169 66 109 24 132 86 67 137 239 75 98 123 121 250 131 14 113 68 211 132 8 35 63 76 87 17 114 91 95 260 75 21 78 110 30 186 104 29 23 27 75 97 69 369 85 216 28 184 106 1 170 10 52 255 98 32 19 410 162 48 155 31 72 37 192 120 89 160 119 0 36 46 21 42 156 156 15 79 17 240 107 24 3 117 71 87 13 173 88 18 117 112 63 22 54 10 84 125 76 77 121 41 54 36 5 120 94 27 63 82 69 140 119 41 226 31 23 53 27 133 256 34 46 271 30 166 72 70 16 26 74 142 59 57 49 77 16 60 264 12 27 29 105 26 165 21 94 72 57 9 300 225 70 215 499 234 165 163 126 15 52 35 93 39 95 139 149 50 65 34 25 345 29 18 15 78 32 52 30 264 126 17 55 56 94 112 64 128 23 63 108 22 83 68 633 108 118 26 60 89 13 285 38 116 72 63 316 32 120 67 49 83 91 250 79 53 26 177 123 141 75 199 171 17 429 384 16 86 124 308 165 227 234 135 47 43 33 77 216 211 73 10 44 50 147 104 58 74 42 58 44 62 101 169 97 33 106 76 77 37 220 45 122 55 95 124 25 37 93 89 278 33 112 155 7 17 58 80 19 48 84 34 73 130 22 189 1 44 147 94 114 70 72 144 56 72 26 22 177 100 42 80 45 110 396 185 124 190 60 72 38 52 125 40 47 61 56 189 112 11 107 59 40 52 6 49 79 77 48 38 85 20 19 52 122 4 6 242 82 36 90 184 210 1 82 30 129 33 176 57 106 39 27 250 81 48 232 113 178 326 128 245 39 37 285 11 119 11 45 81 56 29 121 63 87 17 200 153 246 191 195 71 24 85 37 55 152 53 156 89 21 40 17 26 17 27 67 154 63 29 19 35 53 33 504 41 47 111 50 26 299 359 22 261 46 55 157 219 51 100 175 243 134 45 26 75 488 214 7 31 81 281 291 45 88 64 73 77 211 76 39 78 75 122 23 151 62 34 15 364 26 60 29 19 47 67 218 8 243 37 29 12 30 104 311 29 106 323 51 69 35 45 8 79 10 20 35 41 107 125 71 17 72 59 15 52 205 297 36 145 51 101 25 152 18 228 74 40 108 56 65 218 90 34 31 276 83 94 14 62 239 85 22 42 42 193 70 10 125 101 133 21 17 68 128 149 41 115 156 95 59 62 50 136 40 76 7 24 143 22 131 94 24 113 87 262 29 597 82 120 54 239 18 43 65 48 26 36 90 75 19 117 90 26 65 64 64 22 41 72 110 147 48 283 14 39 169 133 64 98 9 50 23 209 95 17 44 40 67 29 126 108 98 145 75 31 59 32 210 245 43 230 250 133 90 31 111 54 156 71 31 125 23 86 21 114 81 56 80 41 38 29 117 54 54 268 8 113 75 84 89 49 216 147 19 96 7 76 172 23 137 15 12 63 135 45 49 70 33 268 97 73 117 95 62 15 16 61 90 67 113 31 325 98 247 231 46 54 29 28 80 205 39 240 447 150 2 54 16 115 37 16 6 153 23 234 158 120 108 112 206 85 57 24 202 23 65 103 305 291 135 136 47 51 46 84 84 174 245 194 19 8 97 49 21 77 150 169 83 9 11 97 41 110 85 33 65 88 58 29 47 13 46 36 112 52 37 27 46 171 128 111 150 26 59 106 106 24 229 155 16 103 65 38 55 10 272 134 134 316 77 9 22 94 133 62 93 45 267 82 133 166 230 44 45 44 221 203 287 48 23 31 43 48 44 35 74 70 99 12 62 15 200 23 51 14 23 22 77 37 61 148 70 14 111 171 13 12 27 22 29 1 220 76 127 317 26 59 9 63 109 52 447 51 46 117 43 75 35 177 100 32 7 82 76 119 45 87 101 131 198 68 63 101 21 114 13 49 104 357 32 78 22 38 5 149 148 11 218 35 75 69 119 13 448 10 75 115 18 106 78 254 22 60 44 33 15 86 44 166 140 95 12 127 72 59 105 110 72 34 78 193 236 52 48 43 80 68 44 105 105 49 284 360 64 257 55 51 22 40 17 408 53 194 53 116 44 14 23 65 39 78 32 51 8 149 28 24 7 45 48 43 10 46 88 12 51 71 25 91 55 18 88 91 91 46 75 211 55 19 74 64 34 87 59 86 26 251 29 86 57 33 122 198 65 77 92 400 102 75 78 118 39 29 30 51 64 20 85 20 55 144 116 50 246 27 56 49 52 131 26 17 26 52 53 50 254 27 19 41 24 8 13 61 50 123 57 42 123 53 199 77 112 27 64 45 31 76 75 68 69 45 32 62 30 42 283 62 61 42 79 22 78 73 44 308 22 13 28 94 107 83 186 60 88 108 336 63 140 8 92 33 249 102 233 138 54 75 61 39 141 62 426 123 197 22 28 94 271 178 135 112 108 214 155 103 47 119 37 11 75 87 44 63 9 59 40 30 9 86 127 85 113 54 23 68 44 32 21 146 67 17 10 77 87 45 24 249 61 57 79 72 211 25 9 30 15 62 48 37 65 3 30 13 177 57 81 168 65 117 82 44 115 46 71 87 154 38 21 260 99 189 28 67 117 53 49 8 114 30 110 51 233 100 151 74 45 13 92 90 19 94 105 46 124 29 55 37 166 155 128 58 135 54 15 216 30 163 210 99 69 13 20 31 227 161 147 53 16 78 13 70 160 118 221 89 49 15 69 28 59 41 98 42 61 15 55 100 9 75 18 27 92 75 102 170 57 15 173 98 60 33 41 87 102 49 74 66 86 181 42 14 28 82 129 6 173 83 169 143 19 48 143 77 173 328 77 76 5 46 76 117 167 79 55 53 8 9 120 20 62 109 87 44 10 20 16 86 77 37 98 102 40 91 76 89 59 136 116 161 91 77 384 79 128 27 234 75 206 14 178 79 304 73 434 110 200 110 39 150 6 17 81 35 32 27 51 45 36 37 146 191 30 8 14 33 200 52 237 151 17 170 251 273 32 122 54 101 111 27 50 61 268 116 470 16 37 163 27 304 246 322 37 46 31 131 102 33 105 51 61 32 67 50 91 97 154 124 33 80 27 24 141 77 37 9 48 19 128 40 77 49 137 413 27 120 139 2 63 181 1 54 40 314 226 95 30 5 8 130 75 87 88 19 40 205 71 15 34 27 39 242 155 54 29 93 161 35 177 97 237 30 48 57 178 23 185 42 128 15 27 60 14 30 158 109 41 99 10 27 35 33 80 24 37 48 83 142 50 32 173 140 129 168 43 20 49 73 53 92 109 183 48 19 82 308 47 140 261 253 3 99 121 127 42 57 63 30 257 24 13 72 247 333 34 46 120 24 344 46 180 26 88 74 18 51 23 27 72 150 97 102 27 44 154 7 10 7 42 140 65 279 44 162 131 4 60 67 48 66 46 124 99 30 126 22 110 61 31 26 12 222 7 279 52 49 227 133 127 28 50 184 146 81 51 136 158 39 69 156 17 82 21 170 15 52 41 232 52 86 60 53 68 52 57 30 26 74 16 9 172 32 31 99 16 73 42 132 237 128 66 116 29 111 108 62 75 209 67 88 204 131 42 35 28 133 80 49 39 103 211 63 70 39 3 29 65 14 121 198 35 45 28 108 35 48 128 55 32 58 20 345 76 78 24 14 48 56 25 279 119 62 127 37 34 61 72 79 112 61 18 14 28 38 77 31 203 25 164 27 137 91 28 45 6 57 201 104 60 89 29 196 184 58 3 73 21 46 52 53 46 56 51 48 83 75 51 20 71 92 79 74 232 23 52 58 101 27 140 23 35 16 11 97 43 100 22 36 83 43 111 25 63 26 79 90 65 74 22 26 44 16 82 49 256 39 151 133 73 32 98 30 89 165 35 407 109 53 42 28 168 183 163 11 10 100 4 121 243 20 23 56 182 48 108 40 49 275 88 63 95 79 40 54 26 58 9 51 155 46 65 102 19 17 79 26 68 20 21 103 55 118 61 39 92 160 151 41 4 99 130 16 118 214 45 182 44 29 88 15 165 109 44 182 17 69 262 29 68 121 105 23 373 48 20 62 47 65 34 87 140 38 69 52 124 10 184 325 13 55 93 9 120 37 51 136 47 34 14 119 54 47 36 108 126 75 319 77 77 101 120 83 34 45 117 95 43 316 69 173 22 40 113 71 117 73 51 304 19 257 115 104 61 70 148 73 4 147 65 88 5 229 251 64 23 53 33 47 221 33 85 188 28 334 10 16 64 88 160 46 305 267 324 602 30 431 26 31 160 43 78 42 60 59 47 9 199 25 57 158 25 75 138 92 183 8 7 123 349 241 170 74 41 164 21 84 53 62 59 247 67 70 68 115 229 26 82 142 8 2 370 61 54 33 60 213 39 300 145 15 33 23 168 21 356 44 67 32 24 82 66 16 13 37 56 91 113 195 114 87 144 112 149 110 26 85 18 88 69 91 37 161 126 22 122 300 500 293 19 39 10 138 125 99 161 51 57 56 186 38 16 118 289 26 121 34 22 79 268 283 28 128 303 272 110 273 106 55 354 164 478 163 121 53 53 4 42 15 122 46 8 74 102 65 41 31 51 41 233 34 93 319 55 63 71 90 132 173 23 44 73 100 8 33 69 37 131 133 29 254 161 38 47 54 96 52 223 14 50 15 40 155 297 17 86 71 65 187 14 7 84 98 25 270 97 47 67 49 40 68 41 63 106 53 53 19 110 62 320 32 133 16 62 312 197 156 38 42 197 20 62 21 49 48 80 53 80 22 53 204 56 118 163 219 44 93 125 34 127 35 124 58 17 32 112 13 129 77 24 11 90 27 26 142 11 252 33 14 49 99 145 19 66 50 31 71 26 81 42 120 128 238 245 119 46 218 77 184 57 287 46 158 50 73 24 81 17 72 27 47 14 18 32 125 52 202 170 30 137 75 28 78 152 60 16 99 74 11 110 54 385 61 23 224 7 55 32 72 51 48 397 25 142 179 365 39 48 292 22 109 64 10 20 27 37 56 48 145 24 25 276 13 227 211 121 109 29 37 163 126 82 37 74 99 73 127 37 11 118 19 76 12 70 412 132 33 103 54 154 115 154 58 7 76 252 12 67 71 179 13 48 77 214 28 92 86 70 182 100 37 41 106 163 60 82 45 42 73 5 61 176 444 81 279 293 186 16 30 21 35 375 132 73 11 20 22 52 107 13 106 28 83 265 33 59 122 102 30 57 162 339 21 70 301 187 114 29 69 109 134 61 92 23 47 80 161 69 168 14 136 248 13 126 41 112 90 40 138 96 131 68 115 189 19 18 117 258 48 151 67 53 83 145 33 293 205 42 13 36 27 136 69 75 8 56 117 110 17 125 151 174 26 55 49 106 214 63 245 47 38 47 12 100 36 66 77 149 14 79 110 149 177 138 41 11 290 190 21 197 108 38 69 151 57 117 74 39 40 23 74 8 118 23 25 62 31 28 192 108 91 23 17 172 11 137 52 142 157 159 307 420 154 74 113 107 229 139 27 130 164 76 185 14 62 53 185 13 110 282 20 26 107 255 219 45 11 49 116 160 38 75 13 139 6 133 56 24 157 20 28 27 140 35 81 200 256 89 323 345 24 174 72 11 96 19 89 470 132 194 7 42 64 247 164 63 28 344 31 110 42 32 103 50 94 52 153 83 299 37 61 17 173 159 305 14 216 71 113 77 45 113 49 14 29 27 151 68 62 21 15 18 51 150 66 66 18 5 107 69 92 43 54 116 126 165 32 36 21 19 82 58 151 186 72 34 17 23 37 140 109 24 39 227 152 124 41 58 62 125 38 34 19 133 37 158 192 252 36 65 56 37 43 24 21 14 59 83 5 51 28 95 100 60 47 249 145 136 141 78 218 29 51 202 105 39 212 33 26 37 60 49 88 86 224 24 191 68 84 43 111 30 462 102 74 170 14 65 113 437 144 114 308 49 24 39 55 79 181 15 31 59 47 44 161 315 65 4 106 34 68 336 133 21 10 54 60 103 111 25 35 108 25 61 71 52 31 153 206 350 171 47 75 17 68 154 122 11 304 64 46 418 141 19 16 185 168 24 39 29 90 118 294 22 29 25 11 31 14 27 135 191 67 41 409 141 132 9 68 61 45 145 92 106 328 61 78 30 133 67 13 243 129 68 21 220 123 49 165 36 50 151 173 44 42 66 32 28 51 53 175 11 30 81 66 77 273 70 138 45 23 28 194 219 85 170 2 40 21 81 28 85 62 261 27 46 20 6 108 21 15 246 55 64 29 94 36 164 68 100 22 59 225 290 112 5 13 265 0 43 97 21 161 140 42 55 163 47 68 3 14 27 166 27 7 85 46 109 76 251 26 84 50 39 62 30 9 23 161 283 166 100 34 38 66 30 216 16 22 152 52 97 37 60 70 40 54 272 220 42 31 51 45 40 132 74 9 26 139 99 27 163 54 77 29 123 128 187 47 125 101 61 527 73 44 128 33 123 22 102 70 13 25 136 102 34 240 136 88 32 43 29 88 155 163 43 86 136 250 66 91 88 21 61 89 121 221 11 53 14 54 204 42 22 41 645 145 25 315 200 69 36 57 30 49 28 141 41 25 17 40 318 76 110 76 196 109 32 42 117 25 215 49 108 48 123 42 67 104 212 84 58 176 82 69 29 214 57 53 43 191 340 118 147 17 50 54 80 151 78 39 82 137 61 12 14 86 14 232 40 14 34 112 10 115 90 58 153 148 219 61 58 29 69 135 41 33 56 93 12 44 172 84 209 91 167 24 45 144 24 8 118 18 153 287 60 38 86 27 76 47 115 89 21 101 214 41 206 73 58 123 101 95 44 165 84 154 40 19 92 132 79 13 116 68 97 124 70 41 79 164 57 271 21 54 80 106 25 56 149 172 89 99 186 10 114 35 77 116 45 41 131 21 191 35 51 11 121 33 104 61 43 54 61 104 43 33 17 61 157 16 31 61 160 68 79 34 112 29 8 94 9 112 48 166 71 58 79 199 44 173 179 65 62 184 65 24 39 8 98 42 6 111 135 74 54 62 83 74 116 20 70 36 75 46 148 122 62 30 29 52 5 143 45 42 101 17 39 19 213 22 56 13 124 47 174 138 47 51 35 206 88 98 80 21 197 103 171 52 151 16 108 73 87 160 97 58 359 39 87 126 280 31 14 26 109 122 43 178 81 106 148 38 238 78 22 29 41 12 39 30 54 40 107 140 124 357 308 144 72 51 77 56 40 137 12 53 40 20 99 35 122 58 78 40 51 139 63 32 28 51 174 76 60 134 80 89 89 80 16 43 188 66 124 52 24 16 114 103 19 83 195 70 49 23 50 50 13 80 60 317 22 180 74 40 21 34 22 281 97 85 159 45 72 166 234 16 245 110 36 529 51 91 31 119 14 53 65 118 63 21 39 36 192 149 40 54 37 12 14 45 59 137 248 115 40 69 44 93 110 69 38 134 146 65 13 70 216 245 82 236 95 293 49 26 20 109 13 39 25 59 37 30 75 84 37 132 114 34 18 32 130 104 55 17 163 21 36 4 76 1 63 17 116 14 69 319 238 119 76 64 417 81 135 282 92 74 49 29 66 69 13 184 40 95 12 11 4 19 541 49 102 76 18 94 24 243 242 204 137 35 187 44 82 44 109 257 132 123 124 42 340 3 15 119 72 11 82 84 58 18 36 136 165 142 47 76 271 84 126 100 18 191 133 87 72 15 14 123 85 20 92 132 290 240 110 164 15 89 42 96 47 37 86 32 248 29 70 164 61 3 31 18 18 23 24 20 127 142 233 153 94 43 33 111 59 44 138 12 144 144 156 14 102 100 24 39 283 21 29 61 29 80 58 189 13 185 34 36 105 513 131 87 33 191 14 66 103 16 49 54 104 300 49 136 51 35 39 188 53 63 110 75 9 52 48 319 37 45 40 89 92 11 29 11 189 112 61 136 219 78 31 34 68 76 164 38 314 28 59 81 128 82 96 81 147 38 25 30 11 48 24 89 11 182 75 100 320 47 117 20 226 504 94 77 55 132 39 170 109 30 116 294 25 78 18 34 28 108 3 107 71 184 167 17 86 81 37 29 76 85 44 158 262 158 174 32 167 38 9 237 66 69 189 36 12 30 143 70 220 315 70 94 74 53 138 87 108 110 20 33 152 173 41 136 54 31 259 38 16 160 155 156 63 239 207 97 45 15 156 48 117 128 21 112 194 44 184 54 65 69 123 14 255 78 275 31 120 67 108 44 108 36 80 66 169 43 227 68 62 109 112 43 411 71 253 160 51 135 169 31 10 111 186 44 133 209 69 43 81 51 15 113 69 22 105 137 356 65 15 37 130 61 21 34 11 13 33 43 35 52 199 71 81 69 47 54 86 79 55 205 33 77 94 163 107 11 229 123 3 117 10 74 79 2 93 32 163 142 27 73 124 364 72 48 116 17 78 255 13 101 35 53 18 32 135 44 21 18 90 39 293 217 68 10 28 159 81 31 89 85 130 89 94 49 24 78 55 202 109 70 12 106 19 137 49 160 11 14 291 79 36 22 82 36 128 145 33\n",
            "[3.509e+03 2.986e+03 1.613e+03 8.670e+02 4.660e+02 2.630e+02 1.350e+02\n",
            " 5.600e+01 5.500e+01 2.300e+01 1.400e+01 5.000e+00 5.000e+00 2.000e+00\n",
            " 1.000e+00 0.000e+00 0.000e+00 0.000e+00 0.000e+00 0.000e+00 0.000e+00]\n"
          ],
          "name": "stdout"
        },
        {
          "output_type": "display_data",
          "data": {
            "text/plain": [
              "<Figure size 432x288 with 1 Axes>"
            ],
            "image/png": "[encoded data removed]"
          },
          "metadata": {
            "tags": [],
            "needs_background": "light"
          }
        }
      ]
    },
    {
      "cell_type": "markdown",
      "metadata": {
        "id": "I6MltXiT9Zcj"
      },
      "source": [
        "## 4-level experiments\n",
        "\n",
        "Summary: Decrease factors near 0.9 seem to work best, with a median number of steps just above 200."
      ]
    },
    {
      "cell_type": "code",
      "metadata": {
        "id": "BNN6etyb9cqm"
      },
      "source": [
        "# find avg. number of steps for various decFac values\n",
        "decFacs = [0.85, 0.88, 0.9, 0.92, 0.94, 0.96, 0.98, 0.99, 0.994, 0.997]\n",
        "numTrials = 10000\n",
        "df4 = pd.DataFrame(columns=[\"decFac\",\"successes\",\"avg steps\",\"median steps\",\"max steps\"])\n",
        "\n",
        "for d in decFacs:\n",
        "  numSuccess = 0\n",
        "  stepList = [0]*numTrials\n",
        "  for i in range(numTrials):\n",
        "    res = findMagicTriangle(4, fastDist, d, 10000, 1000000)\n",
        "    if res[0] == 0:\n",
        "      numSuccess += 1\n",
        "      stepList[i] = res[2]\n",
        "  row = pd.Series( {\"decFac\": d, \"successes\": numSuccess, \"avg steps\": stats.mean(stepList), \"median steps\": stats.median(stepList), \"max steps\": max(stepList)} , name=str(d))\n",
        "  df4 = df4.append(row)\n",
        "  print(\"decFac\", d, \": success =\", numSuccess, \", avg steps =\", stats.mean(stepList), \", median steps =\", stats.median(stepList))"
      ],
      "execution_count": null,
      "outputs": []
    },
    {
      "cell_type": "code",
      "metadata": {
        "colab": {
          "base_uri": "https://localhost:8080/",
          "height": 359
        },
        "id": "w1S81snh9gSC",
        "outputId": "49e78129-fee4-4c4a-bd7c-41b70d1b00a4"
      },
      "source": [
        "df4"
      ],
      "execution_count": 9,
      "outputs": [
        {
          "output_type": "execute_result",
          "data": {
            "text/plain": [
              "       decFac  successes  avg steps  median steps  max steps\n",
              "0.85    0.850    10000.0   280.7463         211.0     2081.0\n",
              "0.88    0.880    10000.0   280.5324         212.0     2296.0\n",
              "0.9     0.900    10000.0   275.5891         204.0     2230.0\n",
              "0.92    0.920    10000.0   276.8955         209.0     2283.0\n",
              "0.94    0.940    10000.0   277.0719         210.0     2165.0\n",
              "0.96    0.960    10000.0   282.0220         211.0     2712.0\n",
              "0.98    0.980    10000.0   284.1465         216.0     2215.0\n",
              "0.99    0.990    10000.0   300.8496         237.0     2220.0\n",
              "0.994   0.994    10000.0   322.1691         258.0     2300.0\n",
              "0.997   0.997    10000.0   365.7321         312.0     2126.0"
            ],
            "text/html": [
              "<div>\n",
              "<style scoped>\n",
              "    .dataframe tbody tr th:only-of-type {\n",
              "        vertical-align: middle;\n",
              "    }\n",
              "\n",
              "    .dataframe tbody tr th {\n",
              "        vertical-align: top;\n",
              "    }\n",
              "\n",
              "    .dataframe thead th {\n",
              "        text-align: right;\n",
              "    }\n",
              "</style>\n",
              "<table border=\"1\" class=\"dataframe\">\n",
              "  <thead>\n",
              "    <tr style=\"text-align: right;\">\n",
              "      <th></th>\n",
              "      <th>decFac</th>\n",
              "      <th>successes</th>\n",
              "      <th>avg steps</th>\n",
              "      <th>median steps</th>\n",
              "      <th>max steps</th>\n",
              "    </tr>\n",
              "  </thead>\n",
              "  <tbody>\n",
              "    <tr>\n",
              "      <th>0.85</th>\n",
              "      <td>0.850</td>\n",
              "      <td>10000.0</td>\n",
              "      <td>280.7463</td>\n",
              "      <td>211.0</td>\n",
              "      <td>2081.0</td>\n",
              "    </tr>\n",
              "    <tr>\n",
              "      <th>0.88</th>\n",
              "      <td>0.880</td>\n",
              "      <td>10000.0</td>\n",
              "      <td>280.5324</td>\n",
              "      <td>212.0</td>\n",
              "      <td>2296.0</td>\n",
              "    </tr>\n",
              "    <tr>\n",
              "      <th>0.9</th>\n",
              "      <td>0.900</td>\n",
              "      <td>10000.0</td>\n",
              "      <td>275.5891</td>\n",
              "      <td>204.0</td>\n",
              "      <td>2230.0</td>\n",
              "    </tr>\n",
              "    <tr>\n",
              "      <th>0.92</th>\n",
              "      <td>0.920</td>\n",
              "      <td>10000.0</td>\n",
              "      <td>276.8955</td>\n",
              "      <td>209.0</td>\n",
              "      <td>2283.0</td>\n",
              "    </tr>\n",
              "    <tr>\n",
              "      <th>0.94</th>\n",
              "      <td>0.940</td>\n",
              "      <td>10000.0</td>\n",
              "      <td>277.0719</td>\n",
              "      <td>210.0</td>\n",
              "      <td>2165.0</td>\n",
              "    </tr>\n",
              "    <tr>\n",
              "      <th>0.96</th>\n",
              "      <td>0.960</td>\n",
              "      <td>10000.0</td>\n",
              "      <td>282.0220</td>\n",
              "      <td>211.0</td>\n",
              "      <td>2712.0</td>\n",
              "    </tr>\n",
              "    <tr>\n",
              "      <th>0.98</th>\n",
              "      <td>0.980</td>\n",
              "      <td>10000.0</td>\n",
              "      <td>284.1465</td>\n",
              "      <td>216.0</td>\n",
              "      <td>2215.0</td>\n",
              "    </tr>\n",
              "    <tr>\n",
              "      <th>0.99</th>\n",
              "      <td>0.990</td>\n",
              "      <td>10000.0</td>\n",
              "      <td>300.8496</td>\n",
              "      <td>237.0</td>\n",
              "      <td>2220.0</td>\n",
              "    </tr>\n",
              "    <tr>\n",
              "      <th>0.994</th>\n",
              "      <td>0.994</td>\n",
              "      <td>10000.0</td>\n",
              "      <td>322.1691</td>\n",
              "      <td>258.0</td>\n",
              "      <td>2300.0</td>\n",
              "    </tr>\n",
              "    <tr>\n",
              "      <th>0.997</th>\n",
              "      <td>0.997</td>\n",
              "      <td>10000.0</td>\n",
              "      <td>365.7321</td>\n",
              "      <td>312.0</td>\n",
              "      <td>2126.0</td>\n",
              "    </tr>\n",
              "  </tbody>\n",
              "</table>\n",
              "</div>"
            ]
          },
          "metadata": {
            "tags": []
          },
          "execution_count": 9
        }
      ]
    },
    {
      "cell_type": "code",
      "metadata": {
        "colab": {
          "base_uri": "https://localhost:8080/"
        },
        "id": "2K_STUlJ9iek",
        "outputId": "b25cd027-172f-4bba-b784-37320440e04d"
      },
      "source": [
        "# find distribution of steps to find magic triangles\n",
        "numTrials = 10000\n",
        "stepList = [0]*numTrials\n",
        "numSuccess = 0\n",
        "for i in range(numTrials):\n",
        "  res = findMagicTriangle(4, fastDist, 0.9, 10000, 1000000)\n",
        "  if res[0] == 0:\n",
        "    numSuccess += 1\n",
        "    stepList[i] = res[2]\n",
        "print(\"Finished! Num successes:\", numSuccess)\n",
        "print(\"min steps:\", min(stepList), \"; max steps:\", max(stepList))\n",
        "#print(*stepList)"
      ],
      "execution_count": 11,
      "outputs": [
        {
          "output_type": "stream",
          "text": [
            "Finished! Num successes: 10000\n",
            "min steps: 0 ; max steps: 2258\n"
          ],
          "name": "stdout"
        }
      ]
    },
    {
      "cell_type": "code",
      "metadata": {
        "colab": {
          "base_uri": "https://localhost:8080/",
          "height": 347
        },
        "id": "Bv3Mkzn4_LZb",
        "outputId": "95277b3d-2240-48dd-d967-57ee52392617"
      },
      "source": [
        "bins = np.linspace(0,2300,num=23)\n",
        "n, b, p = plt.hist(stepList, bins=bins, color='g', edgecolor='k')\n",
        "plt.xlabel(\"number of steps\")\n",
        "plt.ylabel(\"frequency\")\n",
        "print(n)"
      ],
      "execution_count": 12,
      "outputs": [
        {
          "output_type": "stream",
          "text": [
            "[2.239e+03 2.767e+03 1.791e+03 1.153e+03 7.980e+02 4.640e+02 2.780e+02\n",
            " 1.800e+02 1.160e+02 6.700e+01 4.800e+01 3.400e+01 2.900e+01 9.000e+00\n",
            " 9.000e+00 7.000e+00 3.000e+00 4.000e+00 1.000e+00 1.000e+00 0.000e+00\n",
            " 2.000e+00]\n"
          ],
          "name": "stdout"
        },
        {
          "output_type": "display_data",
          "data": {
            "text/plain": [
              "<Figure size 432x288 with 1 Axes>"
            ],
            "image/png": "[encoded data removed]"
          },
          "metadata": {
            "tags": [],
            "needs_background": "light"
          }
        }
      ]
    },
    {
      "cell_type": "markdown",
      "metadata": {
        "id": "YmVp7z4u-uOn"
      },
      "source": [
        "## 5-level experiments\n",
        "\n",
        "Summary: decFac about 0.997 and reset about 10000 seem to work well, but there is substantial variability between trials"
      ]
    },
    {
      "cell_type": "code",
      "metadata": {
        "id": "_1xbN2qQ-6MG"
      },
      "source": [
        "# find avg. number of steps for various decFac and reset values\n",
        "decFacs = [0.99, 0.994, 0.997, 0.998, 0.999, 0.9993, 0.9995]\n",
        "resets = [10000, 20000, 30000, 40000]\n",
        "numTrials = 1000\n",
        "\n",
        "df5 = pd.DataFrame(columns=[\"decFac\",\"reset\",\"successes\",\"avg steps\",\"median steps\",\"max steps\"])\n",
        "\n",
        "for d in decFacs:\n",
        "  for r in resets:\n",
        "    numSuccess = 0\n",
        "    stepList = [0]*numTrials\n",
        "    for i in range(numTrials):\n",
        "      res = findMagicTriangle(5, fastDist, d, r, 1000000)\n",
        "      if res[0] == 0:\n",
        "        numSuccess += 1\n",
        "        stepList[i] = res[2]\n",
        "    row = pd.Series( {\"decFac\": d, \"reset\":r, \"successes\": numSuccess, \"avg steps\": stats.mean(stepList), \"median steps\": stats.median(stepList), \"max steps\": max(stepList)} , name=str(d))\n",
        "    df5 = df5.append(row)\n",
        "    print(\"decFac\", d, \"; reset\", r, \": success =\", numSuccess, \", avg steps =\", stats.mean(stepList), \", median steps =\", stats.median(stepList))"
      ],
      "execution_count": null,
      "outputs": []
    },
    {
      "cell_type": "code",
      "metadata": {
        "colab": {
          "base_uri": "https://localhost:8080/",
          "height": 917
        },
        "id": "j6jwHr5T-9Xw",
        "outputId": "82d5493e-840b-4724-a24f-6ef6d372e3ed"
      },
      "source": [
        "df5"
      ],
      "execution_count": 16,
      "outputs": [
        {
          "output_type": "execute_result",
          "data": {
            "text/plain": [
              "        decFac    reset  successes  avg steps  median steps  max steps\n",
              "0.99    0.9900  10000.0     1000.0   7734.962        3093.5   173645.0\n",
              "0.99    0.9900  20000.0     1000.0  14480.479        3130.0   380555.0\n",
              "0.99    0.9900  30000.0     1000.0  15499.127        3286.0   570663.0\n",
              "0.99    0.9900  40000.0     1000.0  24749.995        3166.0   732928.0\n",
              "0.994   0.9940  10000.0     1000.0   7000.854        3014.0   111779.0\n",
              "0.994   0.9940  20000.0     1000.0   8187.335        3090.5   164793.0\n",
              "0.994   0.9940  30000.0     1000.0  12710.593        3199.5   514050.0\n",
              "0.994   0.9940  40000.0     1000.0  15333.560        3255.5   485486.0\n",
              "0.997   0.9970  10000.0     1000.0   5940.203        3199.0    85931.0\n",
              "0.997   0.9970  20000.0     1000.0   8000.534        3240.5   110286.0\n",
              "0.997   0.9970  30000.0     1000.0   9108.620        3342.0   155888.0\n",
              "0.997   0.9970  40000.0     1000.0  10877.554        3104.5   205539.0\n",
              "0.998   0.9980  10000.0     1000.0   6016.078        3351.5    61401.0\n",
              "0.998   0.9980  20000.0     1000.0   7360.983        3397.5   110551.0\n",
              "0.998   0.9980  30000.0     1000.0   8002.791        3152.5   152308.0\n",
              "0.998   0.9980  40000.0     1000.0  10142.084        3374.0   209474.0\n",
              "0.999   0.9990  10000.0     1000.0   5466.646        3724.0    44400.0\n",
              "0.999   0.9990  20000.0     1000.0   6366.606        3623.0    64925.0\n",
              "0.999   0.9990  30000.0     1000.0   7960.177        3740.5    96503.0\n",
              "0.999   0.9990  40000.0     1000.0   9899.799        4136.5   126767.0\n",
              "0.9993  0.9993  10000.0     1000.0   5757.953        4189.5    36053.0\n",
              "0.9993  0.9993  20000.0     1000.0   7536.983        4414.0    82305.0\n",
              "0.9993  0.9993  30000.0     1000.0   8035.095        4264.0    90907.0\n",
              "0.9993  0.9993  40000.0     1000.0   9069.145        4479.0   123250.0\n",
              "0.9995  0.9995  10000.0     1000.0   6553.034        4934.5    52227.0\n",
              "0.9995  0.9995  20000.0     1000.0   7865.820        4973.5    62781.0\n",
              "0.9995  0.9995  30000.0     1000.0   8781.957        5081.0    74773.0\n",
              "0.9995  0.9995  40000.0     1000.0   8946.764        5014.0   117345.0"
            ],
            "text/html": [
              "<div>\n",
              "<style scoped>\n",
              "    .dataframe tbody tr th:only-of-type {\n",
              "        vertical-align: middle;\n",
              "    }\n",
              "\n",
              "    .dataframe tbody tr th {\n",
              "        vertical-align: top;\n",
              "    }\n",
              "\n",
              "    .dataframe thead th {\n",
              "        text-align: right;\n",
              "    }\n",
              "</style>\n",
              "<table border=\"1\" class=\"dataframe\">\n",
              "  <thead>\n",
              "    <tr style=\"text-align: right;\">\n",
              "      <th></th>\n",
              "      <th>decFac</th>\n",
              "      <th>reset</th>\n",
              "      <th>successes</th>\n",
              "      <th>avg steps</th>\n",
              "      <th>median steps</th>\n",
              "      <th>max steps</th>\n",
              "    </tr>\n",
              "  </thead>\n",
              "  <tbody>\n",
              "    <tr>\n",
              "      <th>0.99</th>\n",
              "      <td>0.9900</td>\n",
              "      <td>10000.0</td>\n",
              "      <td>1000.0</td>\n",
              "      <td>7734.962</td>\n",
              "      <td>3093.5</td>\n",
              "      <td>173645.0</td>\n",
              "    </tr>\n",
              "    <tr>\n",
              "      <th>0.99</th>\n",
              "      <td>0.9900</td>\n",
              "      <td>20000.0</td>\n",
              "      <td>1000.0</td>\n",
              "      <td>14480.479</td>\n",
              "      <td>3130.0</td>\n",
              "      <td>380555.0</td>\n",
              "    </tr>\n",
              "    <tr>\n",
              "      <th>0.99</th>\n",
              "      <td>0.9900</td>\n",
              "      <td>30000.0</td>\n",
              "      <td>1000.0</td>\n",
              "      <td>15499.127</td>\n",
              "      <td>3286.0</td>\n",
              "      <td>570663.0</td>\n",
              "    </tr>\n",
              "    <tr>\n",
              "      <th>0.99</th>\n",
              "      <td>0.9900</td>\n",
              "      <td>40000.0</td>\n",
              "      <td>1000.0</td>\n",
              "      <td>24749.995</td>\n",
              "      <td>3166.0</td>\n",
              "      <td>732928.0</td>\n",
              "    </tr>\n",
              "    <tr>\n",
              "      <th>0.994</th>\n",
              "      <td>0.9940</td>\n",
              "      <td>10000.0</td>\n",
              "      <td>1000.0</td>\n",
              "      <td>7000.854</td>\n",
              "      <td>3014.0</td>\n",
              "      <td>111779.0</td>\n",
              "    </tr>\n",
              "    <tr>\n",
              "      <th>0.994</th>\n",
              "      <td>0.9940</td>\n",
              "      <td>20000.0</td>\n",
              "      <td>1000.0</td>\n",
              "      <td>8187.335</td>\n",
              "      <td>3090.5</td>\n",
              "      <td>164793.0</td>\n",
              "    </tr>\n",
              "    <tr>\n",
              "      <th>0.994</th>\n",
              "      <td>0.9940</td>\n",
              "      <td>30000.0</td>\n",
              "      <td>1000.0</td>\n",
              "      <td>12710.593</td>\n",
              "      <td>3199.5</td>\n",
              "      <td>514050.0</td>\n",
              "    </tr>\n",
              "    <tr>\n",
              "      <th>0.994</th>\n",
              "      <td>0.9940</td>\n",
              "      <td>40000.0</td>\n",
              "      <td>1000.0</td>\n",
              "      <td>15333.560</td>\n",
              "      <td>3255.5</td>\n",
              "      <td>485486.0</td>\n",
              "    </tr>\n",
              "    <tr>\n",
              "      <th>0.997</th>\n",
              "      <td>0.9970</td>\n",
              "      <td>10000.0</td>\n",
              "      <td>1000.0</td>\n",
              "      <td>5940.203</td>\n",
              "      <td>3199.0</td>\n",
              "      <td>85931.0</td>\n",
              "    </tr>\n",
              "    <tr>\n",
              "      <th>0.997</th>\n",
              "      <td>0.9970</td>\n",
              "      <td>20000.0</td>\n",
              "      <td>1000.0</td>\n",
              "      <td>8000.534</td>\n",
              "      <td>3240.5</td>\n",
              "      <td>110286.0</td>\n",
              "    </tr>\n",
              "    <tr>\n",
              "      <th>0.997</th>\n",
              "      <td>0.9970</td>\n",
              "      <td>30000.0</td>\n",
              "      <td>1000.0</td>\n",
              "      <td>9108.620</td>\n",
              "      <td>3342.0</td>\n",
              "      <td>155888.0</td>\n",
              "    </tr>\n",
              "    <tr>\n",
              "      <th>0.997</th>\n",
              "      <td>0.9970</td>\n",
              "      <td>40000.0</td>\n",
              "      <td>1000.0</td>\n",
              "      <td>10877.554</td>\n",
              "      <td>3104.5</td>\n",
              "      <td>205539.0</td>\n",
              "    </tr>\n",
              "    <tr>\n",
              "      <th>0.998</th>\n",
              "      <td>0.9980</td>\n",
              "      <td>10000.0</td>\n",
              "      <td>1000.0</td>\n",
              "      <td>6016.078</td>\n",
              "      <td>3351.5</td>\n",
              "      <td>61401.0</td>\n",
              "    </tr>\n",
              "    <tr>\n",
              "      <th>0.998</th>\n",
              "      <td>0.9980</td>\n",
              "      <td>20000.0</td>\n",
              "      <td>1000.0</td>\n",
              "      <td>7360.983</td>\n",
              "      <td>3397.5</td>\n",
              "      <td>110551.0</td>\n",
              "    </tr>\n",
              "    <tr>\n",
              "      <th>0.998</th>\n",
              "      <td>0.9980</td>\n",
              "      <td>30000.0</td>\n",
              "      <td>1000.0</td>\n",
              "      <td>8002.791</td>\n",
              "      <td>3152.5</td>\n",
              "      <td>152308.0</td>\n",
              "    </tr>\n",
              "    <tr>\n",
              "      <th>0.998</th>\n",
              "      <td>0.9980</td>\n",
              "      <td>40000.0</td>\n",
              "      <td>1000.0</td>\n",
              "      <td>10142.084</td>\n",
              "      <td>3374.0</td>\n",
              "      <td>209474.0</td>\n",
              "    </tr>\n",
              "    <tr>\n",
              "      <th>0.999</th>\n",
              "      <td>0.9990</td>\n",
              "      <td>10000.0</td>\n",
              "      <td>1000.0</td>\n",
              "      <td>5466.646</td>\n",
              "      <td>3724.0</td>\n",
              "      <td>44400.0</td>\n",
              "    </tr>\n",
              "    <tr>\n",
              "      <th>0.999</th>\n",
              "      <td>0.9990</td>\n",
              "      <td>20000.0</td>\n",
              "      <td>1000.0</td>\n",
              "      <td>6366.606</td>\n",
              "      <td>3623.0</td>\n",
              "      <td>64925.0</td>\n",
              "    </tr>\n",
              "    <tr>\n",
              "      <th>0.999</th>\n",
              "      <td>0.9990</td>\n",
              "      <td>30000.0</td>\n",
              "      <td>1000.0</td>\n",
              "      <td>7960.177</td>\n",
              "      <td>3740.5</td>\n",
              "      <td>96503.0</td>\n",
              "    </tr>\n",
              "    <tr>\n",
              "      <th>0.999</th>\n",
              "      <td>0.9990</td>\n",
              "      <td>40000.0</td>\n",
              "      <td>1000.0</td>\n",
              "      <td>9899.799</td>\n",
              "      <td>4136.5</td>\n",
              "      <td>126767.0</td>\n",
              "    </tr>\n",
              "    <tr>\n",
              "      <th>0.9993</th>\n",
              "      <td>0.9993</td>\n",
              "      <td>10000.0</td>\n",
              "      <td>1000.0</td>\n",
              "      <td>5757.953</td>\n",
              "      <td>4189.5</td>\n",
              "      <td>36053.0</td>\n",
              "    </tr>\n",
              "    <tr>\n",
              "      <th>0.9993</th>\n",
              "      <td>0.9993</td>\n",
              "      <td>20000.0</td>\n",
              "      <td>1000.0</td>\n",
              "      <td>7536.983</td>\n",
              "      <td>4414.0</td>\n",
              "      <td>82305.0</td>\n",
              "    </tr>\n",
              "    <tr>\n",
              "      <th>0.9993</th>\n",
              "      <td>0.9993</td>\n",
              "      <td>30000.0</td>\n",
              "      <td>1000.0</td>\n",
              "      <td>8035.095</td>\n",
              "      <td>4264.0</td>\n",
              "      <td>90907.0</td>\n",
              "    </tr>\n",
              "    <tr>\n",
              "      <th>0.9993</th>\n",
              "      <td>0.9993</td>\n",
              "      <td>40000.0</td>\n",
              "      <td>1000.0</td>\n",
              "      <td>9069.145</td>\n",
              "      <td>4479.0</td>\n",
              "      <td>123250.0</td>\n",
              "    </tr>\n",
              "    <tr>\n",
              "      <th>0.9995</th>\n",
              "      <td>0.9995</td>\n",
              "      <td>10000.0</td>\n",
              "      <td>1000.0</td>\n",
              "      <td>6553.034</td>\n",
              "      <td>4934.5</td>\n",
              "      <td>52227.0</td>\n",
              "    </tr>\n",
              "    <tr>\n",
              "      <th>0.9995</th>\n",
              "      <td>0.9995</td>\n",
              "      <td>20000.0</td>\n",
              "      <td>1000.0</td>\n",
              "      <td>7865.820</td>\n",
              "      <td>4973.5</td>\n",
              "      <td>62781.0</td>\n",
              "    </tr>\n",
              "    <tr>\n",
              "      <th>0.9995</th>\n",
              "      <td>0.9995</td>\n",
              "      <td>30000.0</td>\n",
              "      <td>1000.0</td>\n",
              "      <td>8781.957</td>\n",
              "      <td>5081.0</td>\n",
              "      <td>74773.0</td>\n",
              "    </tr>\n",
              "    <tr>\n",
              "      <th>0.9995</th>\n",
              "      <td>0.9995</td>\n",
              "      <td>40000.0</td>\n",
              "      <td>1000.0</td>\n",
              "      <td>8946.764</td>\n",
              "      <td>5014.0</td>\n",
              "      <td>117345.0</td>\n",
              "    </tr>\n",
              "  </tbody>\n",
              "</table>\n",
              "</div>"
            ]
          },
          "metadata": {
            "tags": []
          },
          "execution_count": 16
        }
      ]
    },
    {
      "cell_type": "code",
      "metadata": {
        "colab": {
          "base_uri": "https://localhost:8080/"
        },
        "id": "tm1uUA4dBgYo",
        "outputId": "e90aedf6-ec14-4929-8e0c-834a1e3fa066"
      },
      "source": [
        "# find distribution of steps to find magic triangles\n",
        "numTrials = 10000\n",
        "stepList = [0]*numTrials\n",
        "numSuccess = 0\n",
        "for i in range(numTrials):\n",
        "  res = findMagicTriangle(5, fastDist, 0.997, 10000, 1000000)\n",
        "  if res[0] == 0:\n",
        "    numSuccess += 1\n",
        "    stepList[i] = res[2]\n",
        "print(\"Finished! Num successes:\", numSuccess)\n",
        "print(\"min steps:\", min(stepList), \"; max steps:\", max(stepList))\n",
        "#print(*stepList)"
      ],
      "execution_count": 24,
      "outputs": [
        {
          "output_type": "stream",
          "text": [
            "Finished! Num successes: 10000\n",
            "min steps: 112 ; max steps: 92135\n"
          ],
          "name": "stdout"
        }
      ]
    },
    {
      "cell_type": "code",
      "metadata": {
        "colab": {
          "base_uri": "https://localhost:8080/",
          "height": 296
        },
        "id": "XeSLxQrODCIg",
        "outputId": "9ad438c2-8944-402b-ee3d-40857e355724"
      },
      "source": [
        "bins = np.linspace(0,93000,num=94)\n",
        "plt.figure(figsize=(10,4))\n",
        "n, b, p = plt.hist(stepList, bins=bins, color='g', edgecolor='k')\n",
        "plt.xlabel(\"number of steps\")\n",
        "plt.ylabel(\"frequency\")"
      ],
      "execution_count": 28,
      "outputs": [
        {
          "output_type": "execute_result",
          "data": {
            "text/plain": [
              "Text(0, 0.5, 'frequency')"
            ]
          },
          "metadata": {
            "tags": []
          },
          "execution_count": 28
        },
        {
          "output_type": "display_data",
          "data": {
            "text/plain": [
              "<Figure size 720x288 with 1 Axes>"
            ],
            "image/png": "[encoded data removed]"
          },
          "metadata": {
            "tags": [],
            "needs_background": "light"
          }
        }
      ]
    },
    {
      "cell_type": "markdown",
      "metadata": {
        "id": "LcHRSP3U_h7O"
      },
      "source": [
        "## 6-level experiments\n",
        "\n",
        "Summary: decFac about 0.994 and reset about 30000 seem to work well, but there is substantial variability between trials"
      ]
    },
    {
      "cell_type": "code",
      "metadata": {
        "id": "AgsUAclv_kIJ"
      },
      "source": [
        "# find avg. number of steps for various decFac and reset values\n",
        "decFacs = [0.99, 0.994, 0.997, 0.998, 0.999, 0.9993, 0.9995]\n",
        "resets = [10000, 20000, 30000, 40000]\n",
        "numTrials = 1000\n",
        "\n",
        "df6 = pd.DataFrame(columns=[\"decFac\",\"reset\",\"successes\",\"avg steps\",\"median steps\",\"max steps\"])\n",
        "\n",
        "for d in decFacs:\n",
        "  for r in resets:\n",
        "    numSuccess = 0\n",
        "    stepList = [0]*numTrials\n",
        "    for i in range(numTrials):\n",
        "      res = findMagicTriangle(6, fastDist, d, r, 3000000)\n",
        "      if res[0] == 0:\n",
        "        numSuccess += 1\n",
        "        stepList[i] = res[2]\n",
        "    row = pd.Series( {\"decFac\": d, \"reset\":r, \"successes\": numSuccess, \"avg steps\": stats.mean(stepList), \"median steps\": stats.median(stepList), \"max steps\": max(stepList)} , name=str(d))\n",
        "    df6 = df6.append(row)\n",
        "    print(\"decFac\", d, \"; reset\", r, \": success =\", numSuccess, \", avg steps =\", stats.mean(stepList), \", median steps =\", stats.median(stepList))"
      ],
      "execution_count": null,
      "outputs": []
    },
    {
      "cell_type": "code",
      "metadata": {
        "colab": {
          "base_uri": "https://localhost:8080/",
          "height": 917
        },
        "id": "Nl6Tuei1_m1U",
        "outputId": "50cc66e2-e889-43ff-8913-682c2396198a"
      },
      "source": [
        "df6"
      ],
      "execution_count": 18,
      "outputs": [
        {
          "output_type": "execute_result",
          "data": {
            "text/plain": [
              "        decFac    reset  successes  avg steps  median steps  max steps\n",
              "0.99    0.9900  10000.0     1000.0   7406.491        5531.5    35232.0\n",
              "0.99    0.9900  20000.0     1000.0   7372.495        5268.0    44997.0\n",
              "0.99    0.9900  30000.0     1000.0   7634.619        5369.5    45152.0\n",
              "0.99    0.9900  40000.0     1000.0   7815.398        5741.0    50451.0\n",
              "0.994   0.9940  10000.0     1000.0   7699.709        5499.0    65878.0\n",
              "0.994   0.9940  20000.0     1000.0   7159.246        5176.0    51442.0\n",
              "0.994   0.9940  30000.0     1000.0   7745.897        5476.0    38630.0\n",
              "0.994   0.9940  40000.0     1000.0   8012.534        5970.5    80165.0\n",
              "0.997   0.9970  10000.0     1000.0   8090.298        6110.5    45086.0\n",
              "0.997   0.9970  20000.0     1000.0   7590.085        5452.5    55317.0\n",
              "0.997   0.9970  30000.0     1000.0   7505.227        5425.5    54753.0\n",
              "0.997   0.9970  40000.0     1000.0   7650.568        5817.0    72629.0\n",
              "0.998   0.9980  10000.0     1000.0   8199.864        6108.0    56528.0\n",
              "0.998   0.9980  20000.0     1000.0   7593.321        6023.5    61203.0\n",
              "0.998   0.9980  30000.0     1000.0   7895.736        5964.0    51005.0\n",
              "0.998   0.9980  40000.0     1000.0   7751.484        5809.0    44978.0\n",
              "0.999   0.9990  10000.0     1000.0   8350.660        5871.0    66085.0\n",
              "0.999   0.9990  20000.0     1000.0   8224.423        6231.0    52133.0\n",
              "0.999   0.9990  30000.0     1000.0   8495.007        6190.0    47977.0\n",
              "0.999   0.9990  40000.0     1000.0   8687.415        6722.5    44789.0\n",
              "0.9993  0.9993  10000.0     1000.0   8879.285        6366.5    46774.0\n",
              "0.9993  0.9993  20000.0     1000.0   8554.838        6434.0    46164.0\n",
              "0.9993  0.9993  30000.0     1000.0   8824.695        6719.0    46554.0\n",
              "0.9993  0.9993  40000.0     1000.0   9161.427        6878.0    64866.0\n",
              "0.9995  0.9995  10000.0     1000.0  10176.068        7415.0    67831.0\n",
              "0.9995  0.9995  20000.0     1000.0   9633.448        7668.0    53042.0\n",
              "0.9995  0.9995  30000.0     1000.0  10027.236        7763.0    50535.0\n",
              "0.9995  0.9995  40000.0     1000.0   9629.926        7436.5    50767.0"
            ],
            "text/html": [
              "<div>\n",
              "<style scoped>\n",
              "    .dataframe tbody tr th:only-of-type {\n",
              "        vertical-align: middle;\n",
              "    }\n",
              "\n",
              "    .dataframe tbody tr th {\n",
              "        vertical-align: top;\n",
              "    }\n",
              "\n",
              "    .dataframe thead th {\n",
              "        text-align: right;\n",
              "    }\n",
              "</style>\n",
              "<table border=\"1\" class=\"dataframe\">\n",
              "  <thead>\n",
              "    <tr style=\"text-align: right;\">\n",
              "      <th></th>\n",
              "      <th>decFac</th>\n",
              "      <th>reset</th>\n",
              "      <th>successes</th>\n",
              "      <th>avg steps</th>\n",
              "      <th>median steps</th>\n",
              "      <th>max steps</th>\n",
              "    </tr>\n",
              "  </thead>\n",
              "  <tbody>\n",
              "    <tr>\n",
              "      <th>0.99</th>\n",
              "      <td>0.9900</td>\n",
              "      <td>10000.0</td>\n",
              "      <td>1000.0</td>\n",
              "      <td>7406.491</td>\n",
              "      <td>5531.5</td>\n",
              "      <td>35232.0</td>\n",
              "    </tr>\n",
              "    <tr>\n",
              "      <th>0.99</th>\n",
              "      <td>0.9900</td>\n",
              "      <td>20000.0</td>\n",
              "      <td>1000.0</td>\n",
              "      <td>7372.495</td>\n",
              "      <td>5268.0</td>\n",
              "      <td>44997.0</td>\n",
              "    </tr>\n",
              "    <tr>\n",
              "      <th>0.99</th>\n",
              "      <td>0.9900</td>\n",
              "      <td>30000.0</td>\n",
              "      <td>1000.0</td>\n",
              "      <td>7634.619</td>\n",
              "      <td>5369.5</td>\n",
              "      <td>45152.0</td>\n",
              "    </tr>\n",
              "    <tr>\n",
              "      <th>0.99</th>\n",
              "      <td>0.9900</td>\n",
              "      <td>40000.0</td>\n",
              "      <td>1000.0</td>\n",
              "      <td>7815.398</td>\n",
              "      <td>5741.0</td>\n",
              "      <td>50451.0</td>\n",
              "    </tr>\n",
              "    <tr>\n",
              "      <th>0.994</th>\n",
              "      <td>0.9940</td>\n",
              "      <td>10000.0</td>\n",
              "      <td>1000.0</td>\n",
              "      <td>7699.709</td>\n",
              "      <td>5499.0</td>\n",
              "      <td>65878.0</td>\n",
              "    </tr>\n",
              "    <tr>\n",
              "      <th>0.994</th>\n",
              "      <td>0.9940</td>\n",
              "      <td>20000.0</td>\n",
              "      <td>1000.0</td>\n",
              "      <td>7159.246</td>\n",
              "      <td>5176.0</td>\n",
              "      <td>51442.0</td>\n",
              "    </tr>\n",
              "    <tr>\n",
              "      <th>0.994</th>\n",
              "      <td>0.9940</td>\n",
              "      <td>30000.0</td>\n",
              "      <td>1000.0</td>\n",
              "      <td>7745.897</td>\n",
              "      <td>5476.0</td>\n",
              "      <td>38630.0</td>\n",
              "    </tr>\n",
              "    <tr>\n",
              "      <th>0.994</th>\n",
              "      <td>0.9940</td>\n",
              "      <td>40000.0</td>\n",
              "      <td>1000.0</td>\n",
              "      <td>8012.534</td>\n",
              "      <td>5970.5</td>\n",
              "      <td>80165.0</td>\n",
              "    </tr>\n",
              "    <tr>\n",
              "      <th>0.997</th>\n",
              "      <td>0.9970</td>\n",
              "      <td>10000.0</td>\n",
              "      <td>1000.0</td>\n",
              "      <td>8090.298</td>\n",
              "      <td>6110.5</td>\n",
              "      <td>45086.0</td>\n",
              "    </tr>\n",
              "    <tr>\n",
              "      <th>0.997</th>\n",
              "      <td>0.9970</td>\n",
              "      <td>20000.0</td>\n",
              "      <td>1000.0</td>\n",
              "      <td>7590.085</td>\n",
              "      <td>5452.5</td>\n",
              "      <td>55317.0</td>\n",
              "    </tr>\n",
              "    <tr>\n",
              "      <th>0.997</th>\n",
              "      <td>0.9970</td>\n",
              "      <td>30000.0</td>\n",
              "      <td>1000.0</td>\n",
              "      <td>7505.227</td>\n",
              "      <td>5425.5</td>\n",
              "      <td>54753.0</td>\n",
              "    </tr>\n",
              "    <tr>\n",
              "      <th>0.997</th>\n",
              "      <td>0.9970</td>\n",
              "      <td>40000.0</td>\n",
              "      <td>1000.0</td>\n",
              "      <td>7650.568</td>\n",
              "      <td>5817.0</td>\n",
              "      <td>72629.0</td>\n",
              "    </tr>\n",
              "    <tr>\n",
              "      <th>0.998</th>\n",
              "      <td>0.9980</td>\n",
              "      <td>10000.0</td>\n",
              "      <td>1000.0</td>\n",
              "      <td>8199.864</td>\n",
              "      <td>6108.0</td>\n",
              "      <td>56528.0</td>\n",
              "    </tr>\n",
              "    <tr>\n",
              "      <th>0.998</th>\n",
              "      <td>0.9980</td>\n",
              "      <td>20000.0</td>\n",
              "      <td>1000.0</td>\n",
              "      <td>7593.321</td>\n",
              "      <td>6023.5</td>\n",
              "      <td>61203.0</td>\n",
              "    </tr>\n",
              "    <tr>\n",
              "      <th>0.998</th>\n",
              "      <td>0.9980</td>\n",
              "      <td>30000.0</td>\n",
              "      <td>1000.0</td>\n",
              "      <td>7895.736</td>\n",
              "      <td>5964.0</td>\n",
              "      <td>51005.0</td>\n",
              "    </tr>\n",
              "    <tr>\n",
              "      <th>0.998</th>\n",
              "      <td>0.9980</td>\n",
              "      <td>40000.0</td>\n",
              "      <td>1000.0</td>\n",
              "      <td>7751.484</td>\n",
              "      <td>5809.0</td>\n",
              "      <td>44978.0</td>\n",
              "    </tr>\n",
              "    <tr>\n",
              "      <th>0.999</th>\n",
              "      <td>0.9990</td>\n",
              "      <td>10000.0</td>\n",
              "      <td>1000.0</td>\n",
              "      <td>8350.660</td>\n",
              "      <td>5871.0</td>\n",
              "      <td>66085.0</td>\n",
              "    </tr>\n",
              "    <tr>\n",
              "      <th>0.999</th>\n",
              "      <td>0.9990</td>\n",
              "      <td>20000.0</td>\n",
              "      <td>1000.0</td>\n",
              "      <td>8224.423</td>\n",
              "      <td>6231.0</td>\n",
              "      <td>52133.0</td>\n",
              "    </tr>\n",
              "    <tr>\n",
              "      <th>0.999</th>\n",
              "      <td>0.9990</td>\n",
              "      <td>30000.0</td>\n",
              "      <td>1000.0</td>\n",
              "      <td>8495.007</td>\n",
              "      <td>6190.0</td>\n",
              "      <td>47977.0</td>\n",
              "    </tr>\n",
              "    <tr>\n",
              "      <th>0.999</th>\n",
              "      <td>0.9990</td>\n",
              "      <td>40000.0</td>\n",
              "      <td>1000.0</td>\n",
              "      <td>8687.415</td>\n",
              "      <td>6722.5</td>\n",
              "      <td>44789.0</td>\n",
              "    </tr>\n",
              "    <tr>\n",
              "      <th>0.9993</th>\n",
              "      <td>0.9993</td>\n",
              "      <td>10000.0</td>\n",
              "      <td>1000.0</td>\n",
              "      <td>8879.285</td>\n",
              "      <td>6366.5</td>\n",
              "      <td>46774.0</td>\n",
              "    </tr>\n",
              "    <tr>\n",
              "      <th>0.9993</th>\n",
              "      <td>0.9993</td>\n",
              "      <td>20000.0</td>\n",
              "      <td>1000.0</td>\n",
              "      <td>8554.838</td>\n",
              "      <td>6434.0</td>\n",
              "      <td>46164.0</td>\n",
              "    </tr>\n",
              "    <tr>\n",
              "      <th>0.9993</th>\n",
              "      <td>0.9993</td>\n",
              "      <td>30000.0</td>\n",
              "      <td>1000.0</td>\n",
              "      <td>8824.695</td>\n",
              "      <td>6719.0</td>\n",
              "      <td>46554.0</td>\n",
              "    </tr>\n",
              "    <tr>\n",
              "      <th>0.9993</th>\n",
              "      <td>0.9993</td>\n",
              "      <td>40000.0</td>\n",
              "      <td>1000.0</td>\n",
              "      <td>9161.427</td>\n",
              "      <td>6878.0</td>\n",
              "      <td>64866.0</td>\n",
              "    </tr>\n",
              "    <tr>\n",
              "      <th>0.9995</th>\n",
              "      <td>0.9995</td>\n",
              "      <td>10000.0</td>\n",
              "      <td>1000.0</td>\n",
              "      <td>10176.068</td>\n",
              "      <td>7415.0</td>\n",
              "      <td>67831.0</td>\n",
              "    </tr>\n",
              "    <tr>\n",
              "      <th>0.9995</th>\n",
              "      <td>0.9995</td>\n",
              "      <td>20000.0</td>\n",
              "      <td>1000.0</td>\n",
              "      <td>9633.448</td>\n",
              "      <td>7668.0</td>\n",
              "      <td>53042.0</td>\n",
              "    </tr>\n",
              "    <tr>\n",
              "      <th>0.9995</th>\n",
              "      <td>0.9995</td>\n",
              "      <td>30000.0</td>\n",
              "      <td>1000.0</td>\n",
              "      <td>10027.236</td>\n",
              "      <td>7763.0</td>\n",
              "      <td>50535.0</td>\n",
              "    </tr>\n",
              "    <tr>\n",
              "      <th>0.9995</th>\n",
              "      <td>0.9995</td>\n",
              "      <td>40000.0</td>\n",
              "      <td>1000.0</td>\n",
              "      <td>9629.926</td>\n",
              "      <td>7436.5</td>\n",
              "      <td>50767.0</td>\n",
              "    </tr>\n",
              "  </tbody>\n",
              "</table>\n",
              "</div>"
            ]
          },
          "metadata": {
            "tags": []
          },
          "execution_count": 18
        }
      ]
    },
    {
      "cell_type": "code",
      "metadata": {
        "colab": {
          "base_uri": "https://localhost:8080/"
        },
        "id": "Kcwl4Kf6FPqc",
        "outputId": "3f9e4619-fdc9-4402-ac84-9aaf3cc728f5"
      },
      "source": [
        "# find distribution of steps to find magic triangles\n",
        "numTrials = 10000\n",
        "stepList = [0]*numTrials\n",
        "numSuccess = 0\n",
        "for i in range(numTrials):\n",
        "  res = findMagicTriangle(6, fastDist, 0.994, 30000, 1000000)\n",
        "  if res[0] == 0:\n",
        "    numSuccess += 1\n",
        "    stepList[i] = res[2]\n",
        "print(\"Finished! Num successes:\", numSuccess)\n",
        "print(\"Average number of steps:\", sum(stepList)/numTrials)\n",
        "print(\"min steps:\", min(stepList), \"; max steps:\", max(stepList))\n",
        "#print(*stepList)"
      ],
      "execution_count": 30,
      "outputs": [
        {
          "output_type": "stream",
          "text": [
            "Finished! Num successes: 10000\n",
            "Average number of steps: 7657.2929\n",
            "min steps: 129 ; max steps: 91115\n"
          ],
          "name": "stdout"
        }
      ]
    },
    {
      "cell_type": "code",
      "metadata": {
        "colab": {
          "base_uri": "https://localhost:8080/",
          "height": 296
        },
        "id": "cxpEboC1JDQ7",
        "outputId": "b059e198-ba24-4256-8ff6-746904fd5055"
      },
      "source": [
        "bins = np.linspace(0,92000,num=93)\n",
        "plt.figure(figsize=(10,4))\n",
        "n, b, p = plt.hist(stepList, bins=bins, color='g', edgecolor='k')\n",
        "plt.xlabel(\"number of steps\")\n",
        "plt.ylabel(\"frequency\")"
      ],
      "execution_count": 31,
      "outputs": [
        {
          "output_type": "execute_result",
          "data": {
            "text/plain": [
              "Text(0, 0.5, 'frequency')"
            ]
          },
          "metadata": {
            "tags": []
          },
          "execution_count": 31
        },
        {
          "output_type": "display_data",
          "data": {
            "text/plain": [
              "<Figure size 720x288 with 1 Axes>"
            ],
            "image/png": "[encoded data removed]"
          },
          "metadata": {
            "tags": [],
            "needs_background": "light"
          }
        }
      ]
    },
    {
      "cell_type": "markdown",
      "metadata": {
        "id": "TflG6O3wASOf"
      },
      "source": [
        "## 7-level experiments\n",
        "\n",
        "Summary: decFac about 0.998 and reset about 40000 seem to work well, but there is substantial variability between trials"
      ]
    },
    {
      "cell_type": "code",
      "metadata": {
        "colab": {
          "base_uri": "https://localhost:8080/"
        },
        "id": "UFIvmmR9AQvL",
        "outputId": "5a8aa169-0dd8-4151-b62b-45e2b5f6483b"
      },
      "source": [
        "# find avg. number of steps for various decFac and reset values\n",
        "decFacs = [0.99, 0.994, 0.997, 0.998, 0.999]\n",
        "resets = [30000, 40000, 50000]\n",
        "numTrials = 1000\n",
        "\n",
        "df7 = pd.DataFrame(columns=[\"decFac\",\"reset\",\"successes\",\"avg steps\",\"median steps\",\"max steps\"])\n",
        "\n",
        "for d in decFacs:\n",
        "  for r in resets:\n",
        "    numSuccess = 0\n",
        "    stepList = [0]*numTrials\n",
        "    for i in range(numTrials):\n",
        "      res = findMagicTriangle(7, fastDist, d, r, 3000000)\n",
        "      if res[0] == 0:\n",
        "        numSuccess += 1\n",
        "        stepList[i] = res[2]\n",
        "    row = pd.Series( {\"decFac\": d, \"reset\":r, \"successes\": numSuccess, \"avg steps\": stats.mean(stepList), \"median steps\": stats.median(stepList), \"max steps\": max(stepList)} , name=str(d))\n",
        "    df7 = df7.append(row)\n",
        "    print(\"decFac\", d, \"; reset\", r, \": success =\", numSuccess, \", avg steps =\", stats.mean(stepList), \", median steps =\", stats.median(stepList))\n"
      ],
      "execution_count": 19,
      "outputs": [
        {
          "output_type": "stream",
          "text": [
            "decFac 0.99 ; reset 30000 : success = 1000 , avg steps = 43526.859 , median steps = 33091.0\n",
            "decFac 0.99 ; reset 40000 : success = 1000 , avg steps = 44934.474 , median steps = 36573.0\n",
            "decFac 0.99 ; reset 50000 : success = 1000 , avg steps = 43168.291 , median steps = 33080.5\n",
            "decFac 0.994 ; reset 30000 : success = 1000 , avg steps = 43762.867 , median steps = 35286.5\n",
            "decFac 0.994 ; reset 40000 : success = 1000 , avg steps = 45272.18 , median steps = 34142.0\n",
            "decFac 0.994 ; reset 50000 : success = 1000 , avg steps = 41350.807 , median steps = 33897.0\n",
            "decFac 0.997 ; reset 30000 : success = 1000 , avg steps = 45265.182 , median steps = 33851.5\n",
            "decFac 0.997 ; reset 40000 : success = 1000 , avg steps = 45178.267 , median steps = 34573.5\n",
            "decFac 0.997 ; reset 50000 : success = 1000 , avg steps = 45618.53 , median steps = 34971.5\n",
            "decFac 0.998 ; reset 30000 : success = 1000 , avg steps = 47859.59 , median steps = 36140.0\n",
            "decFac 0.998 ; reset 40000 : success = 1000 , avg steps = 46907.947 , median steps = 33780.0\n",
            "decFac 0.998 ; reset 50000 : success = 1000 , avg steps = 45390.333 , median steps = 34486.5\n",
            "decFac 0.999 ; reset 30000 : success = 1000 , avg steps = 53954.509 , median steps = 40322.0\n",
            "decFac 0.999 ; reset 40000 : success = 1000 , avg steps = 47083.626 , median steps = 34775.0\n",
            "decFac 0.999 ; reset 50000 : success = 1000 , avg steps = 46942.511 , median steps = 35432.0\n"
          ],
          "name": "stdout"
        }
      ]
    },
    {
      "cell_type": "code",
      "metadata": {
        "colab": {
          "base_uri": "https://localhost:8080/",
          "height": 514
        },
        "id": "P5nFqcWrAtIo",
        "outputId": "12682288-c0c7-4edc-d6c6-d771ef75ecb8"
      },
      "source": [
        "df7"
      ],
      "execution_count": 20,
      "outputs": [
        {
          "output_type": "execute_result",
          "data": {
            "text/plain": [
              "       decFac    reset  successes  avg steps  median steps  max steps\n",
              "0.99    0.990  30000.0     1000.0  43526.859       33091.0   216284.0\n",
              "0.99    0.990  40000.0     1000.0  44934.474       36573.0   287769.0\n",
              "0.99    0.990  50000.0     1000.0  43168.291       33080.5   280600.0\n",
              "0.994   0.994  30000.0     1000.0  43762.867       35286.5   255970.0\n",
              "0.994   0.994  40000.0     1000.0  45272.180       34142.0   273565.0\n",
              "0.994   0.994  50000.0     1000.0  41350.807       33897.0   223772.0\n",
              "0.997   0.997  30000.0     1000.0  45265.182       33851.5   292157.0\n",
              "0.997   0.997  40000.0     1000.0  45178.267       34573.5   319058.0\n",
              "0.997   0.997  50000.0     1000.0  45618.530       34971.5   222970.0\n",
              "0.998   0.998  30000.0     1000.0  47859.590       36140.0   300454.0\n",
              "0.998   0.998  40000.0     1000.0  46907.947       33780.0   353068.0\n",
              "0.998   0.998  50000.0     1000.0  45390.333       34486.5   231863.0\n",
              "0.999   0.999  30000.0     1000.0  53954.509       40322.0   350553.0\n",
              "0.999   0.999  40000.0     1000.0  47083.626       34775.0   276620.0\n",
              "0.999   0.999  50000.0     1000.0  46942.511       35432.0   243762.0"
            ],
            "text/html": [
              "<div>\n",
              "<style scoped>\n",
              "    .dataframe tbody tr th:only-of-type {\n",
              "        vertical-align: middle;\n",
              "    }\n",
              "\n",
              "    .dataframe tbody tr th {\n",
              "        vertical-align: top;\n",
              "    }\n",
              "\n",
              "    .dataframe thead th {\n",
              "        text-align: right;\n",
              "    }\n",
              "</style>\n",
              "<table border=\"1\" class=\"dataframe\">\n",
              "  <thead>\n",
              "    <tr style=\"text-align: right;\">\n",
              "      <th></th>\n",
              "      <th>decFac</th>\n",
              "      <th>reset</th>\n",
              "      <th>successes</th>\n",
              "      <th>avg steps</th>\n",
              "      <th>median steps</th>\n",
              "      <th>max steps</th>\n",
              "    </tr>\n",
              "  </thead>\n",
              "  <tbody>\n",
              "    <tr>\n",
              "      <th>0.99</th>\n",
              "      <td>0.990</td>\n",
              "      <td>30000.0</td>\n",
              "      <td>1000.0</td>\n",
              "      <td>43526.859</td>\n",
              "      <td>33091.0</td>\n",
              "      <td>216284.0</td>\n",
              "    </tr>\n",
              "    <tr>\n",
              "      <th>0.99</th>\n",
              "      <td>0.990</td>\n",
              "      <td>40000.0</td>\n",
              "      <td>1000.0</td>\n",
              "      <td>44934.474</td>\n",
              "      <td>36573.0</td>\n",
              "      <td>287769.0</td>\n",
              "    </tr>\n",
              "    <tr>\n",
              "      <th>0.99</th>\n",
              "      <td>0.990</td>\n",
              "      <td>50000.0</td>\n",
              "      <td>1000.0</td>\n",
              "      <td>43168.291</td>\n",
              "      <td>33080.5</td>\n",
              "      <td>280600.0</td>\n",
              "    </tr>\n",
              "    <tr>\n",
              "      <th>0.994</th>\n",
              "      <td>0.994</td>\n",
              "      <td>30000.0</td>\n",
              "      <td>1000.0</td>\n",
              "      <td>43762.867</td>\n",
              "      <td>35286.5</td>\n",
              "      <td>255970.0</td>\n",
              "    </tr>\n",
              "    <tr>\n",
              "      <th>0.994</th>\n",
              "      <td>0.994</td>\n",
              "      <td>40000.0</td>\n",
              "      <td>1000.0</td>\n",
              "      <td>45272.180</td>\n",
              "      <td>34142.0</td>\n",
              "      <td>273565.0</td>\n",
              "    </tr>\n",
              "    <tr>\n",
              "      <th>0.994</th>\n",
              "      <td>0.994</td>\n",
              "      <td>50000.0</td>\n",
              "      <td>1000.0</td>\n",
              "      <td>41350.807</td>\n",
              "      <td>33897.0</td>\n",
              "      <td>223772.0</td>\n",
              "    </tr>\n",
              "    <tr>\n",
              "      <th>0.997</th>\n",
              "      <td>0.997</td>\n",
              "      <td>30000.0</td>\n",
              "      <td>1000.0</td>\n",
              "      <td>45265.182</td>\n",
              "      <td>33851.5</td>\n",
              "      <td>292157.0</td>\n",
              "    </tr>\n",
              "    <tr>\n",
              "      <th>0.997</th>\n",
              "      <td>0.997</td>\n",
              "      <td>40000.0</td>\n",
              "      <td>1000.0</td>\n",
              "      <td>45178.267</td>\n",
              "      <td>34573.5</td>\n",
              "      <td>319058.0</td>\n",
              "    </tr>\n",
              "    <tr>\n",
              "      <th>0.997</th>\n",
              "      <td>0.997</td>\n",
              "      <td>50000.0</td>\n",
              "      <td>1000.0</td>\n",
              "      <td>45618.530</td>\n",
              "      <td>34971.5</td>\n",
              "      <td>222970.0</td>\n",
              "    </tr>\n",
              "    <tr>\n",
              "      <th>0.998</th>\n",
              "      <td>0.998</td>\n",
              "      <td>30000.0</td>\n",
              "      <td>1000.0</td>\n",
              "      <td>47859.590</td>\n",
              "      <td>36140.0</td>\n",
              "      <td>300454.0</td>\n",
              "    </tr>\n",
              "    <tr>\n",
              "      <th>0.998</th>\n",
              "      <td>0.998</td>\n",
              "      <td>40000.0</td>\n",
              "      <td>1000.0</td>\n",
              "      <td>46907.947</td>\n",
              "      <td>33780.0</td>\n",
              "      <td>353068.0</td>\n",
              "    </tr>\n",
              "    <tr>\n",
              "      <th>0.998</th>\n",
              "      <td>0.998</td>\n",
              "      <td>50000.0</td>\n",
              "      <td>1000.0</td>\n",
              "      <td>45390.333</td>\n",
              "      <td>34486.5</td>\n",
              "      <td>231863.0</td>\n",
              "    </tr>\n",
              "    <tr>\n",
              "      <th>0.999</th>\n",
              "      <td>0.999</td>\n",
              "      <td>30000.0</td>\n",
              "      <td>1000.0</td>\n",
              "      <td>53954.509</td>\n",
              "      <td>40322.0</td>\n",
              "      <td>350553.0</td>\n",
              "    </tr>\n",
              "    <tr>\n",
              "      <th>0.999</th>\n",
              "      <td>0.999</td>\n",
              "      <td>40000.0</td>\n",
              "      <td>1000.0</td>\n",
              "      <td>47083.626</td>\n",
              "      <td>34775.0</td>\n",
              "      <td>276620.0</td>\n",
              "    </tr>\n",
              "    <tr>\n",
              "      <th>0.999</th>\n",
              "      <td>0.999</td>\n",
              "      <td>50000.0</td>\n",
              "      <td>1000.0</td>\n",
              "      <td>46942.511</td>\n",
              "      <td>35432.0</td>\n",
              "      <td>243762.0</td>\n",
              "    </tr>\n",
              "  </tbody>\n",
              "</table>\n",
              "</div>"
            ]
          },
          "metadata": {
            "tags": []
          },
          "execution_count": 20
        }
      ]
    },
    {
      "cell_type": "code",
      "metadata": {
        "colab": {
          "base_uri": "https://localhost:8080/"
        },
        "id": "lNSGv9PiJSmK",
        "outputId": "837f7a95-0e0d-4e60-f101-94f4b0ad6e98"
      },
      "source": [
        "# find distribution of steps to find magic triangles\n",
        "numTrials = 2000\n",
        "stepList = [0]*numTrials\n",
        "numSuccess = 0\n",
        "for i in range(numTrials):\n",
        "  res = findMagicTriangle(7, fastDist, 0.998, 40000, 1000000)\n",
        "  if res[0] == 0:\n",
        "    numSuccess += 1\n",
        "    stepList[i] = res[2]\n",
        "  if i % 500 == 499:\n",
        "    print(\"finished\", (i+1))\n",
        "print(\"Finished! Num successes:\", numSuccess)\n",
        "print(\"Average number of steps:\", sum(stepList)/numTrials)\n",
        "print(\"min steps:\", min(stepList), \"; max steps:\", max(stepList))\n",
        "#print(*stepList)"
      ],
      "execution_count": 33,
      "outputs": [
        {
          "output_type": "stream",
          "text": [
            "finished 500\n",
            "finished 1000\n",
            "finished 1500\n",
            "finished 2000\n",
            "Finished! Num successes: 2000\n",
            "Average number of steps: 45869.6345\n",
            "min steps: 1681 ; max steps: 332530\n"
          ],
          "name": "stdout"
        }
      ]
    },
    {
      "cell_type": "code",
      "metadata": {
        "colab": {
          "base_uri": "https://localhost:8080/",
          "height": 296
        },
        "id": "WtzRk61ETQUO",
        "outputId": "591d94fe-f2da-47ac-b59c-5992398fb344"
      },
      "source": [
        "bins = np.linspace(0,350000,num=71)\n",
        "plt.figure(figsize=(10,4))\n",
        "n, b, p = plt.hist(stepList, bins=bins, color='g', edgecolor='k')\n",
        "plt.xlabel(\"number of steps\")\n",
        "plt.ylabel(\"frequency\")"
      ],
      "execution_count": 37,
      "outputs": [
        {
          "output_type": "execute_result",
          "data": {
            "text/plain": [
              "Text(0, 0.5, 'frequency')"
            ]
          },
          "metadata": {
            "tags": []
          },
          "execution_count": 37
        },
        {
          "output_type": "display_data",
          "data": {
            "text/plain": [
              "<Figure size 720x288 with 1 Axes>"
            ],
            "image/png": "[encoded data removed]"
          },
          "metadata": {
            "tags": [],
            "needs_background": "light"
          }
        }
      ]
    },
    {
      "cell_type": "markdown",
      "metadata": {
        "id": "YHN9xYtxAwwh"
      },
      "source": [
        "## 8-level experiments\n",
        "\n",
        "Summary: decFac about 0.999 and reset about 80000 seem to work well. However, experiments take a rather long time and there is substantial variablility between experiments (especially using only 100 trials, as below)."
      ]
    },
    {
      "cell_type": "code",
      "metadata": {
        "colab": {
          "base_uri": "https://localhost:8080/"
        },
        "id": "U_d74_RbA1Ne",
        "outputId": "ae9738bc-dd54-4ae7-ff69-815bc87f5d77"
      },
      "source": [
        "# find avg. number of steps for various decFac and reset values\n",
        "decFacs = [0.997, 0.998, 0.999, 0.9993, 0.9995]\n",
        "resets = [40000, 60000, 80000]\n",
        "numTrials = 100\n",
        "\n",
        "df8 = pd.DataFrame(columns=[\"decFac\",\"reset\",\"successes\",\"avg steps\",\"median steps\",\"max steps\"])\n",
        "\n",
        "for d in decFacs:\n",
        "  for r in resets:\n",
        "    numSuccess = 0\n",
        "    stepList = [0]*numTrials\n",
        "    for i in range(numTrials):\n",
        "      res = findMagicTriangle(8, fastDist, d, r, 3000000)\n",
        "      if res[0] == 0:\n",
        "        numSuccess += 1\n",
        "        stepList[i] = res[2]\n",
        "    row = pd.Series( {\"decFac\": d, \"reset\":r, \"successes\": numSuccess, \"avg steps\": stats.mean(stepList), \"median steps\": stats.median(stepList), \"max steps\": max(stepList)} , name=str(d))\n",
        "    df8 = df8.append(row)\n",
        "    print(\"decFac\", d, \"; reset\", r, \": success =\", numSuccess, \", avg steps =\", stats.mean(stepList), \", median steps =\", stats.median(stepList))"
      ],
      "execution_count": 40,
      "outputs": [
        {
          "output_type": "stream",
          "text": [
            "decFac 0.997 ; reset 40000 : success = 100 , avg steps = 224934.74 , median steps = 157583.5\n",
            "decFac 0.997 ; reset 60000 : success = 100 , avg steps = 247551.45 , median steps = 177478.5\n",
            "decFac 0.997 ; reset 80000 : success = 100 , avg steps = 249200.9 , median steps = 184840.5\n",
            "decFac 0.998 ; reset 40000 : success = 100 , avg steps = 237916.1 , median steps = 179049.5\n",
            "decFac 0.998 ; reset 60000 : success = 100 , avg steps = 250105.43 , median steps = 139585.5\n",
            "decFac 0.998 ; reset 80000 : success = 100 , avg steps = 208600.51 , median steps = 159322.0\n",
            "decFac 0.999 ; reset 40000 : success = 100 , avg steps = 240206.08 , median steps = 169394.0\n",
            "decFac 0.999 ; reset 60000 : success = 100 , avg steps = 277901.35 , median steps = 202525.5\n",
            "decFac 0.999 ; reset 80000 : success = 100 , avg steps = 228806.87 , median steps = 156683.0\n",
            "decFac 0.9993 ; reset 40000 : success = 100 , avg steps = 237427.08 , median steps = 169146.5\n",
            "decFac 0.9993 ; reset 60000 : success = 100 , avg steps = 254595.63 , median steps = 162015.0\n",
            "decFac 0.9993 ; reset 80000 : success = 100 , avg steps = 258841.16 , median steps = 182380.5\n",
            "decFac 0.9995 ; reset 40000 : success = 100 , avg steps = 256475.97 , median steps = 175417.0\n",
            "decFac 0.9995 ; reset 60000 : success = 100 , avg steps = 271669.31 , median steps = 198720.5\n",
            "decFac 0.9995 ; reset 80000 : success = 100 , avg steps = 270826.17 , median steps = 201286.5\n"
          ],
          "name": "stdout"
        }
      ]
    },
    {
      "cell_type": "code",
      "metadata": {
        "colab": {
          "base_uri": "https://localhost:8080/",
          "height": 514
        },
        "id": "PWI7yDZEA4C6",
        "outputId": "8f2443b4-2763-4a59-a559-7f89879ae2a9"
      },
      "source": [
        "df8"
      ],
      "execution_count": 41,
      "outputs": [
        {
          "output_type": "execute_result",
          "data": {
            "text/plain": [
              "        decFac    reset  successes  avg steps  median steps  max steps\n",
              "0.997   0.9970  40000.0      100.0  224934.74      157583.5   964712.0\n",
              "0.997   0.9970  60000.0      100.0  247551.45      177478.5  1466065.0\n",
              "0.997   0.9970  80000.0      100.0  249200.90      184840.5  1070802.0\n",
              "0.998   0.9980  40000.0      100.0  237916.10      179049.5  1373101.0\n",
              "0.998   0.9980  60000.0      100.0  250105.43      139585.5  1353216.0\n",
              "0.998   0.9980  80000.0      100.0  208600.51      159322.0  1103988.0\n",
              "0.999   0.9990  40000.0      100.0  240206.08      169394.0   881405.0\n",
              "0.999   0.9990  60000.0      100.0  277901.35      202525.5  1079233.0\n",
              "0.999   0.9990  80000.0      100.0  228806.87      156683.0  1057838.0\n",
              "0.9993  0.9993  40000.0      100.0  237427.08      169146.5  2497769.0\n",
              "0.9993  0.9993  60000.0      100.0  254595.63      162015.0  1053221.0\n",
              "0.9993  0.9993  80000.0      100.0  258841.16      182380.5   987539.0\n",
              "0.9995  0.9995  40000.0      100.0  256475.97      175417.0  1580552.0\n",
              "0.9995  0.9995  60000.0      100.0  271669.31      198720.5  1070485.0\n",
              "0.9995  0.9995  80000.0      100.0  270826.17      201286.5  1162801.0"
            ],
            "text/html": [
              "<div>\n",
              "<style scoped>\n",
              "    .dataframe tbody tr th:only-of-type {\n",
              "        vertical-align: middle;\n",
              "    }\n",
              "\n",
              "    .dataframe tbody tr th {\n",
              "        vertical-align: top;\n",
              "    }\n",
              "\n",
              "    .dataframe thead th {\n",
              "        text-align: right;\n",
              "    }\n",
              "</style>\n",
              "<table border=\"1\" class=\"dataframe\">\n",
              "  <thead>\n",
              "    <tr style=\"text-align: right;\">\n",
              "      <th></th>\n",
              "      <th>decFac</th>\n",
              "      <th>reset</th>\n",
              "      <th>successes</th>\n",
              "      <th>avg steps</th>\n",
              "      <th>median steps</th>\n",
              "      <th>max steps</th>\n",
              "    </tr>\n",
              "  </thead>\n",
              "  <tbody>\n",
              "    <tr>\n",
              "      <th>0.997</th>\n",
              "      <td>0.9970</td>\n",
              "      <td>40000.0</td>\n",
              "      <td>100.0</td>\n",
              "      <td>224934.74</td>\n",
              "      <td>157583.5</td>\n",
              "      <td>964712.0</td>\n",
              "    </tr>\n",
              "    <tr>\n",
              "      <th>0.997</th>\n",
              "      <td>0.9970</td>\n",
              "      <td>60000.0</td>\n",
              "      <td>100.0</td>\n",
              "      <td>247551.45</td>\n",
              "      <td>177478.5</td>\n",
              "      <td>1466065.0</td>\n",
              "    </tr>\n",
              "    <tr>\n",
              "      <th>0.997</th>\n",
              "      <td>0.9970</td>\n",
              "      <td>80000.0</td>\n",
              "      <td>100.0</td>\n",
              "      <td>249200.90</td>\n",
              "      <td>184840.5</td>\n",
              "      <td>1070802.0</td>\n",
              "    </tr>\n",
              "    <tr>\n",
              "      <th>0.998</th>\n",
              "      <td>0.9980</td>\n",
              "      <td>40000.0</td>\n",
              "      <td>100.0</td>\n",
              "      <td>237916.10</td>\n",
              "      <td>179049.5</td>\n",
              "      <td>1373101.0</td>\n",
              "    </tr>\n",
              "    <tr>\n",
              "      <th>0.998</th>\n",
              "      <td>0.9980</td>\n",
              "      <td>60000.0</td>\n",
              "      <td>100.0</td>\n",
              "      <td>250105.43</td>\n",
              "      <td>139585.5</td>\n",
              "      <td>1353216.0</td>\n",
              "    </tr>\n",
              "    <tr>\n",
              "      <th>0.998</th>\n",
              "      <td>0.9980</td>\n",
              "      <td>80000.0</td>\n",
              "      <td>100.0</td>\n",
              "      <td>208600.51</td>\n",
              "      <td>159322.0</td>\n",
              "      <td>1103988.0</td>\n",
              "    </tr>\n",
              "    <tr>\n",
              "      <th>0.999</th>\n",
              "      <td>0.9990</td>\n",
              "      <td>40000.0</td>\n",
              "      <td>100.0</td>\n",
              "      <td>240206.08</td>\n",
              "      <td>169394.0</td>\n",
              "      <td>881405.0</td>\n",
              "    </tr>\n",
              "    <tr>\n",
              "      <th>0.999</th>\n",
              "      <td>0.9990</td>\n",
              "      <td>60000.0</td>\n",
              "      <td>100.0</td>\n",
              "      <td>277901.35</td>\n",
              "      <td>202525.5</td>\n",
              "      <td>1079233.0</td>\n",
              "    </tr>\n",
              "    <tr>\n",
              "      <th>0.999</th>\n",
              "      <td>0.9990</td>\n",
              "      <td>80000.0</td>\n",
              "      <td>100.0</td>\n",
              "      <td>228806.87</td>\n",
              "      <td>156683.0</td>\n",
              "      <td>1057838.0</td>\n",
              "    </tr>\n",
              "    <tr>\n",
              "      <th>0.9993</th>\n",
              "      <td>0.9993</td>\n",
              "      <td>40000.0</td>\n",
              "      <td>100.0</td>\n",
              "      <td>237427.08</td>\n",
              "      <td>169146.5</td>\n",
              "      <td>2497769.0</td>\n",
              "    </tr>\n",
              "    <tr>\n",
              "      <th>0.9993</th>\n",
              "      <td>0.9993</td>\n",
              "      <td>60000.0</td>\n",
              "      <td>100.0</td>\n",
              "      <td>254595.63</td>\n",
              "      <td>162015.0</td>\n",
              "      <td>1053221.0</td>\n",
              "    </tr>\n",
              "    <tr>\n",
              "      <th>0.9993</th>\n",
              "      <td>0.9993</td>\n",
              "      <td>80000.0</td>\n",
              "      <td>100.0</td>\n",
              "      <td>258841.16</td>\n",
              "      <td>182380.5</td>\n",
              "      <td>987539.0</td>\n",
              "    </tr>\n",
              "    <tr>\n",
              "      <th>0.9995</th>\n",
              "      <td>0.9995</td>\n",
              "      <td>40000.0</td>\n",
              "      <td>100.0</td>\n",
              "      <td>256475.97</td>\n",
              "      <td>175417.0</td>\n",
              "      <td>1580552.0</td>\n",
              "    </tr>\n",
              "    <tr>\n",
              "      <th>0.9995</th>\n",
              "      <td>0.9995</td>\n",
              "      <td>60000.0</td>\n",
              "      <td>100.0</td>\n",
              "      <td>271669.31</td>\n",
              "      <td>198720.5</td>\n",
              "      <td>1070485.0</td>\n",
              "    </tr>\n",
              "    <tr>\n",
              "      <th>0.9995</th>\n",
              "      <td>0.9995</td>\n",
              "      <td>80000.0</td>\n",
              "      <td>100.0</td>\n",
              "      <td>270826.17</td>\n",
              "      <td>201286.5</td>\n",
              "      <td>1162801.0</td>\n",
              "    </tr>\n",
              "  </tbody>\n",
              "</table>\n",
              "</div>"
            ]
          },
          "metadata": {
            "tags": []
          },
          "execution_count": 41
        }
      ]
    },
    {
      "cell_type": "code",
      "metadata": {
        "colab": {
          "base_uri": "https://localhost:8080/"
        },
        "id": "Ee7QprvGyKpw",
        "outputId": "ce3b3481-dfb6-4a29-c577-6cb4193ad7f2"
      },
      "source": [
        "# find distribution of steps to find magic triangles\n",
        "numTrials = 500\n",
        "stepList = [0]*numTrials\n",
        "numSuccess = 0\n",
        "for i in range(numTrials):\n",
        "  res = findMagicTriangle(8, fastDist, 0.999, 80000, 5000000)\n",
        "  if res[0] == 0:\n",
        "    numSuccess += 1\n",
        "    stepList[i] = res[2]\n",
        "  if i % 100 == 99:\n",
        "    print(\"  finished \", (i+1))\n",
        "print(\"Finished! Num successes:\", numSuccess)\n",
        "print(\"Average number of steps:\", stats.mean(stepList))\n",
        "print(\"Median number of steps:\", stats.median(stepList))\n",
        "print(\"min steps:\", min(stepList), \"; max steps:\", max(stepList))"
      ],
      "execution_count": 43,
      "outputs": [
        {
          "output_type": "stream",
          "text": [
            "  finished  100\n",
            "  finished  200\n",
            "  finished  300\n",
            "  finished  400\n",
            "  finished  500\n",
            "Finished! Num successes: 500\n",
            "Average number of steps: 233861.248\n",
            "Median number of steps: 161262.0\n",
            "min steps: 3665 ; max steps: 1628285\n"
          ],
          "name": "stdout"
        }
      ]
    },
    {
      "cell_type": "code",
      "metadata": {
        "colab": {
          "base_uri": "https://localhost:8080/",
          "height": 296
        },
        "id": "kovd03rWyTOG",
        "outputId": "56bcf910-6650-42ef-b434-4bed109701e4"
      },
      "source": [
        "bins = np.linspace(0,1750000,num=101)\n",
        "plt.figure(figsize=(10,4))\n",
        "n, b, p = plt.hist(stepList, bins=bins, color='g', edgecolor='k')\n",
        "plt.xlabel(\"number of steps\")\n",
        "plt.ylabel(\"frequency\")"
      ],
      "execution_count": 45,
      "outputs": [
        {
          "output_type": "execute_result",
          "data": {
            "text/plain": [
              "Text(0, 0.5, 'frequency')"
            ]
          },
          "metadata": {
            "tags": []
          },
          "execution_count": 45
        },
        {
          "output_type": "display_data",
          "data": {
            "text/plain": [
              "<Figure size 720x288 with 1 Axes>"
            ],
            "image/png": "[encoded data removed]"
          },
          "metadata": {
            "tags": [],
            "needs_background": "light"
          }
        }
      ]
    },
    {
      "cell_type": "markdown",
      "metadata": {
        "id": "Tm0La51IWoct"
      },
      "source": [
        "# Finding magic triangles with more than 8 levels"
      ]
    },
    {
      "cell_type": "markdown",
      "metadata": {
        "id": "G-nnFAwxdIcn"
      },
      "source": [
        "Here is a 9-level magic triangle:"
      ]
    },
    {
      "cell_type": "code",
      "metadata": {
        "colab": {
          "base_uri": "https://localhost:8080/",
          "height": 547
        },
        "id": "j4xMkR5bWtOR",
        "outputId": "78aa5f19-b81b-4be5-e225-dfe2be1ef6cc"
      },
      "source": [
        "res = findMagicTriangle(9, findDistFromMagic, .9992, 100000, 5000000)\n",
        "print(res)\n",
        "drawTriangle(res[1])"
      ],
      "execution_count": 46,
      "outputs": [
        {
          "output_type": "stream",
          "text": [
            "(0, [54, 40, 6, 20, 13, 27, 42, 65, 14, 30, 64, 79, 71, 81, 52, 55, 9, 57, 44, 33, 61, 11, 50, 36, 35, 62, 68, 3, 48, 58, 47, 25, 17, 31, 32, 24, 37, 19, 21, 60, 74, 22, 4, 49, 34, 70, 72, 43, 66, 7, 10, 23, 8, 1, 69, 80, 28, 59, 38, 15, 67, 51, 77, 5, 29, 63, 12, 53, 45, 75, 2, 39, 76, 46, 41, 73, 78, 26, 18, 56, 16], 91704, 1.3366440543937382e-32)\n"
          ],
          "name": "stdout"
        },
        {
          "output_type": "execute_result",
          "data": {
            "text/plain": [
              "[[738, 738, 738, 738, 738],\n",
              " [738, 738, 738, 738, 738],\n",
              " [738, 738, 738, 738, 738]]"
            ]
          },
          "metadata": {
            "tags": []
          },
          "execution_count": 46
        },
        {
          "output_type": "display_data",
          "data": {
            "text/plain": [
              "<Figure size 648x561.184 with 1 Axes>"
            ],
            "image/png": "[encoded data removed]"
          },
          "metadata": {
            "tags": [],
            "needs_background": "light"
          }
        }
      ]
    },
    {
      "cell_type": "markdown",
      "metadata": {
        "id": "E-v8GIk9dNJz"
      },
      "source": [
        "Here is a 10-level magic triangle:"
      ]
    },
    {
      "cell_type": "code",
      "metadata": {
        "colab": {
          "base_uri": "https://localhost:8080/",
          "height": 592
        },
        "id": "rlZMmtfqWsWf",
        "outputId": "0097b4c5-2455-4a48-d530-f93e2fd51019"
      },
      "source": [
        "res = findMagicTriangle(10, findDistFromMagic, .9996, 160000, 5000000)\n",
        "print(res)\n",
        "drawTriangle(res[1])"
      ],
      "execution_count": 48,
      "outputs": [
        {
          "output_type": "stream",
          "text": [
            "(0, [19, 43, 94, 7, 26, 89, 74, 21, 15, 47, 93, 97, 83, 54, 27, 25, 91, 4, 13, 14, 53, 80, 60, 42, 39, 17, 65, 10, 33, 23, 92, 75, 72, 41, 95, 55, 66, 45, 57, 63, 28, 96, 16, 78, 22, 5, 44, 67, 38, 98, 77, 64, 81, 71, 73, 59, 6, 2, 29, 30, 69, 32, 79, 20, 51, 9, 100, 50, 86, 49, 90, 35, 82, 84, 24, 56, 11, 1, 3, 52, 58, 76, 31, 62, 87, 99, 68, 8, 12, 85, 36, 61, 46, 37, 48, 18, 70, 34, 40, 88], 875281, 4.1562783019201315e-14)\n"
          ],
          "name": "stdout"
        },
        {
          "output_type": "execute_result",
          "data": {
            "text/plain": [
              "[[1010, 1010, 1010, 1010, 1010],\n",
              " [1010, 1010, 1010, 1010, 1010],\n",
              " [1010, 1010, 1010, 1010, 1010]]"
            ]
          },
          "metadata": {
            "tags": []
          },
          "execution_count": 48
        },
        {
          "output_type": "display_data",
          "data": {
            "text/plain": [
              "<Figure size 720x623.538 with 1 Axes>"
            ],
            "image/png": "[encoded data removed]"
          },
          "metadata": {
            "tags": [],
            "needs_background": "light"
          }
        }
      ]
    }
  ]
}