{
  "nbformat": 4,
  "nbformat_minor": 0,
  "metadata": {
    "colab": {
      "name": "Distributions of Entries",
      "provenance": [],
      "collapsed_sections": [],
      "authorship_tag": "ABX9TyPDiaK1Dr+8AjihqKTEFtUR",
      "include_colab_link": true
    },
    "kernelspec": {
      "name": "python3",
      "display_name": "Python 3"
    },
    "language_info": {
      "name": "python"
    }
  },
  "cells": [
    {
      "cell_type": "markdown",
      "metadata": {
        "id": "view-in-github",
        "colab_type": "text"
      },
      "source": [
        "<a href=\"https://colab.research.google.com/github/mlwright84/magictriangles/blob/main/Distributions_of_Entries.ipynb\" target=\"_parent\"><img src=\"https://colab.research.google.com/assets/colab-badge.svg\" alt=\"Open In Colab\"/></a>"
      ]
    },
    {
      "cell_type": "markdown",
      "metadata": {
        "id": "1OiC6BSx-Qxh"
      },
      "source": [
        "# Distribution of Magic Triangle Entries\n",
        "\n",
        "by Gabriel Hale, Bjorn Vogen, and Matthew Wright\n",
        "\n",
        "This file contains the Python code to determine the distribution of integers in each position in 3-level and 4-level magic triangles. This was used to collect the data for Figure 6 in our *Magic Triangles* paper."
      ]
    },
    {
      "cell_type": "markdown",
      "metadata": {
        "id": "u95-W4ahGygX"
      },
      "source": [
        "Note that an $n$-level triangular arrangement is stored as a list of $n^2$ entries, indexed left-to-right, bottom-to-top as in our paper (see Figure 2 in the paper). However, Python indexes start at 0, while indexes in the paper start at 1."
      ]
    },
    {
      "cell_type": "markdown",
      "metadata": {
        "id": "tqwmD8wTQP9_"
      },
      "source": [
        "## 3-Level Triangles\n",
        "\n",
        "This code collects the data to produce Figure 7 in the paper."
      ]
    },
    {
      "cell_type": "code",
      "metadata": {
        "id": "P52C6lEE-MRv"
      },
      "source": [
        "# function to find all 3-level central hexagon solutions\n",
        "def findCentralHexagons():\n",
        "  sols = []\n",
        "\n",
        "  # consider all triples of integers 1 <= a3 < a6 < a8 <= 9:\n",
        "  for a3 in range(1,10):\n",
        "    for a6 in range(a3+1,10):\n",
        "      for a8 in range(a6+1,10):\n",
        "        # there are six remaining numbers for the other positions\n",
        "        remainingNums = [i for i in range(1,10) if (i != a3 and i != a6 and i != a8)]\n",
        "\n",
        "        # iterate over triples of distinct indexes from 0, ..., 5\n",
        "        for i in range(6):\n",
        "          for j in range(6):\n",
        "            if i == j:\n",
        "              continue\n",
        "            for k in range(6):\n",
        "              if i == k or j == k:\n",
        "                continue\n",
        "              a2 = remainingNums[i]\n",
        "              a4 = remainingNums[j]\n",
        "              a7 = remainingNums[k]\n",
        "\n",
        "              if a2 + a3 + a6 == 15 and a3 + a4 + a8 == 15 and a6 + a7 + a8 == 15:\n",
        "                sols.append([a2, a3, a4, a6, a7, a8])\n",
        "                print([a2, a3, a4, a6, a7, a8])\n",
        "\n",
        "  return sols\n",
        "\n",
        "# function to compute fequencies of each integer in each position\n",
        "def computeFrequencies(centralHexs):\n",
        "  corners = [0]*9\n",
        "  borders = [0]*9\n",
        "  interior = [0]*9\n",
        "\n",
        "  for sol in centralHexs:\n",
        "    a2 = sol[0]\n",
        "    a3 = sol[1]\n",
        "    a4 = sol[2]\n",
        "    a6 = sol[3]\n",
        "    a7 = sol[4]\n",
        "    a8 = sol[5]\n",
        "\n",
        "    borders[a3-1] += 6\n",
        "    borders[a6-1] += 6\n",
        "    borders[a8-1] += 6\n",
        "\n",
        "    interior[a2-1] += 6\n",
        "    interior[a4-1] += 6\n",
        "    interior[a7-1] += 6\n",
        "\n",
        "    remaining = [i for i in range(1,10) if i not in sol]\n",
        "    for k in remaining:\n",
        "      corners[k-1] += 6\n",
        "\n",
        "  return corners, borders, interior"
      ],
      "execution_count": null,
      "outputs": []
    },
    {
      "cell_type": "markdown",
      "metadata": {
        "id": "JuwcIJ8BP5dE"
      },
      "source": [
        "Now we can find all 16 central hexagon solutions for 3-level magic triangles:"
      ]
    },
    {
      "cell_type": "code",
      "metadata": {
        "colab": {
          "base_uri": "https://localhost:8080/"
        },
        "id": "cjkhgU0fEBqn",
        "outputId": "6e7925dd-4261-42b8-a770-14f1cb07dfe1"
      },
      "source": [
        "sols = findCentralHexagons()\n",
        "sols"
      ],
      "execution_count": null,
      "outputs": [
        {
          "output_type": "stream",
          "text": [
            "[9, 1, 8, 5, 4, 6]\n",
            "[9, 1, 6, 5, 2, 8]\n",
            "[9, 2, 8, 4, 6, 5]\n",
            "[9, 2, 7, 4, 5, 6]\n",
            "[9, 2, 5, 4, 3, 8]\n",
            "[8, 2, 7, 5, 4, 6]\n",
            "[8, 2, 6, 5, 3, 7]\n",
            "[8, 2, 4, 5, 1, 9]\n",
            "[7, 2, 5, 6, 1, 8]\n",
            "[8, 3, 7, 4, 6, 5]\n",
            "[7, 3, 4, 5, 2, 8]\n",
            "[6, 4, 3, 5, 2, 8]\n",
            "[6, 4, 2, 5, 1, 9]\n",
            "[5, 4, 3, 6, 1, 8]\n",
            "[4, 5, 3, 6, 2, 7]\n",
            "[4, 5, 2, 6, 1, 8]\n"
          ],
          "name": "stdout"
        }
      ]
    },
    {
      "cell_type": "markdown",
      "metadata": {
        "id": "1sZA1OklP-36"
      },
      "source": [
        "Next we compute the number of times that each integer is in the corner, border, and interior positiosn for all 96 3-level magic triangles:"
      ]
    },
    {
      "cell_type": "code",
      "metadata": {
        "id": "lfkEJ4APG9CB"
      },
      "source": [
        "corners, borders, interior = computeFrequencies(sols)"
      ],
      "execution_count": null,
      "outputs": []
    },
    {
      "cell_type": "code",
      "metadata": {
        "colab": {
          "base_uri": "https://localhost:8080/"
        },
        "id": "6mm-zH_LIeXg",
        "outputId": "e5f5a83c-1921-473b-df46-d000247b672c"
      },
      "source": [
        "print(corners)\n",
        "print(borders)\n",
        "print(interior)"
      ],
      "execution_count": null,
      "outputs": [
        {
          "output_type": "stream",
          "text": [
            "[54, 18, 54, 18, 0, 18, 54, 18, 54]\n",
            "[12, 42, 12, 42, 72, 42, 12, 42, 12]\n",
            "[30, 36, 30, 36, 24, 36, 30, 36, 30]\n"
          ],
          "name": "stdout"
        }
      ]
    },
    {
      "cell_type": "code",
      "metadata": {
        "id": "zpwaGWOYIvmu"
      },
      "source": [
        "# function to print coordinate lists for the plot in the paper\n",
        "def printCoordStr(counts):\n",
        "  s = \"{\"\n",
        "  for i,c in enumerate(counts):\n",
        "    s += \"(\" + str(i+1) + \",\" + str(c) + \") \"\n",
        "  s += \"}\"\n",
        "  return s"
      ],
      "execution_count": null,
      "outputs": []
    },
    {
      "cell_type": "code",
      "metadata": {
        "colab": {
          "base_uri": "https://localhost:8080/"
        },
        "id": "eQz3hKDvKCjv",
        "outputId": "b0fa5be9-92ec-4ef2-fb24-04007ed3f2fc"
      },
      "source": [
        "print(printCoordStr(corners))\n",
        "print(printCoordStr(borders))\n",
        "print(printCoordStr(interior))"
      ],
      "execution_count": null,
      "outputs": [
        {
          "output_type": "stream",
          "text": [
            "{(1,54) (2,18) (3,54) (4,18) (5,0) (6,18) (7,54) (8,18) (9,54) }\n",
            "{(1,12) (2,42) (3,12) (4,42) (5,72) (6,42) (7,12) (8,42) (9,12) }\n",
            "{(1,30) (2,36) (3,30) (4,36) (5,24) (6,36) (7,30) (8,36) (9,30) }\n"
          ],
          "name": "stdout"
        }
      ]
    },
    {
      "cell_type": "markdown",
      "metadata": {
        "id": "nHn-gi3QQUiG"
      },
      "source": [
        "## 4-Level Triangles\n",
        "\n",
        "This code collects the data to produce Figure 8 in the paper."
      ]
    },
    {
      "cell_type": "markdown",
      "metadata": {
        "id": "3xuKbNwz4Npy"
      },
      "source": [
        "Exhaustive search for 4-level magic triangles: creates a list `magicConfigs` with entries as follows:\n",
        "\n",
        "[corners, B, A, C, a_10, a_14, a_2, a_6]\n",
        "\n",
        "a_14 < a_2 < a_6\n"
      ]
    },
    {
      "cell_type": "code",
      "metadata": {
        "id": "B-XimPoJwFFd"
      },
      "source": [
        "# exhaustive search for 4-level magic triangles: creates a list `magicConfigs` with entries as follows:\n",
        "#   [corners, B, A, C, a_10, a_14, a_2, a_6]\n",
        "#   entries in corners, A, B, and C are sorted in ascending order, and also a_14 < a_2 < a_6\n",
        "def count4LevelTriangles():\n",
        "  global numChecked, numFound, interiorConfigs\n",
        "  numChecked = 0\n",
        "  numFound = 0\n",
        "  interiorConfigs = []\n",
        "\n",
        "  # choose 3 of 16 numbers for the corners\n",
        "  for i in range(1,17):\n",
        "    for j in range(i+1,17):\n",
        "      for k in range(j+1, 17):\n",
        "        interiorNums = [n for n in range(1,17) if (n != i and n != j and n != k) ]\n",
        "        #print(interiorNums)\n",
        "\n",
        "        count4LevelInteriors(interiorNums, [i, j, k])\n",
        "\n",
        "        print(f\"finished [{i}, {j}, {k}]\")\n",
        "\n",
        "  print(f\"checked {numChecked} cases\")\n",
        "  print(f\"found {numFound} magic triangles\")\n",
        "\n",
        "# function that finds interior configurations (everything except the corner entries)\n",
        "def count4LevelInteriors(nums, corners):\n",
        "  global numChecked, numFound, interiorConfigs\n",
        "\n",
        "  # choose indexes for region I\n",
        "  for i in range(13):\n",
        "    for j in range(i+1,13):\n",
        "      for k in range(j+1,13):\n",
        "        regIsum = nums[i] + nums[j] + nums[k]\n",
        "        numsNotI = [n for n in nums if (n != nums[i] and n != nums[j] and n != nums[k]) ]\n",
        "\n",
        "        # choose indexes for region II\n",
        "        for p in range(10):\n",
        "          for q in range(p+1,10):\n",
        "            for r in range(q+1,10):\n",
        "              regIIsum = numsNotI[p] + numsNotI[q] + numsNotI[r]\n",
        "              numsNotII = [n for n in numsNotI if (n != numsNotI[p] and n != numsNotI[q] and n != numsNotI[r]) ]\n",
        "\n",
        "              # choose indexes for region III\n",
        "              for s in range(7):\n",
        "                for t in range(s+1,7):\n",
        "                  for u in range(t+1,7):\n",
        "                    regIIIsum = numsNotII[s] + numsNotII[t] + numsNotII[u]\n",
        "                    final4 = [n for n in numsNotII if (n != numsNotII[s] and n != numsNotII[t] and n != numsNotII[u]) ]\n",
        "\n",
        "                    # choose middle number (a) in the triangle\n",
        "                    # this determines the remaining 3 numbers, which we specify to be CCW increasing from top (b < c < d)\n",
        "                    for v in range(4):\n",
        "                      a = final4[v]\n",
        "                      final3 = final4[:v] + final4[v+1:]  # this is [b, c, d]\n",
        "                      \n",
        "                      # compute sums\n",
        "                      magicNum = 68 - a\n",
        "                      if (regIsum + regIIIsum + final3[0] == magicNum) and (\n",
        "                          regIsum + regIIsum + final3[1] == magicNum) and (\n",
        "                          regIIsum + regIIIsum + final3[2] == magicNum):\n",
        "                        # found a magic triangle!\n",
        "                        numFound += 1\n",
        "                        config = [ corners, [nums[i], nums[j], nums[k]], [numsNotI[p], numsNotI[q], numsNotI[r]],\n",
        "                                  [numsNotII[s], numsNotII[t], numsNotII[u]], a, final3[0], final3[1], final3[2]]\n",
        "                        magicConfigs.append(config)\n",
        "                        #print( config )\n",
        "\n",
        "                      numChecked += 1\n"
      ],
      "execution_count": null,
      "outputs": []
    },
    {
      "cell_type": "markdown",
      "metadata": {
        "id": "FbKomotBHQ91"
      },
      "source": [
        "Now find all 4-level magic triangles. The following code cell takes about 25 minutes to run."
      ]
    },
    {
      "cell_type": "code",
      "metadata": {
        "id": "MYlCr-6a4L24",
        "colab": {
          "base_uri": "https://localhost:8080/"
        },
        "outputId": "0c2aae2d-7712-4c76-ace5-ef2438f465e5"
      },
      "source": [
        "magicConfigs = []\n",
        "count4LevelTriangles()"
      ],
      "execution_count": null,
      "outputs": [
        {
          "output_type": "stream",
          "text": [
            "finished [1, 2, 3]\n",
            "finished [1, 2, 4]\n",
            "finished [1, 2, 5]\n",
            "finished [1, 2, 6]\n",
            "finished [1, 2, 7]\n",
            "finished [1, 2, 8]\n",
            "finished [1, 2, 9]\n",
            "finished [1, 2, 10]\n",
            "finished [1, 2, 11]\n",
            "finished [1, 2, 12]\n",
            "finished [1, 2, 13]\n",
            "finished [1, 2, 14]\n",
            "finished [1, 2, 15]\n",
            "finished [1, 2, 16]\n",
            "finished [1, 3, 4]\n",
            "finished [1, 3, 5]\n",
            "finished [1, 3, 6]\n",
            "finished [1, 3, 7]\n",
            "finished [1, 3, 8]\n",
            "finished [1, 3, 9]\n",
            "finished [1, 3, 10]\n",
            "finished [1, 3, 11]\n",
            "finished [1, 3, 12]\n",
            "finished [1, 3, 13]\n",
            "finished [1, 3, 14]\n",
            "finished [1, 3, 15]\n",
            "finished [1, 3, 16]\n",
            "finished [1, 4, 5]\n",
            "finished [1, 4, 6]\n",
            "finished [1, 4, 7]\n",
            "finished [1, 4, 8]\n",
            "finished [1, 4, 9]\n",
            "finished [1, 4, 10]\n",
            "finished [1, 4, 11]\n",
            "finished [1, 4, 12]\n",
            "finished [1, 4, 13]\n",
            "finished [1, 4, 14]\n",
            "finished [1, 4, 15]\n",
            "finished [1, 4, 16]\n",
            "finished [1, 5, 6]\n",
            "finished [1, 5, 7]\n",
            "finished [1, 5, 8]\n",
            "finished [1, 5, 9]\n",
            "finished [1, 5, 10]\n",
            "finished [1, 5, 11]\n",
            "finished [1, 5, 12]\n",
            "finished [1, 5, 13]\n",
            "finished [1, 5, 14]\n",
            "finished [1, 5, 15]\n",
            "finished [1, 5, 16]\n",
            "finished [1, 6, 7]\n",
            "finished [1, 6, 8]\n",
            "finished [1, 6, 9]\n",
            "finished [1, 6, 10]\n",
            "finished [1, 6, 11]\n",
            "finished [1, 6, 12]\n",
            "finished [1, 6, 13]\n",
            "finished [1, 6, 14]\n",
            "finished [1, 6, 15]\n",
            "finished [1, 6, 16]\n",
            "finished [1, 7, 8]\n",
            "finished [1, 7, 9]\n",
            "finished [1, 7, 10]\n",
            "finished [1, 7, 11]\n",
            "finished [1, 7, 12]\n",
            "finished [1, 7, 13]\n",
            "finished [1, 7, 14]\n",
            "finished [1, 7, 15]\n",
            "finished [1, 7, 16]\n",
            "finished [1, 8, 9]\n",
            "finished [1, 8, 10]\n",
            "finished [1, 8, 11]\n",
            "finished [1, 8, 12]\n",
            "finished [1, 8, 13]\n",
            "finished [1, 8, 14]\n",
            "finished [1, 8, 15]\n",
            "finished [1, 8, 16]\n",
            "finished [1, 9, 10]\n",
            "finished [1, 9, 11]\n",
            "finished [1, 9, 12]\n",
            "finished [1, 9, 13]\n",
            "finished [1, 9, 14]\n",
            "finished [1, 9, 15]\n",
            "finished [1, 9, 16]\n",
            "finished [1, 10, 11]\n",
            "finished [1, 10, 12]\n",
            "finished [1, 10, 13]\n",
            "finished [1, 10, 14]\n",
            "finished [1, 10, 15]\n",
            "finished [1, 10, 16]\n",
            "finished [1, 11, 12]\n",
            "finished [1, 11, 13]\n",
            "finished [1, 11, 14]\n",
            "finished [1, 11, 15]\n",
            "finished [1, 11, 16]\n",
            "finished [1, 12, 13]\n",
            "finished [1, 12, 14]\n",
            "finished [1, 12, 15]\n",
            "finished [1, 12, 16]\n",
            "finished [1, 13, 14]\n",
            "finished [1, 13, 15]\n",
            "finished [1, 13, 16]\n",
            "finished [1, 14, 15]\n",
            "finished [1, 14, 16]\n",
            "finished [1, 15, 16]\n",
            "finished [2, 3, 4]\n",
            "finished [2, 3, 5]\n",
            "finished [2, 3, 6]\n",
            "finished [2, 3, 7]\n",
            "finished [2, 3, 8]\n",
            "finished [2, 3, 9]\n",
            "finished [2, 3, 10]\n",
            "finished [2, 3, 11]\n",
            "finished [2, 3, 12]\n",
            "finished [2, 3, 13]\n",
            "finished [2, 3, 14]\n",
            "finished [2, 3, 15]\n",
            "finished [2, 3, 16]\n",
            "finished [2, 4, 5]\n",
            "finished [2, 4, 6]\n",
            "finished [2, 4, 7]\n",
            "finished [2, 4, 8]\n",
            "finished [2, 4, 9]\n",
            "finished [2, 4, 10]\n",
            "finished [2, 4, 11]\n",
            "finished [2, 4, 12]\n",
            "finished [2, 4, 13]\n",
            "finished [2, 4, 14]\n",
            "finished [2, 4, 15]\n",
            "finished [2, 4, 16]\n",
            "finished [2, 5, 6]\n",
            "finished [2, 5, 7]\n",
            "finished [2, 5, 8]\n",
            "finished [2, 5, 9]\n",
            "finished [2, 5, 10]\n",
            "finished [2, 5, 11]\n",
            "finished [2, 5, 12]\n",
            "finished [2, 5, 13]\n",
            "finished [2, 5, 14]\n",
            "finished [2, 5, 15]\n",
            "finished [2, 5, 16]\n",
            "finished [2, 6, 7]\n",
            "finished [2, 6, 8]\n",
            "finished [2, 6, 9]\n",
            "finished [2, 6, 10]\n",
            "finished [2, 6, 11]\n",
            "finished [2, 6, 12]\n",
            "finished [2, 6, 13]\n",
            "finished [2, 6, 14]\n",
            "finished [2, 6, 15]\n",
            "finished [2, 6, 16]\n",
            "finished [2, 7, 8]\n",
            "finished [2, 7, 9]\n",
            "finished [2, 7, 10]\n",
            "finished [2, 7, 11]\n",
            "finished [2, 7, 12]\n",
            "finished [2, 7, 13]\n",
            "finished [2, 7, 14]\n",
            "finished [2, 7, 15]\n",
            "finished [2, 7, 16]\n",
            "finished [2, 8, 9]\n",
            "finished [2, 8, 10]\n",
            "finished [2, 8, 11]\n",
            "finished [2, 8, 12]\n",
            "finished [2, 8, 13]\n",
            "finished [2, 8, 14]\n",
            "finished [2, 8, 15]\n",
            "finished [2, 8, 16]\n",
            "finished [2, 9, 10]\n",
            "finished [2, 9, 11]\n",
            "finished [2, 9, 12]\n",
            "finished [2, 9, 13]\n",
            "finished [2, 9, 14]\n",
            "finished [2, 9, 15]\n",
            "finished [2, 9, 16]\n",
            "finished [2, 10, 11]\n",
            "finished [2, 10, 12]\n",
            "finished [2, 10, 13]\n",
            "finished [2, 10, 14]\n",
            "finished [2, 10, 15]\n",
            "finished [2, 10, 16]\n",
            "finished [2, 11, 12]\n",
            "finished [2, 11, 13]\n",
            "finished [2, 11, 14]\n",
            "finished [2, 11, 15]\n",
            "finished [2, 11, 16]\n",
            "finished [2, 12, 13]\n",
            "finished [2, 12, 14]\n",
            "finished [2, 12, 15]\n",
            "finished [2, 12, 16]\n",
            "finished [2, 13, 14]\n",
            "finished [2, 13, 15]\n",
            "finished [2, 13, 16]\n",
            "finished [2, 14, 15]\n",
            "finished [2, 14, 16]\n",
            "finished [2, 15, 16]\n",
            "finished [3, 4, 5]\n",
            "finished [3, 4, 6]\n",
            "finished [3, 4, 7]\n",
            "finished [3, 4, 8]\n",
            "finished [3, 4, 9]\n",
            "finished [3, 4, 10]\n",
            "finished [3, 4, 11]\n",
            "finished [3, 4, 12]\n",
            "finished [3, 4, 13]\n",
            "finished [3, 4, 14]\n",
            "finished [3, 4, 15]\n",
            "finished [3, 4, 16]\n",
            "finished [3, 5, 6]\n",
            "finished [3, 5, 7]\n",
            "finished [3, 5, 8]\n",
            "finished [3, 5, 9]\n",
            "finished [3, 5, 10]\n",
            "finished [3, 5, 11]\n",
            "finished [3, 5, 12]\n",
            "finished [3, 5, 13]\n",
            "finished [3, 5, 14]\n",
            "finished [3, 5, 15]\n",
            "finished [3, 5, 16]\n",
            "finished [3, 6, 7]\n",
            "finished [3, 6, 8]\n",
            "finished [3, 6, 9]\n",
            "finished [3, 6, 10]\n",
            "finished [3, 6, 11]\n",
            "finished [3, 6, 12]\n",
            "finished [3, 6, 13]\n",
            "finished [3, 6, 14]\n",
            "finished [3, 6, 15]\n",
            "finished [3, 6, 16]\n",
            "finished [3, 7, 8]\n",
            "finished [3, 7, 9]\n",
            "finished [3, 7, 10]\n",
            "finished [3, 7, 11]\n",
            "finished [3, 7, 12]\n",
            "finished [3, 7, 13]\n",
            "finished [3, 7, 14]\n",
            "finished [3, 7, 15]\n",
            "finished [3, 7, 16]\n",
            "finished [3, 8, 9]\n",
            "finished [3, 8, 10]\n",
            "finished [3, 8, 11]\n",
            "finished [3, 8, 12]\n",
            "finished [3, 8, 13]\n",
            "finished [3, 8, 14]\n",
            "finished [3, 8, 15]\n",
            "finished [3, 8, 16]\n",
            "finished [3, 9, 10]\n",
            "finished [3, 9, 11]\n",
            "finished [3, 9, 12]\n",
            "finished [3, 9, 13]\n",
            "finished [3, 9, 14]\n",
            "finished [3, 9, 15]\n",
            "finished [3, 9, 16]\n",
            "finished [3, 10, 11]\n",
            "finished [3, 10, 12]\n",
            "finished [3, 10, 13]\n",
            "finished [3, 10, 14]\n",
            "finished [3, 10, 15]\n",
            "finished [3, 10, 16]\n",
            "finished [3, 11, 12]\n",
            "finished [3, 11, 13]\n",
            "finished [3, 11, 14]\n",
            "finished [3, 11, 15]\n",
            "finished [3, 11, 16]\n",
            "finished [3, 12, 13]\n",
            "finished [3, 12, 14]\n",
            "finished [3, 12, 15]\n",
            "finished [3, 12, 16]\n",
            "finished [3, 13, 14]\n",
            "finished [3, 13, 15]\n",
            "finished [3, 13, 16]\n",
            "finished [3, 14, 15]\n",
            "finished [3, 14, 16]\n",
            "finished [3, 15, 16]\n",
            "finished [4, 5, 6]\n",
            "finished [4, 5, 7]\n",
            "finished [4, 5, 8]\n",
            "finished [4, 5, 9]\n",
            "finished [4, 5, 10]\n",
            "finished [4, 5, 11]\n",
            "finished [4, 5, 12]\n",
            "finished [4, 5, 13]\n",
            "finished [4, 5, 14]\n",
            "finished [4, 5, 15]\n",
            "finished [4, 5, 16]\n",
            "finished [4, 6, 7]\n",
            "finished [4, 6, 8]\n",
            "finished [4, 6, 9]\n",
            "finished [4, 6, 10]\n",
            "finished [4, 6, 11]\n",
            "finished [4, 6, 12]\n",
            "finished [4, 6, 13]\n",
            "finished [4, 6, 14]\n",
            "finished [4, 6, 15]\n",
            "finished [4, 6, 16]\n",
            "finished [4, 7, 8]\n",
            "finished [4, 7, 9]\n",
            "finished [4, 7, 10]\n",
            "finished [4, 7, 11]\n",
            "finished [4, 7, 12]\n",
            "finished [4, 7, 13]\n",
            "finished [4, 7, 14]\n",
            "finished [4, 7, 15]\n",
            "finished [4, 7, 16]\n",
            "finished [4, 8, 9]\n",
            "finished [4, 8, 10]\n",
            "finished [4, 8, 11]\n",
            "finished [4, 8, 12]\n",
            "finished [4, 8, 13]\n",
            "finished [4, 8, 14]\n",
            "finished [4, 8, 15]\n",
            "finished [4, 8, 16]\n",
            "finished [4, 9, 10]\n",
            "finished [4, 9, 11]\n",
            "finished [4, 9, 12]\n",
            "finished [4, 9, 13]\n",
            "finished [4, 9, 14]\n",
            "finished [4, 9, 15]\n",
            "finished [4, 9, 16]\n",
            "finished [4, 10, 11]\n",
            "finished [4, 10, 12]\n",
            "finished [4, 10, 13]\n",
            "finished [4, 10, 14]\n",
            "finished [4, 10, 15]\n",
            "finished [4, 10, 16]\n",
            "finished [4, 11, 12]\n",
            "finished [4, 11, 13]\n",
            "finished [4, 11, 14]\n",
            "finished [4, 11, 15]\n",
            "finished [4, 11, 16]\n",
            "finished [4, 12, 13]\n",
            "finished [4, 12, 14]\n",
            "finished [4, 12, 15]\n",
            "finished [4, 12, 16]\n",
            "finished [4, 13, 14]\n",
            "finished [4, 13, 15]\n",
            "finished [4, 13, 16]\n",
            "finished [4, 14, 15]\n",
            "finished [4, 14, 16]\n",
            "finished [4, 15, 16]\n",
            "finished [5, 6, 7]\n",
            "finished [5, 6, 8]\n",
            "finished [5, 6, 9]\n",
            "finished [5, 6, 10]\n",
            "finished [5, 6, 11]\n",
            "finished [5, 6, 12]\n",
            "finished [5, 6, 13]\n",
            "finished [5, 6, 14]\n",
            "finished [5, 6, 15]\n",
            "finished [5, 6, 16]\n",
            "finished [5, 7, 8]\n",
            "finished [5, 7, 9]\n",
            "finished [5, 7, 10]\n",
            "finished [5, 7, 11]\n",
            "finished [5, 7, 12]\n",
            "finished [5, 7, 13]\n",
            "finished [5, 7, 14]\n",
            "finished [5, 7, 15]\n",
            "finished [5, 7, 16]\n",
            "finished [5, 8, 9]\n",
            "finished [5, 8, 10]\n",
            "finished [5, 8, 11]\n",
            "finished [5, 8, 12]\n",
            "finished [5, 8, 13]\n",
            "finished [5, 8, 14]\n",
            "finished [5, 8, 15]\n",
            "finished [5, 8, 16]\n",
            "finished [5, 9, 10]\n",
            "finished [5, 9, 11]\n",
            "finished [5, 9, 12]\n",
            "finished [5, 9, 13]\n",
            "finished [5, 9, 14]\n",
            "finished [5, 9, 15]\n",
            "finished [5, 9, 16]\n",
            "finished [5, 10, 11]\n",
            "finished [5, 10, 12]\n",
            "finished [5, 10, 13]\n",
            "finished [5, 10, 14]\n",
            "finished [5, 10, 15]\n",
            "finished [5, 10, 16]\n",
            "finished [5, 11, 12]\n",
            "finished [5, 11, 13]\n",
            "finished [5, 11, 14]\n",
            "finished [5, 11, 15]\n",
            "finished [5, 11, 16]\n",
            "finished [5, 12, 13]\n",
            "finished [5, 12, 14]\n",
            "finished [5, 12, 15]\n",
            "finished [5, 12, 16]\n",
            "finished [5, 13, 14]\n",
            "finished [5, 13, 15]\n",
            "finished [5, 13, 16]\n",
            "finished [5, 14, 15]\n",
            "finished [5, 14, 16]\n",
            "finished [5, 15, 16]\n",
            "finished [6, 7, 8]\n",
            "finished [6, 7, 9]\n",
            "finished [6, 7, 10]\n",
            "finished [6, 7, 11]\n",
            "finished [6, 7, 12]\n",
            "finished [6, 7, 13]\n",
            "finished [6, 7, 14]\n",
            "finished [6, 7, 15]\n",
            "finished [6, 7, 16]\n",
            "finished [6, 8, 9]\n",
            "finished [6, 8, 10]\n",
            "finished [6, 8, 11]\n",
            "finished [6, 8, 12]\n",
            "finished [6, 8, 13]\n",
            "finished [6, 8, 14]\n",
            "finished [6, 8, 15]\n",
            "finished [6, 8, 16]\n",
            "finished [6, 9, 10]\n",
            "finished [6, 9, 11]\n",
            "finished [6, 9, 12]\n",
            "finished [6, 9, 13]\n",
            "finished [6, 9, 14]\n",
            "finished [6, 9, 15]\n",
            "finished [6, 9, 16]\n",
            "finished [6, 10, 11]\n",
            "finished [6, 10, 12]\n",
            "finished [6, 10, 13]\n",
            "finished [6, 10, 14]\n",
            "finished [6, 10, 15]\n",
            "finished [6, 10, 16]\n",
            "finished [6, 11, 12]\n",
            "finished [6, 11, 13]\n",
            "finished [6, 11, 14]\n",
            "finished [6, 11, 15]\n",
            "finished [6, 11, 16]\n",
            "finished [6, 12, 13]\n",
            "finished [6, 12, 14]\n",
            "finished [6, 12, 15]\n",
            "finished [6, 12, 16]\n",
            "finished [6, 13, 14]\n",
            "finished [6, 13, 15]\n",
            "finished [6, 13, 16]\n",
            "finished [6, 14, 15]\n",
            "finished [6, 14, 16]\n",
            "finished [6, 15, 16]\n",
            "finished [7, 8, 9]\n",
            "finished [7, 8, 10]\n",
            "finished [7, 8, 11]\n",
            "finished [7, 8, 12]\n",
            "finished [7, 8, 13]\n",
            "finished [7, 8, 14]\n",
            "finished [7, 8, 15]\n",
            "finished [7, 8, 16]\n",
            "finished [7, 9, 10]\n",
            "finished [7, 9, 11]\n",
            "finished [7, 9, 12]\n",
            "finished [7, 9, 13]\n",
            "finished [7, 9, 14]\n",
            "finished [7, 9, 15]\n",
            "finished [7, 9, 16]\n",
            "finished [7, 10, 11]\n",
            "finished [7, 10, 12]\n",
            "finished [7, 10, 13]\n",
            "finished [7, 10, 14]\n",
            "finished [7, 10, 15]\n",
            "finished [7, 10, 16]\n",
            "finished [7, 11, 12]\n",
            "finished [7, 11, 13]\n",
            "finished [7, 11, 14]\n",
            "finished [7, 11, 15]\n",
            "finished [7, 11, 16]\n",
            "finished [7, 12, 13]\n",
            "finished [7, 12, 14]\n",
            "finished [7, 12, 15]\n",
            "finished [7, 12, 16]\n",
            "finished [7, 13, 14]\n",
            "finished [7, 13, 15]\n",
            "finished [7, 13, 16]\n",
            "finished [7, 14, 15]\n",
            "finished [7, 14, 16]\n",
            "finished [7, 15, 16]\n",
            "finished [8, 9, 10]\n",
            "finished [8, 9, 11]\n",
            "finished [8, 9, 12]\n",
            "finished [8, 9, 13]\n",
            "finished [8, 9, 14]\n",
            "finished [8, 9, 15]\n",
            "finished [8, 9, 16]\n",
            "finished [8, 10, 11]\n",
            "finished [8, 10, 12]\n",
            "finished [8, 10, 13]\n",
            "finished [8, 10, 14]\n",
            "finished [8, 10, 15]\n",
            "finished [8, 10, 16]\n",
            "finished [8, 11, 12]\n",
            "finished [8, 11, 13]\n",
            "finished [8, 11, 14]\n",
            "finished [8, 11, 15]\n",
            "finished [8, 11, 16]\n",
            "finished [8, 12, 13]\n",
            "finished [8, 12, 14]\n",
            "finished [8, 12, 15]\n",
            "finished [8, 12, 16]\n",
            "finished [8, 13, 14]\n",
            "finished [8, 13, 15]\n",
            "finished [8, 13, 16]\n",
            "finished [8, 14, 15]\n",
            "finished [8, 14, 16]\n",
            "finished [8, 15, 16]\n",
            "finished [9, 10, 11]\n",
            "finished [9, 10, 12]\n",
            "finished [9, 10, 13]\n",
            "finished [9, 10, 14]\n",
            "finished [9, 10, 15]\n",
            "finished [9, 10, 16]\n",
            "finished [9, 11, 12]\n",
            "finished [9, 11, 13]\n",
            "finished [9, 11, 14]\n",
            "finished [9, 11, 15]\n",
            "finished [9, 11, 16]\n",
            "finished [9, 12, 13]\n",
            "finished [9, 12, 14]\n",
            "finished [9, 12, 15]\n",
            "finished [9, 12, 16]\n",
            "finished [9, 13, 14]\n",
            "finished [9, 13, 15]\n",
            "finished [9, 13, 16]\n",
            "finished [9, 14, 15]\n",
            "finished [9, 14, 16]\n",
            "finished [9, 15, 16]\n",
            "finished [10, 11, 12]\n",
            "finished [10, 11, 13]\n",
            "finished [10, 11, 14]\n",
            "finished [10, 11, 15]\n",
            "finished [10, 11, 16]\n",
            "finished [10, 12, 13]\n",
            "finished [10, 12, 14]\n",
            "finished [10, 12, 15]\n",
            "finished [10, 12, 16]\n",
            "finished [10, 13, 14]\n",
            "finished [10, 13, 15]\n",
            "finished [10, 13, 16]\n",
            "finished [10, 14, 15]\n",
            "finished [10, 14, 16]\n",
            "finished [10, 15, 16]\n",
            "finished [11, 12, 13]\n",
            "finished [11, 12, 14]\n",
            "finished [11, 12, 15]\n",
            "finished [11, 12, 16]\n",
            "finished [11, 13, 14]\n",
            "finished [11, 13, 15]\n",
            "finished [11, 13, 16]\n",
            "finished [11, 14, 15]\n",
            "finished [11, 14, 16]\n",
            "finished [11, 15, 16]\n",
            "finished [12, 13, 14]\n",
            "finished [12, 13, 15]\n",
            "finished [12, 13, 16]\n",
            "finished [12, 14, 15]\n",
            "finished [12, 14, 16]\n",
            "finished [12, 15, 16]\n",
            "finished [13, 14, 15]\n",
            "finished [13, 14, 16]\n",
            "finished [13, 15, 16]\n",
            "finished [14, 15, 16]\n",
            "checked 2690688000 cases\n",
            "found 184056 magic triangles\n"
          ],
          "name": "stdout"
        }
      ]
    },
    {
      "cell_type": "code",
      "metadata": {
        "id": "r67gNSBHySr1",
        "colab": {
          "base_uri": "https://localhost:8080/"
        },
        "outputId": "e31d9157-1034-47f5-96b4-924ca824980c"
      },
      "source": [
        "len(magicConfigs)"
      ],
      "execution_count": null,
      "outputs": [
        {
          "output_type": "execute_result",
          "data": {
            "text/plain": [
              "184056"
            ]
          },
          "metadata": {
            "tags": []
          },
          "execution_count": 3
        }
      ]
    },
    {
      "cell_type": "code",
      "metadata": {
        "id": "OLcH83PkrSmK",
        "colab": {
          "base_uri": "https://localhost:8080/"
        },
        "outputId": "26b480c2-1ab7-47ff-af4f-16ba54ad6703"
      },
      "source": [
        "len(magicConfigs)*(6**4)"
      ],
      "execution_count": null,
      "outputs": [
        {
          "output_type": "execute_result",
          "data": {
            "text/plain": [
              "238536576"
            ]
          },
          "metadata": {
            "tags": []
          },
          "execution_count": 4
        }
      ]
    },
    {
      "cell_type": "code",
      "metadata": {
        "id": "7gS7SLbV9862",
        "colab": {
          "base_uri": "https://localhost:8080/"
        },
        "outputId": "c0f6525e-640b-43ed-a85a-5403643723fb"
      },
      "source": [
        "magicConfigs[:20]"
      ],
      "execution_count": null,
      "outputs": [
        {
          "output_type": "execute_result",
          "data": {
            "text/plain": [
              "[[[1, 2, 10], [4, 9, 13], [5, 7, 12], [6, 8, 11], 3, 14, 15, 16],\n",
              " [[1, 2, 10], [4, 9, 13], [5, 8, 11], [6, 7, 12], 3, 14, 15, 16],\n",
              " [[1, 2, 10], [4, 9, 13], [6, 7, 11], [5, 8, 12], 3, 14, 15, 16],\n",
              " [[1, 2, 10], [5, 8, 13], [4, 9, 11], [6, 7, 12], 3, 14, 15, 16],\n",
              " [[1, 2, 10], [5, 8, 13], [6, 7, 11], [4, 9, 12], 3, 14, 15, 16],\n",
              " [[1, 2, 10], [5, 9, 12], [4, 7, 13], [6, 8, 11], 3, 14, 15, 16],\n",
              " [[1, 2, 10], [5, 9, 12], [6, 7, 11], [4, 8, 13], 3, 14, 15, 16],\n",
              " [[1, 2, 10], [6, 7, 13], [4, 8, 12], [5, 9, 11], 3, 14, 15, 16],\n",
              " [[1, 2, 10], [6, 7, 13], [4, 9, 11], [5, 8, 12], 3, 14, 15, 16],\n",
              " [[1, 2, 10], [6, 7, 13], [5, 8, 11], [4, 9, 12], 3, 14, 15, 16],\n",
              " [[1, 2, 10], [6, 8, 12], [4, 7, 13], [5, 9, 11], 3, 14, 15, 16],\n",
              " [[1, 2, 10], [6, 8, 12], [4, 9, 11], [5, 7, 13], 3, 14, 15, 16],\n",
              " [[1, 2, 10], [6, 9, 11], [4, 7, 13], [5, 8, 12], 3, 14, 15, 16],\n",
              " [[1, 2, 10], [6, 9, 11], [4, 8, 12], [5, 7, 13], 3, 14, 15, 16],\n",
              " [[1, 2, 10], [6, 9, 11], [5, 7, 12], [4, 8, 13], 3, 14, 15, 16],\n",
              " [[1, 2, 10], [7, 8, 11], [5, 6, 13], [4, 9, 12], 3, 14, 15, 16],\n",
              " [[1, 2, 11], [3, 9, 13], [4, 7, 12], [6, 8, 10], 5, 14, 15, 16],\n",
              " [[1, 2, 11], [3, 9, 13], [6, 7, 10], [4, 8, 12], 5, 14, 15, 16],\n",
              " [[1, 2, 11], [3, 9, 14], [5, 6, 12], [7, 8, 10], 4, 13, 15, 16],\n",
              " [[1, 2, 11], [3, 9, 14], [5, 8, 10], [6, 7, 12], 4, 13, 15, 16]]"
            ]
          },
          "metadata": {
            "tags": []
          },
          "execution_count": 5
        }
      ]
    },
    {
      "cell_type": "markdown",
      "metadata": {
        "id": "s0Pvyj9HHhx-"
      },
      "source": [
        "Now compute the frequencies of each integer in each position."
      ]
    },
    {
      "cell_type": "code",
      "metadata": {
        "id": "xogbYvpDO8lV"
      },
      "source": [
        "# function to compute frequencies for 4-level triangle\n",
        "def computeFrequencies4(configs):\n",
        "  corner = [0]*16\n",
        "  border = [0]*16\n",
        "  interior = [0]*16\n",
        "  center = [0]*16\n",
        "\n",
        "  for sol in configs:\n",
        "    # corners\n",
        "    entries = sol[0]\n",
        "    for i in entries:\n",
        "      corner[i-1] += 1\n",
        "\n",
        "    # borders\n",
        "    entries = sol[1] + sol[2] + sol[3]\n",
        "    for i in entries:\n",
        "      border[i-1] += 1\n",
        "\n",
        "    # interior\n",
        "    interior[sol[5]-1] += 1\n",
        "    interior[sol[6]-1] += 1\n",
        "    interior[sol[7]-1] += 1\n",
        "\n",
        "    # center\n",
        "    center[sol[4]-1] += 1\n",
        "\n",
        "  return corner, border, interior, center"
      ],
      "execution_count": null,
      "outputs": []
    },
    {
      "cell_type": "code",
      "metadata": {
        "id": "QryRuKPRQH2Z"
      },
      "source": [
        "corner, border, interior, center = computeFrequencies4(magicConfigs)"
      ],
      "execution_count": null,
      "outputs": []
    },
    {
      "cell_type": "markdown",
      "metadata": {
        "id": "0Rfm3B24Ho0m"
      },
      "source": [
        "Here are the frequencies. Observe that the border frequencies are exactly three times the corner frequencies, and the interior frequencies are exactly three times the center frequencies."
      ]
    },
    {
      "cell_type": "code",
      "metadata": {
        "colab": {
          "base_uri": "https://localhost:8080/"
        },
        "id": "wS5J8fKfQLjU",
        "outputId": "23e4c0a8-de29-4fdb-f4e0-6e0520203023"
      },
      "source": [
        "print(corner)\n",
        "print(border)\n",
        "print(interior)\n",
        "print(center)"
      ],
      "execution_count": null,
      "outputs": [
        {
          "output_type": "stream",
          "text": [
            "[34536, 34436, 34565, 34422, 34523, 34532, 34491, 34579, 34579, 34491, 34532, 34523, 34422, 34565, 34436, 34536]\n",
            "[103608, 103308, 103695, 103266, 103569, 103596, 103473, 103737, 103737, 103473, 103596, 103569, 103266, 103695, 103308, 103608]\n",
            "[34434, 34734, 34347, 34776, 34473, 34446, 34569, 34305, 34305, 34569, 34446, 34473, 34776, 34347, 34734, 34434]\n",
            "[11478, 11578, 11449, 11592, 11491, 11482, 11523, 11435, 11435, 11523, 11482, 11491, 11592, 11449, 11578, 11478]\n"
          ],
          "name": "stdout"
        }
      ]
    },
    {
      "cell_type": "code",
      "metadata": {
        "colab": {
          "base_uri": "https://localhost:8080/"
        },
        "id": "bjs8lJchQkFR",
        "outputId": "5819f5b0-29c1-4d15-9072-5516f7123ce0"
      },
      "source": [
        "print([3*i for i in corner])"
      ],
      "execution_count": null,
      "outputs": [
        {
          "output_type": "stream",
          "text": [
            "[103608, 103308, 103695, 103266, 103569, 103596, 103473, 103737, 103737, 103473, 103596, 103569, 103266, 103695, 103308, 103608]\n"
          ],
          "name": "stdout"
        }
      ]
    },
    {
      "cell_type": "code",
      "metadata": {
        "colab": {
          "base_uri": "https://localhost:8080/"
        },
        "id": "m-l02xLjQO1J",
        "outputId": "d0bb808b-fe29-439c-b601-581dd41fca50"
      },
      "source": [
        "print([3*i for i in center])"
      ],
      "execution_count": null,
      "outputs": [
        {
          "output_type": "stream",
          "text": [
            "[34434, 34734, 34347, 34776, 34473, 34446, 34569, 34305, 34305, 34569, 34446, 34473, 34776, 34347, 34734, 34434]\n"
          ],
          "name": "stdout"
        }
      ]
    }
  ]
}